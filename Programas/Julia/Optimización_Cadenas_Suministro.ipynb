{
 "cells": [
  {
   "cell_type": "markdown",
   "id": "descending-swiss",
   "metadata": {},
   "source": [
    "# Optimización por cúmulo de partículas\n",
    "\n",
    "***\n",
    "\n",
    "La optimización por cúmulo de partículas es una clase de algoritmo evolutivo y metaheurística para búsqueda en espacios de soluciones candidatas. En este método de optimización se tiene una función a optimizar mediante la mejora de soluciones candidatas. Estas soluciones se denominan partículas, y se mueven a través del espacio de búsqueda siguiendo un modelo matemático que toma en cuenta la posición y velocidad de la partícula.\n",
    "\n",
    "Una partícula $X$ se mueve en un espacio $k$-dimensional para optimizar una función. En cada iteración del algoritmo, la partícula se desplazará en dirección de la velocidad que la corresponde. La velocidad de la partícula es el vector resultante de tres distintas velocidades:\n",
    "- Un factor de momento, por el cual se preserva la velocidad en la iteración anterior.\n",
    "- Un factor cognitivo, por el cual la partícula se ve atraída hacia su mejor posición histórica.\n",
    "- Un factor social, por el cual la partícula se ve atraída hacia la mejor posición histórica de todo el cúmulo.\n",
    "\n",
    "La influencia de cada uno de estos factores a su vez se ve determinada por una serie de hiperparámetros y un proceso aleatorio."
   ]
  },
  {
   "cell_type": "markdown",
   "id": "standing-friend",
   "metadata": {},
   "source": [
    "## Formulación matemática\n",
    "\n",
    "***\n",
    "\n",
    "Matemáticamente, el algoritmo de optimización por cúmulo de partículas se puede formular de la siguiente manera:\n",
    "\n",
    "Existirán un conjunto de $n$ partículas, $\\mathbf{X} = [X_1, ... X_n]$.\n",
    "\n",
    "Cada partícula $X_i$ es un vector en el espacio de búsqueda $k$-dimensional. $X_i = [X_{i1}, X_{i2}, ...,  X_{ik}]$. Cada partícula $X_i$ será inicializada en un punto aleatorio del espacio de búsqueda.\n",
    "\n",
    "Dado que cada partícula se desplazará conforme pase el tiempo, será conveniente indexarla como $X_i(t)$ para referirse a la posición de la partícula $X_i$ (la solución que esta codifica al problema de optimización) en el tiempo $t$.\n",
    "\n",
    "\n",
    "Para cada partícula $X_i$ en el tiempo $t$ se realizará el siguiente proceso:\n",
    "\n",
    "1. Se calcula el desempeño de la solución $X_i(t)$, $m\\big(X_i(t)\\big)$.\n",
    "2. Se almacenarán los siguientes datos:\n",
    "    - La mejor solución global histórica, $Y_b$.\n",
    "    - La métrica asociada a la mejor solución global, $m\\big(Y_b\\big)$.\n",
    "    - La mejor solución histórica de la partícula $X_i$, $Y_{i}$.\n",
    "    - La métrica asociada a la mejor solución histórica de la partícula $X_i$, $m\\big(Y_{i}\\big)$.\n",
    "3. Se obtendrá la velocidad de la partícula $X_i(t)$, $V_i(t)$ utilizando la siguiente fórmula:\n",
    "\n",
    "$$V_{i}(t) = \\nu \\cdot V_{i}(t-1) + c_1 \\cdot r_1 \\cdot [Y_{i} - X_{i}(t)] + c_2 \\cdot r_2 \\cdot [Y_{b} - X_{i}(t)]$$\n",
    "\n",
    "\n",
    "En donde:\n",
    "- $r_1$ y $r_2$ son V.A.I.I.D. $\\sim U_{[0,1]}$\n",
    "- $\\nu$, $c_1$ y $c_2$ son hiperparámetros constantes al algoritmo.\n",
    "\n",
    "\n",
    "4. Se desplazará la partícula a una nueva posición para el tiempo $t+1$:\n",
    "\n",
    "$$X_i(t+1) = X_i(t) + V_{i}(t)$$\n",
    "\n",
    "5. Si se detecta la convergencia o pasan las iteraciones deseadas del algoritmo, este se detiene. De lo contrario, se procede a la iteración en el tiempo $t+1$, volviendo a iniciar del paso 1."
   ]
  },
  {
   "cell_type": "markdown",
   "id": "front-progressive",
   "metadata": {},
   "source": [
    "El poder de este método de optimización proviene de no asumir nada sobre la función de optimización y del cálculo de la velocidad:\n",
    "\n",
    "$$V_{i}(t) = \\nu \\cdot V_{i}(t-1) + c_1 \\cdot r_1 \\cdot [Y_{i} - X_{i}(t)] + c_2 \\cdot r_2 \\cdot [Y_{b} - X_{i}(t)]$$\n",
    "\n",
    "En este caso, a $[Y_{i} - X_{i}(t)]$ se le conoce como el factor cognitivo y a $[Y_{b} - X_{i}(t)]$ se le conoce como el factor social. Ambos pueden influenciar el desplazamiento en mayor o menor medida por medio de los hiperparámetros $c_1$ y $c_2$. De igual manera, el factor aleatorio en cada uno en conjunto al factor de momento permite una exploración más flexible del espacio de búsqueda."
   ]
  },
  {
   "cell_type": "markdown",
   "id": "ongoing-wright",
   "metadata": {},
   "source": [
    "Aunque este método de optimización tiene múltiples ventajas, no asegura encontrar una solución óptima en ningún momento. De igual manera, esta formulación tiene la desventaja de que solo funciona para espacios $k$-dimensionales contínuos. Para el problema que se tratará en este trabajo, se definirá una variación de este mismo algoritmo."
   ]
  },
  {
   "cell_type": "markdown",
   "id": "acquired-worthy",
   "metadata": {},
   "source": [
    "# Optimización por cúmulo de partículas para espacios binarios\n",
    "\n",
    "***\n",
    "\n",
    "La optimización en espacios binarios $k$-dimensionales suele tratarse en problemas que lidian con la inclusión o exclusión de elementos para la generación de soluciones. Desgraciadamente el algoritmo de cúmulo de partículas pierde sentido en este tipo de espacios debido a que no existe un equivalente directo de la velocidad para espacios binarios.\n",
    "\n",
    "En 1997 J. Kennedy y R.C. Eberhart propusieron la versión discreta binaria del algoritmo de optimización por cúmulo de partículas. Este se basa en una analogía para la distancia y velocidad en espacios binairos.\n",
    "\n",
    "En un espacio binario, una partícula se puede mover más lejos o cerca de su posición actual dependiendo del número de bits que se invierten. Entonces, la velocidad de la partícula se puede pensar como la distancia de Hamming entre dos iteraciones de la misma $X_i(t)$ y $X_i(t+1)$.\n",
    "\n",
    "En este espacio, se puede definir la velocidad para cada una de las $k$ componentes como una probabilidad de que un bit se encuentre en 0 o 1. Por ejemplo, si la mejor posición de la partícula en su coordenada $i$ es 0, entonces $[Y_{i} - X_{i}(t)]$ en la posición $i$ se puede calcular como $+1$, $0$, o $-1$. Estas distancias en el componente $i$ a su vez se pueden usar para aumentar o disminuir la probabilidad de transición en esta componente.\n",
    "\n",
    "Si no se modifica la fórmula para la velocidad:\n",
    "\n",
    "$$V_{i}(t) = \\nu \\cdot V_{i}(t-1) + c_1 \\cdot r._1 \\cdot [Y_{i} - X_{i}(t)] + c_2 \\cdot r_2 \\cdot [Y_{b} - X_{i}(t)]$$\n",
    "\n",
    "Esta sigue teniendo sentido si consideramos que las posiciones en cada componente de la partícula solo pueden ser 0 y 1. Como la velocidad debe ser una probabilidad entre 0 y 1, se aplica la función sigmoide a la velocidad y se utiliza la siguiente regla de decisión en cada componente $j$ de la partícula:\n",
    "\n",
    "- Si $\\tilde{r} < S\\big(V_{ij}(t)\\big)$, $X_ij(t+1) = 1$\n",
    "- En el caso contrario, $X_ij(t+1) = 0$.\n",
    "\n",
    "Donde $\\tilde{r} \\sim U_{[0,1]}$.\n",
    "\n",
    "De esta forma, el algoritmo queda de la siguiente manera:"
   ]
  },
  {
   "cell_type": "markdown",
   "id": "nutritional-strike",
   "metadata": {},
   "source": [
    "## Algoritmo\n",
    "\n",
    "***\n",
    "\n",
    "Para cada partícula $X_i$ en el tiempo $t$ se realizará el siguiente proceso:\n",
    "\n",
    "1. Se calcula el desempeño de la solución $X_i(t)$, $m\\big(X_i(t)\\big)$.\n",
    "2. Se almacenarán los siguientes datos:\n",
    "    - La mejor solución global histórica, $Y_b$.\n",
    "    - La métrica asociada a la mejor solución global, $m\\big(Y_b\\big)$.\n",
    "    - La mejor solución histórica de la partícula $X_i$, $Y_{i}$.\n",
    "    - La métrica asociada a la mejor solución histórica de la partícula $X_i$, $m\\big(Y_{i}\\big)$.\n",
    "3. Se obtendrá la velocidad de la partícula $X_i(t)$, $V_i(t)$ utilizando la siguiente fórmula, en cada componente $j \\in [1,k]$:\n",
    "\n",
    "$$V_{ij}(t) = \\nu \\cdot V_{ij}(t-1) + c_1 \\cdot r_1 \\cdot [Y_{ij} - X_{ij}(t)] + c_2 \\cdot r_2 \\cdot [Y_{bj} - X_{ij}(t)]$$\n",
    "\n",
    "\n",
    "En donde:\n",
    "- $r_1$ y $r_2$ son V.A.I.I.D. $\\sim U_{[0,1]}$\n",
    "- $\\nu$, $c_1$ y $c_2$ son hiperparámetros constantes al algoritmo.\n",
    "\n",
    "\n",
    "4. Se desplazará la partícula a una nueva posición para el tiempo $t+1$ de la siguiente forma:\n",
    "\n",
    "$$X_{ij}(t+1) = \n",
    "\\begin{cases} \n",
    "      0 & \\tilde{r} > S(V_{ij}(t)) \\\\\n",
    "      1 & \\tilde{r} \\leq S(V_{ij}(t))\n",
    "\\end{cases}\n",
    "$$\n",
    "\n",
    "En donde:\n",
    "- $\\tilde{r}$ $\\sim U_{[0,1]}$\n",
    "- $S$ es la función sigmoide.\n",
    "\n",
    "5. Si se detecta la convergencia o pasan las iteraciones deseadas del algoritmo, este se detiene. De lo contrario, se procede a la iteración en el tiempo $t+1$, volviendo a iniciar del paso 1."
   ]
  },
  {
   "cell_type": "markdown",
   "id": "shared-elevation",
   "metadata": {},
   "source": [
    "# Implementación ejemplo\n",
    "\n",
    "Para ejemplificar el uso del algoritmo de cúmulo de partículas binario se hará una implementación sencilla antes de proceder al tema principal del trabajo."
   ]
  },
  {
   "cell_type": "code",
   "execution_count": 1,
   "id": "median-construction",
   "metadata": {},
   "outputs": [],
   "source": [
    "#Paquetes necesarios para ejecutar este documento\n",
    "using Pkg\n",
    "Pkg.add(\"MetaGraphs\")\n",
    "Pkg.add(\"GraphPlot\")\n",
    "Pkg.add(\"LightGraphs\")\n",
    "Pkg.add(\"Colors\")\n",
    "Pkg.add(\"CUDA\")\n",
    "Pkg.add(\"JuMP\")\n",
    "Pkg.add(\"GLPK\")"
   ]
  },
  {
   "cell_type": "code",
   "execution_count": 2,
   "id": "hourly-brown",
   "metadata": {},
   "outputs": [],
   "source": [
    "using LightGraphs, MetaGraphs, GraphPlot, Colors, CUDA, JuMP, GLPK"
   ]
  },
  {
   "cell_type": "code",
   "execution_count": 3,
   "id": "competent-bracket",
   "metadata": {},
   "outputs": [
    {
     "data": {
      "text/plain": [
       "200"
      ]
     },
     "execution_count": 3,
     "metadata": {},
     "output_type": "execute_result"
    }
   ],
   "source": [
    "k = 10 #El número de dimensiones del espacio de búsqueda binario\n",
    "n = 200; #El número de particulas"
   ]
  },
  {
   "cell_type": "code",
   "execution_count": 4,
   "id": "integrated-secret",
   "metadata": {},
   "outputs": [
    {
     "data": {
      "text/plain": [
       "10-element Vector{Bool}:\n",
       " 1\n",
       " 0\n",
       " 1\n",
       " 1\n",
       " 0\n",
       " 0\n",
       " 0\n",
       " 0\n",
       " 0\n",
       " 1"
      ]
     },
     "execution_count": 4,
     "metadata": {},
     "output_type": "execute_result"
    }
   ],
   "source": [
    "function random_particle(k) #Se inicializa una partícula aleatoria\n",
    "   rand(Bool, k)\n",
    "end;\n",
    "\n",
    "x = random_particle(k)"
   ]
  },
  {
   "cell_type": "code",
   "execution_count": 5,
   "id": "fitted-retail",
   "metadata": {},
   "outputs": [
    {
     "data": {
      "text/plain": [
       "200×10 Matrix{Bool}:\n",
       " 0  1  1  1  1  0  1  0  0  1\n",
       " 1  1  0  1  0  0  0  0  1  0\n",
       " 1  1  1  0  0  0  0  1  1  1\n",
       " 1  1  1  1  1  1  1  1  0  1\n",
       " 0  1  0  0  1  0  1  1  0  0\n",
       " 0  1  0  1  0  0  0  0  1  1\n",
       " 0  1  0  1  1  1  0  0  1  1\n",
       " 1  0  0  1  0  1  0  1  1  1\n",
       " 0  1  0  1  0  0  0  1  0  1\n",
       " 1  0  0  1  1  0  0  0  1  0\n",
       " 1  0  1  1  1  0  0  0  1  1\n",
       " 0  1  1  0  0  0  1  0  0  1\n",
       " 0  0  0  1  0  1  0  1  0  0\n",
       " ⋮              ⋮           \n",
       " 1  1  1  0  0  0  0  1  1  1\n",
       " 0  0  0  0  1  1  0  0  0  0\n",
       " 1  0  0  1  0  1  1  0  1  1\n",
       " 0  0  1  1  1  1  0  1  0  0\n",
       " 0  0  1  0  1  0  1  0  1  0\n",
       " 0  1  1  0  0  0  1  0  1  1\n",
       " 1  0  0  0  1  0  1  0  0  1\n",
       " 0  1  1  1  0  1  1  1  0  1\n",
       " 0  1  1  1  0  0  0  1  0  0\n",
       " 1  0  1  0  0  1  0  1  0  1\n",
       " 1  0  0  1  1  1  0  0  0  0\n",
       " 0  1  1  0  0  0  0  1  0  0"
      ]
     },
     "execution_count": 5,
     "metadata": {},
     "output_type": "execute_result"
    }
   ],
   "source": [
    "function random_particles(k, n) #Se inicializan n partículas aleatorias\n",
    "    rand(Bool, (n,k))\n",
    "end;\n",
    "\n",
    "X = random_particles(k, n)"
   ]
  },
  {
   "cell_type": "code",
   "execution_count": 6,
   "id": "regional-sampling",
   "metadata": {},
   "outputs": [],
   "source": [
    "# Métrica de prueba para el espacio binario.\n",
    "# En este ejemplo se buscará maximizar la misma.\n",
    "# Obviamente la solución óptima es [1 1 0 0 1 1 1 0 0 1]\n",
    "function metric(A)\n",
    "    [2.0 0.3 -1.0 -4.0 5.0 7.0 60.0 -1.0 -1000.0 9.0] * A\n",
    "end;"
   ]
  },
  {
   "cell_type": "code",
   "execution_count": 7,
   "id": "saving-heater",
   "metadata": {},
   "outputs": [
    {
     "data": {
      "text/plain": [
       "200×1 Matrix{Float64}:\n",
       "    69.3\n",
       " -1001.7\n",
       "  -990.7\n",
       "    77.3\n",
       "    64.3\n",
       "  -994.7\n",
       "  -982.7\n",
       "  -987.0\n",
       "     4.3\n",
       "  -997.0\n",
       "  -989.0\n",
       "    68.3\n",
       "     2.0\n",
       "     ⋮\n",
       "  -990.7\n",
       "    12.0\n",
       "  -926.0\n",
       "     6.0\n",
       "  -936.0\n",
       "  -931.7\n",
       "    76.0\n",
       "    70.3\n",
       "    -5.7\n",
       "    16.0\n",
       "    10.0\n",
       "    -1.7"
      ]
     },
     "execution_count": 7,
     "metadata": {},
     "output_type": "execute_result"
    }
   ],
   "source": [
    "# Cálculo de la métrica para las n partículas\n",
    "M = mapslices(metric, X; dims=2)"
   ]
  },
  {
   "cell_type": "code",
   "execution_count": 8,
   "id": "floppy-thread",
   "metadata": {},
   "outputs": [
    {
     "data": {
      "text/plain": [
       "200×10 Matrix{Bool}:\n",
       " 0  1  1  1  1  0  1  0  0  1\n",
       " 1  1  0  1  0  0  0  0  1  0\n",
       " 1  1  1  0  0  0  0  1  1  1\n",
       " 1  1  1  1  1  1  1  1  0  1\n",
       " 0  1  0  0  1  0  1  1  0  0\n",
       " 0  1  0  1  0  0  0  0  1  1\n",
       " 0  1  0  1  1  1  0  0  1  1\n",
       " 1  0  0  1  0  1  0  1  1  1\n",
       " 0  1  0  1  0  0  0  1  0  1\n",
       " 1  0  0  1  1  0  0  0  1  0\n",
       " 1  0  1  1  1  0  0  0  1  1\n",
       " 0  1  1  0  0  0  1  0  0  1\n",
       " 0  0  0  1  0  1  0  1  0  0\n",
       " ⋮              ⋮           \n",
       " 1  1  1  0  0  0  0  1  1  1\n",
       " 0  0  0  0  1  1  0  0  0  0\n",
       " 1  0  0  1  0  1  1  0  1  1\n",
       " 0  0  1  1  1  1  0  1  0  0\n",
       " 0  0  1  0  1  0  1  0  1  0\n",
       " 0  1  1  0  0  0  1  0  1  1\n",
       " 1  0  0  0  1  0  1  0  0  1\n",
       " 0  1  1  1  0  1  1  1  0  1\n",
       " 0  1  1  1  0  0  0  1  0  0\n",
       " 1  0  1  0  0  1  0  1  0  1\n",
       " 1  0  0  1  1  1  0  0  0  0\n",
       " 0  1  1  0  0  0  0  1  0  0"
      ]
     },
     "execution_count": 8,
     "metadata": {},
     "output_type": "execute_result"
    }
   ],
   "source": [
    "#Inicialización de las mejores soluciones\n",
    "Y = X"
   ]
  },
  {
   "cell_type": "code",
   "execution_count": 9,
   "id": "reasonable-romania",
   "metadata": {},
   "outputs": [
    {
     "data": {
      "text/plain": [
       "200×10 Matrix{Float64}:\n",
       " 0.0  0.0  0.0  0.0  0.0  0.0  0.0  0.0  0.0  0.0\n",
       " 0.0  0.0  0.0  0.0  0.0  0.0  0.0  0.0  0.0  0.0\n",
       " 0.0  0.0  0.0  0.0  0.0  0.0  0.0  0.0  0.0  0.0\n",
       " 0.0  0.0  0.0  0.0  0.0  0.0  0.0  0.0  0.0  0.0\n",
       " 0.0  0.0  0.0  0.0  0.0  0.0  0.0  0.0  0.0  0.0\n",
       " 0.0  0.0  0.0  0.0  0.0  0.0  0.0  0.0  0.0  0.0\n",
       " 0.0  0.0  0.0  0.0  0.0  0.0  0.0  0.0  0.0  0.0\n",
       " 0.0  0.0  0.0  0.0  0.0  0.0  0.0  0.0  0.0  0.0\n",
       " 0.0  0.0  0.0  0.0  0.0  0.0  0.0  0.0  0.0  0.0\n",
       " 0.0  0.0  0.0  0.0  0.0  0.0  0.0  0.0  0.0  0.0\n",
       " 0.0  0.0  0.0  0.0  0.0  0.0  0.0  0.0  0.0  0.0\n",
       " 0.0  0.0  0.0  0.0  0.0  0.0  0.0  0.0  0.0  0.0\n",
       " 0.0  0.0  0.0  0.0  0.0  0.0  0.0  0.0  0.0  0.0\n",
       " ⋮                        ⋮                   \n",
       " 0.0  0.0  0.0  0.0  0.0  0.0  0.0  0.0  0.0  0.0\n",
       " 0.0  0.0  0.0  0.0  0.0  0.0  0.0  0.0  0.0  0.0\n",
       " 0.0  0.0  0.0  0.0  0.0  0.0  0.0  0.0  0.0  0.0\n",
       " 0.0  0.0  0.0  0.0  0.0  0.0  0.0  0.0  0.0  0.0\n",
       " 0.0  0.0  0.0  0.0  0.0  0.0  0.0  0.0  0.0  0.0\n",
       " 0.0  0.0  0.0  0.0  0.0  0.0  0.0  0.0  0.0  0.0\n",
       " 0.0  0.0  0.0  0.0  0.0  0.0  0.0  0.0  0.0  0.0\n",
       " 0.0  0.0  0.0  0.0  0.0  0.0  0.0  0.0  0.0  0.0\n",
       " 0.0  0.0  0.0  0.0  0.0  0.0  0.0  0.0  0.0  0.0\n",
       " 0.0  0.0  0.0  0.0  0.0  0.0  0.0  0.0  0.0  0.0\n",
       " 0.0  0.0  0.0  0.0  0.0  0.0  0.0  0.0  0.0  0.0\n",
       " 0.0  0.0  0.0  0.0  0.0  0.0  0.0  0.0  0.0  0.0"
      ]
     },
     "execution_count": 9,
     "metadata": {},
     "output_type": "execute_result"
    }
   ],
   "source": [
    "# Velocidades en la iteración previa inician en cero.\n",
    "V = zeros((n,k))"
   ]
  },
  {
   "cell_type": "code",
   "execution_count": 10,
   "id": "general-durham",
   "metadata": {},
   "outputs": [],
   "source": [
    "# Definición de la función sigmoide\n",
    "sigmoid(z::Real) = 1.0 / (1.0 + exp(-z));"
   ]
  },
  {
   "cell_type": "code",
   "execution_count": 11,
   "id": "developmental-button",
   "metadata": {},
   "outputs": [
    {
     "data": {
      "text/plain": [
       "10"
      ]
     },
     "execution_count": 11,
     "metadata": {},
     "output_type": "execute_result"
    }
   ],
   "source": [
    "#Hiperparámetros del algoritmo\n",
    "\n",
    "iterations = 100 #Cuantas iteraciones realizar\n",
    "ν = 0.8 #Ponderación para el momento de la velocidad\n",
    "c_1 = 10 #Ponderación para el factor cognitivo de la velocidad\n",
    "c_2 = 10; #Ponderación para el factor social de la velocidad"
   ]
  },
  {
   "cell_type": "code",
   "execution_count": 12,
   "id": "flush-yield",
   "metadata": {
    "scrolled": true
   },
   "outputs": [
    {
     "name": "stdout",
     "output_type": "stream",
     "text": [
      "82.0\n",
      "83.3\n",
      "83.3\n",
      "83.3\n",
      "83.3\n",
      "83.3\n",
      "83.3\n",
      "83.3\n",
      "83.3\n",
      "83.3\n"
     ]
    }
   ],
   "source": [
    "Y_b = NaN\n",
    "M_b = NaN\n",
    "\n",
    "for i in 1:iterations\n",
    "    \n",
    "    #Obtengo las métricas de las partículas\n",
    "    M_t = mapslices(metric, X; dims=2)\n",
    "    \n",
    "    #M = metric(X, n, k, n_s, n_p, n_d, n_c, W_s, W_p, W_d, W_c, f_p, f_d, u_s_p, u_p_d, u_d_c)\n",
    "    \n",
    "    #En qué partículas existió mejora\n",
    "    improvement = M_t .> M\n",
    "\n",
    "    #Actualizo las mejores métricas personales\n",
    "    M[improvement] = M_t[improvement]\n",
    "\n",
    "    #Actualizo las mejores soluciones personales\n",
    "    Y[improvement[:],:] = X[improvement[:],:]\n",
    "    \n",
    "    #Encuentro la mejor métrica global así como su índice en M\n",
    "    M_b, M_bidx = findmax(M)\n",
    "    \n",
    "    #Encuentro la mejor solución global\n",
    "    Y_b = Y[M_bidx[2], :]\n",
    "\n",
    "    #Encuentro la velocidad (probabilidad de cero o uno)\n",
    "    V = (ν * V) + (c_1 * rand(Float64, (n,k)) .* (Y - X)) + (c_2 * rand(Float64, (n,k)) .* (Y_b' .- X))\n",
    "\n",
    "    #Propongo nuevos candidatos\n",
    "    X = (rand(Float64, (n,k)) .< sigmoid.(V))\n",
    "    #Cada 10 iteraciones imprimo la métrica de la mejor solución\n",
    "    if i % 10 == 1\n",
    "        print(M_b)\n",
    "        print(\"\\n\")\n",
    "    end\n",
    "end"
   ]
  },
  {
   "cell_type": "code",
   "execution_count": 13,
   "id": "confirmed-delaware",
   "metadata": {},
   "outputs": [
    {
     "data": {
      "text/plain": [
       "10-element Vector{Bool}:\n",
       " 1\n",
       " 1\n",
       " 0\n",
       " 0\n",
       " 1\n",
       " 1\n",
       " 1\n",
       " 0\n",
       " 0\n",
       " 1"
      ]
     },
     "execution_count": 13,
     "metadata": {},
     "output_type": "execute_result"
    }
   ],
   "source": [
    "#La mejor solución encontrada\n",
    "Y_b"
   ]
  },
  {
   "cell_type": "markdown",
   "id": "hollow-incidence",
   "metadata": {},
   "source": [
    "Como se podrá recordar, la métrica de prueba tenía como mejor solución por diseño al vector $[1 1 0 0 1 1 1 0 0 1]$. El algoritmo la encontró con relativamente pocas iteraciones."
   ]
  },
  {
   "cell_type": "code",
   "execution_count": 14,
   "id": "healthy-estate",
   "metadata": {},
   "outputs": [
    {
     "data": {
      "text/plain": [
       "83.3"
      ]
     },
     "execution_count": 14,
     "metadata": {},
     "output_type": "execute_result"
    }
   ],
   "source": [
    "#La métrica asociada a la mejor solución\n",
    "M_b"
   ]
  },
  {
   "attachments": {
    "image-2.png": {
     "image/png": "[encoded data removed]"
    }
   },
   "cell_type": "markdown",
   "id": "friendly-asset",
   "metadata": {},
   "source": [
    "# Problema a tratar\n",
    "\n",
    "En este trabajo se buscará realizar una optimización de cadenas de suministros de múltiples etapas tal como se propone en la tesis adjunta. En una cadena de suministro existen productores ($S$), plantas ($P$), distribuidores ($D$) y consumidores ($C$). La finalidad del sistema es realizar el transporte entre etapas (de productores a plantas, plantas a distribuidores y distribuidores a consumidores) de tal manera que se pueda cubrir la demanda compuesta de todos los consumidores. \n",
    "\n",
    "Un problema de optimización común en ese tipo de sistemas es la apertura y cierre de plantas y centros de distribución. La cobertura de la demana de los clientes en muchos casos no requiere de la operación de todas las plantas y centros de distribución, y se puede generar una reducción de costos de toda la operación si se seleccionan correctamente las instalaciones que deben estar involucradas en una operación.\n",
    "\n",
    "![image-2.png](attachment:image-2.png)"
   ]
  },
  {
   "cell_type": "markdown",
   "id": "suitable-welsh",
   "metadata": {},
   "source": [
    "La resolución de este problema se puede realizar mediante una combinación del algoritmo de cúmulo de partículas en espacios binarios y programación lineal. El cúmulo de partículas se utilizará para proponer y generar la evolución de propuestas topológicas del sistema. Por otra parte, la métrica de costo será calculada por medio de optimización por programación lineal.\n",
    "\n",
    "A continuación se describe el planteamiento y funcionamiento de la solución:\n",
    "\n",
    "## Parte evolutiva\n",
    "\n",
    "***\n",
    "\n",
    "En una cadena de suministro multietapa se puede realizar la apertura y cierre de plantas y distribuidores con la finalidad de minimizar costos mientras se cubre la demanda de los clientes. Una solución primero se planteará como una partícula binaria con $k = n(p) + n(d)$ dimensiones, donde existe un bit que representa la apertura o cierre de una instalación. El algoritmo de cúmulo de partículas se encargará de generar topologías que puedan resolver el problema, y de hacer que el cúmulo evolucione hacia puntos más óptimos.\n",
    "\n",
    "#### Restricciones:\n",
    " - Abrir al menos una planta.\n",
    " - Abrir al menos un distribuidor.\n",
    " - Existen $Mn(p)$ plantas máximas que se pueden abrir.\n",
    " - Existen $Mn(d)$ distribuidores máximos que se pueden abrir.\n",
    " - La capacidad total de las plantas abiertas debe ser mayor o igual a la demanda de los consumidores.\n",
    " - La capacidad total de los distribuidores abiertos debe ser mayor o igual a la demanda de los consumidores.\n",
    " \n",
    "Las cuatro primeras restricciones se solucionan volteando bits aleatoriamente en la partícula (en la parte correspondiente a la restricción violada, por ejemplo aleatoriamente poniendo bits en cero para la parte de distribuidores si se están abriendo más de los permitidos).\n",
    " \n",
    " Por otro lado, si alguna de las últimas dos restricciones se incumple, la solución se considera **inválida**. A esta partícula se le aplica una penalización que consiste en no calcular su desempeño en el problema y directamente se le asigna un valor muy alto en la misma.\n",
    "\n",
    "## Solución por programación lineal\n",
    "\n",
    "***\n",
    "\n",
    "Posterior a la generación de partículas que en teoría pueden resolver el problema, se realiza una optimización para minimizar el costo de toda la operación.\n",
    "\n",
    "#### Minimización:\n",
    " - Se desea minimizar el costo total de la operación, definido como el costo fijo de operación de las instalaciones abiertas, sumado a la cantidad de producto que fluye entre instalaciones multiplicada por el costo unitario de este transporte.\n",
    " - En toda instalación debe entrar y salir la misma cantidad de producto.\n",
    " - Ninguna instalación debe exceder su capacidad.\n",
    " - A cada cliente debe llegar la cantidad exacta de producto que este demanda.\n",
    "\n",
    "Las restricciones anteriores son planteadas como un problema de programación lineal, en el cual se buscan las cantidades de producto que fluyen entre cada instalación de la cadena de suministro. La salida no se basa en estas cantidades, sino que simplemente se requiere encontrar el mínimo costo asociado a la topología."
   ]
  },
  {
   "cell_type": "markdown",
   "id": "palestinian-cable",
   "metadata": {},
   "source": [
    "## Datos a utilizar\n",
    "\n",
    "***\n",
    "\n",
    "En este caso se utilizarán los siguientes datos en el algoritmo:\n",
    "\n",
    "$S$: $\\{s_1, s_2, s_3\\}$, es la etapa de proveedores $S$.\n",
    "\n",
    "$P$: $\\{p_1, p_2, p_3, p_4, p_5\\}$, es la etapa de plantas $P$.\n",
    "\n",
    "$D$: $\\{d_1, d_2, d_3, d_4, d_5\\}$, es la etapa de distribuidores $D$.\n",
    "\n",
    "$C$: $\\{c_1, c_2, c_3, c_4\\}$, es la etapa de consumidores $C$.\n",
    "\n",
    "$W(\\xi)$: es la capacidad de $\\xi, \\forall \\xi \\in S \\cup P \\cup D$; o la demanda si $\\xi \\in C$, donde\n",
    "\n",
    "\n",
    "\n",
    "$$\\newcommand\\T{\\Rule{0pt}{1em}{.3em}}\n",
    "\\begin{array}{l|llll}\n",
    "\\hline\n",
    "i & W(s_i) & W(p_i) & W(d_i) & W(c_i) \\\\ \\hline\n",
    "1          & 500              & 400              & 530              & 460     \\\\\n",
    "2          & 650              & 550              & 590              & 330     \\\\\n",
    "3          & 390              & 490              & 400              & 450     \\\\\n",
    "4          &                  & 300              & 370              & 300     \\\\\n",
    "5          &                  & 500              & 580              &         \\\\ \\hline\n",
    "\\end{array}$$"
   ]
  },
  {
   "cell_type": "markdown",
   "id": "engaging-extreme",
   "metadata": {},
   "source": [
    "$$\n",
    "f: =\n",
    "\\begin{pmatrix}\n",
    "f_{p1} & f_{d1}\\\\\n",
    "f_{p2} & f_{d2}\\\\\n",
    "\\vdots & \\vdots\\\\\n",
    "f_{p5} & f_{d5}\n",
    "\\end{pmatrix} =\n",
    "\\begin{pmatrix}\n",
    "1800 & 1000\\\\\n",
    "900 & 900\\\\\n",
    "2100 & 1600\\\\\n",
    "1100 & 1500\\\\\n",
    "900 & 1400\n",
    "\\end{pmatrix} \\text{  costo fijo de mantener en operación las instalaciones de las etapas }P \\text{ y }D\n",
    "$$"
   ]
  },
  {
   "cell_type": "markdown",
   "id": "unique-dakota",
   "metadata": {},
   "source": [
    "$$\n",
    "u_{SP}: =\n",
    "\\begin{pmatrix}\n",
    "u_{s1p1} & u_{s1p2} & \\dots & u_{s1p5}\\\\\n",
    "u_{s2p1} & u_{s2p2} & \\dots & u_{s2p5}\\\\\n",
    "u_{s3p1} & u_{s3p2} & \\dots & u_{s3p5}\\\\\n",
    "\\end{pmatrix} =\n",
    "\\begin{pmatrix}\n",
    "5 & 6 & 4 & 7 & 5\\\\\n",
    "6 & 5 & 6 & 6 & 8\\\\\n",
    "7 & 6 & 3 & 9 & 6\n",
    "\\end{pmatrix} \\text{  costo unitario de transporte entre las etapas }S \\text{ y }P\n",
    "$$"
   ]
  },
  {
   "cell_type": "markdown",
   "id": "textile-influence",
   "metadata": {},
   "source": [
    "$$\n",
    "u_{PD}: =\n",
    "\\begin{pmatrix}\n",
    "u_{p1d1} & u_{p1d2} & \\dots & u_{p1d5}\\\\\n",
    "u_{p2d1} & u_{p2d2} & \\dots & u_{p2d5}\\\\\n",
    "\\vdots & \\vdots & \\ddots & \\vdots\\\\\n",
    "u_{p5d1} & u_{p5d2} & \\dots & u_{p5d5}\n",
    "\\end{pmatrix} =\n",
    "\\begin{pmatrix}\n",
    "5 & 8 & 4 & 3 & 5\\\\\n",
    "8 & 7 & 8 & 6 & 8\\\\\n",
    "4 & 7 & 4 & 5 & 4\\\\\n",
    "3 & 5 & 3 & 5 & 3\\\\\n",
    "5 & 6 & 6 & 8 & 3\n",
    "\\end{pmatrix} \\text{  costo unitario de transporte entre las etapas }P \\text{ y }D\n",
    "$$"
   ]
  },
  {
   "cell_type": "markdown",
   "id": "particular-dominant",
   "metadata": {},
   "source": [
    "$$\n",
    "u_{DC}: =\n",
    "\\begin{pmatrix}\n",
    "u_{d1c1} & u_{d1c2} & u_{d1c3} & u_{d1c4}\\\\\n",
    "u_{d2c1} & u_{d2c2} & u_{d2c3} & u_{d2c4}\\\\\n",
    "\\vdots & \\vdots & \\vdots & \\vdots\\\\\n",
    "u_{d5c1} & u_{d5c2} & u_{d5c3} & u_{d5c4}\n",
    "\\end{pmatrix} =\n",
    "\\begin{pmatrix}\n",
    "7 & 4 & 5 & 6\\\\\n",
    "5 & 4 & 6 & 7\\\\\n",
    "7 & 5 & 3 & 6\\\\\n",
    "3 & 5 & 6 & 4\\\\\n",
    "4 & 6 & 5 & 7\n",
    "\\end{pmatrix} \\text{  costo unitario de transporte entre las etapas }D \\text{ y }C\n",
    "$$"
   ]
  },
  {
   "cell_type": "markdown",
   "id": "greater-spelling",
   "metadata": {},
   "source": [
    "$$\n",
    "P_{max}: = 4 \\text{ cantidad máxima de vértices en }P\\text{ permitidos para abrir,}\n",
    "$$\n",
    "$$\n",
    "D_{max}: = 4 \\text{ cantidad máxima de vértices en }D\\text{ permitidos para abrir.}\n",
    "$$\n",
    "\n",
    "Si se desea conocer la fomulación de las restricciones en forma matricial, se invita a revisar la tesis en la que se basó el trabajo. El código y resultados de la simulación se mostrarán a continuación:"
   ]
  },
  {
   "cell_type": "code",
   "execution_count": 3,
   "id": "involved-wagner",
   "metadata": {},
   "outputs": [
    {
     "data": {
      "text/plain": [
       "4"
      ]
     },
     "execution_count": 3,
     "metadata": {},
     "output_type": "execute_result"
    }
   ],
   "source": [
    "#Número de elementos por etapa\n",
    "n_s = 3\n",
    "n_p = 5\n",
    "n_d = 5\n",
    "n_c = 4"
   ]
  },
  {
   "cell_type": "code",
   "execution_count": 4,
   "id": "interracial-cursor",
   "metadata": {},
   "outputs": [],
   "source": [
    "#Capacidades\n",
    "W_s = [500; 650; 390][:,:] #Capacidad de productor\n",
    "W_p = [400; 550; 490; 300; 500][:,:]#Capacidad de planta\n",
    "W_d = [530; 590; 400; 370; 580][:,:]#Capacidad de distribuidor\n",
    "W_c = [460; 330; 450; 300][:,:]#Demanda de consumidor\n",
    "\n",
    "#Costos\n",
    "f_p = [1800 900 2100 1100 900][:,:]#Costo fijo de mantener planta abierta\n",
    "f_d = [1000 900 1600 1500 1400][:,:];#Costo fijo de mantener distribuidor abierto"
   ]
  },
  {
   "cell_type": "code",
   "execution_count": 6,
   "id": "altered-video",
   "metadata": {},
   "outputs": [],
   "source": [
    "u_s_p = [5 6 4 7 5;\n",
    "         6 5 6 6 8;\n",
    "         7 6 3 9 6]; #Costo unitario de transporte productor -> planta\n",
    "u_p_d = [5 8 4 3 5;\n",
    "         8 7 8 6 8;\n",
    "         4 7 4 5 4;\n",
    "         3 5 3 5 3;\n",
    "         5 6 6 8 3]; #Costo unitario de transporte planta -> distribuidor\n",
    "u_d_c = [7 4 5 6;\n",
    "         5 4 6 7;\n",
    "         7 5 3 6;\n",
    "         3 5 6 4;\n",
    "         4 6 5 7]; #Costo unitario de transporte distribuidor -> consumidor"
   ]
  },
  {
   "cell_type": "code",
   "execution_count": 7,
   "id": "crude-assembly",
   "metadata": {},
   "outputs": [
    {
     "data": {
      "text/plain": [
       "4"
      ]
     },
     "execution_count": 7,
     "metadata": {},
     "output_type": "execute_result"
    }
   ],
   "source": [
    "P_max = 4 #Maximo numero de plantas abiertas\n",
    "D_max = 4 #Maximo numero de distribuidores abiertos"
   ]
  },
  {
   "cell_type": "code",
   "execution_count": 8,
   "id": "regional-madness",
   "metadata": {},
   "outputs": [
    {
     "data": {
      "text/plain": [
       "matrices_restriccion (generic function with 1 method)"
      ]
     },
     "execution_count": 8,
     "metadata": {},
     "output_type": "execute_result"
    }
   ],
   "source": [
    "#Función auxiliar para generar las matrices de necesarias para las restricciones\n",
    "function matrices_restriccion(n_s, n_p, n_d, n_c)\n",
    "    #Ecuacion 2.1\n",
    "    A11 = zeros(n_s, n_s*n_p)\n",
    "\n",
    "    for i in 1:n_s\n",
    "       A11[i,(n_p*(i-1))+1:n_p*i] .= 1 \n",
    "    end\n",
    "    \n",
    "    #Ecuacion 2.2\n",
    "    A22 = zeros(n_p, n_p*n_d)\n",
    "\n",
    "    for i in 1:n_p\n",
    "       A22[i,(n_d*(i-1))+1:n_d*i] .= 1 \n",
    "    end\n",
    "    \n",
    "    #Ecuacion 2.3\n",
    "    A33 = zeros(n_d, n_d*n_c)\n",
    "\n",
    "    for i in 1:n_d\n",
    "       A33[i,(n_c*(i-1))+1:n_c*i] .= 1 \n",
    "    end\n",
    "    \n",
    "    #Ecuacion 2.4\n",
    "    A43 = zeros(n_c, n_d*n_c)\n",
    "\n",
    "    for i in 1:n_c\n",
    "        for j in 1:n_d\n",
    "           A43[i,i+((j-1)*n_c)] = -1  \n",
    "        end\n",
    "    end\n",
    "    \n",
    "    #Ecuaciones de conservacion de flujo\n",
    "    E11 = zeros(n_p, n_p*n_s)\n",
    "\n",
    "    for i in 1:n_p\n",
    "        for j in 1:n_s\n",
    "           E11[i,i+((j-1)*n_p)] = 1  \n",
    "        end\n",
    "    end\n",
    "    \n",
    "    E22 = zeros(n_d, n_d*n_p)\n",
    "\n",
    "    for i in 1:n_d\n",
    "        for j in 1:n_p\n",
    "           E22[i,i+((j-1)*n_d)] = 1  \n",
    "        end\n",
    "    end\n",
    "    \n",
    "    AF1 = zeros(n_p, n_d*n_p)\n",
    "\n",
    "    for i in 1:n_p\n",
    "       AF1[i,(n_d*(i-1))+1:n_d*i] .= 1 \n",
    "    end\n",
    "    \n",
    "    AF2 = zeros(n_d, n_c*n_d)\n",
    "\n",
    "    for i in 1:n_d\n",
    "       AF2[i,(n_c*(i-1))+1:n_c*i] .= 1 \n",
    "    end\n",
    "    \n",
    "    return A11, A22, A33, A43, E11, E22, AF1, AF2\n",
    "end"
   ]
  },
  {
   "cell_type": "code",
   "execution_count": 9,
   "id": "rolled-fraction",
   "metadata": {},
   "outputs": [
    {
     "data": {
      "text/plain": [
       "indicadores (generic function with 1 method)"
      ]
     },
     "execution_count": 9,
     "metadata": {},
     "output_type": "execute_result"
    }
   ],
   "source": [
    "#Obtiene los vectores indicadores para cada etapa desde la partícula\n",
    "function indicadores(p, k, n_p, n_d)\n",
    "    I_p = p[1 : n_p]\n",
    "    I_d = p[n_p + 1 : n_p + n_d]\n",
    "    return I_p[:,:], I_d[:,:]\n",
    "end"
   ]
  },
  {
   "cell_type": "code",
   "execution_count": 10,
   "id": "aquatic-induction",
   "metadata": {},
   "outputs": [
    {
     "data": {
      "text/plain": [
       "calc_metric (generic function with 1 method)"
      ]
     },
     "execution_count": 10,
     "metadata": {},
     "output_type": "execute_result"
    }
   ],
   "source": [
    "#Optimización de la solución codificada en una partícula\n",
    "function calc_metric(p, n_s, n_p, n_d, n_c, W_s, W_p, W_d, W_c, f_p, f_d, u_s_p, u_p_d, u_d_c)\n",
    "    model = Model(GLPK.Optimizer)\n",
    "\n",
    "    #Extracción de indicadoras\n",
    "    I_p, I_d = indicadores(p, k, n_p, n_d)\n",
    "    \n",
    "    #Generación de matrices restricción\n",
    "    A11, A22, A33, A43, E11, E22, AF1, AF2 = matrices_restriccion(n_s, n_p, n_d, n_c)\n",
    "    \n",
    "    #Pesos a utilizar tomando en cuenta indicadoras\n",
    "    w_s_p = hcat(transpose(u_s_p) .* I_p...);\n",
    "    w_p_d = hcat(transpose(u_p_d.* I_p) .* I_d...);\n",
    "    w_d_c = hcat(transpose(u_d_c .* I_d)...);\n",
    "    \n",
    "    #Variables a optimizar\n",
    "    @variable(model, x_s_p[1:(n_s*n_p)] >= 0)\n",
    "    @variable(model, x_p_d[1:(n_p*n_d)] >= 0)\n",
    "    @variable(model, x_d_c[1:(n_d*n_c)] >= 0)\n",
    "\n",
    "    #Función objetivo = costo de operación\n",
    "    @objective(model, Min, sum(w_s_p * x_s_p) + sum(w_p_d * x_p_d) + sum(w_d_c * x_d_c) + sum(f_p * I_p) + sum(f_d * I_d))\n",
    "    \n",
    "    #Restricciones\n",
    "    #Capacidades máximas\n",
    "    @constraint(model, c1, A11 * x_s_p .<= W_s)\n",
    "    @constraint(model, c2, A22 * x_p_d .<= W_p .* I_p)\n",
    "    @constraint(model, c3, A33 * x_d_c .<= W_d .* I_d)\n",
    "    @constraint(model, c4, A43 * x_d_c .<= -W_c)\n",
    "    #Conservación de flujo\n",
    "    @constraint(model, c5, E11 * x_s_p .== AF1 * x_p_d)\n",
    "    @constraint(model, c6, E22 * x_p_d .== AF2 * x_d_c)\n",
    "    \n",
    "    #Optimización por programación lineal\n",
    "    optimize!(model)\n",
    "    return objective_value(model)\n",
    "end"
   ]
  },
  {
   "cell_type": "code",
   "execution_count": 11,
   "id": "provincial-transmission",
   "metadata": {},
   "outputs": [],
   "source": [
    "#Revisar si la partícula es inválida\n",
    "function particle_invalid(X, i, k, n_p, n_d, W_c, W_p, W_d, max_p, max_d)\n",
    "    #Obtengo las variables indicadoras\n",
    "    p = X[i,:]\n",
    "    I_p, I_d = indicadores(p, k, n_p, n_d)\n",
    "    \n",
    "    #Demanda total de los clientes\n",
    "    demanda_total = sum(W_c)\n",
    "    \n",
    "    #Las restricciones que se deben evitar\n",
    "    while(sum(I_p) > max_p)\n",
    "        r_i = rand(1:n_p)\n",
    "        I_p[r_i] = 0\n",
    "    end\n",
    "    while(sum(I_p) == 0)\n",
    "        r_i = rand(1:n_p)\n",
    "        I_p[r_i] = 1\n",
    "    end\n",
    "    while(sum(I_d) > max_d)\n",
    "        r_i = rand(1:n_d)\n",
    "        I_d[r_i] = 0\n",
    "    end\n",
    "    while(sum(I_d) == 0)\n",
    "        r_i = rand(1:n_d)\n",
    "        I_d[r_i] = 1\n",
    "    end\n",
    "\n",
    "    res_W_p = demanda_total > sum(I_p' * W_p)\n",
    "    res_W_d = demanda_total > sum(I_d' * W_d)\n",
    "    \n",
    "    #Si cambió, arreglo la partícula\n",
    "    X[i,:] = hcat(I_p, I_d)\n",
    "    \n",
    "    #¿Se violó alguna restricción?\n",
    "    return res_W_p || res_W_d\n",
    "end;"
   ]
  },
  {
   "cell_type": "code",
   "execution_count": 20,
   "id": "sound-marriage",
   "metadata": {},
   "outputs": [
    {
     "data": {
      "text/plain": [
       "metric (generic function with 1 method)"
      ]
     },
     "execution_count": 20,
     "metadata": {},
     "output_type": "execute_result"
    }
   ],
   "source": [
    "#Función métrica del desempeño de una partícula\n",
    "function metric(X, n, k, n_s, n_p, n_d, n_c, W_s, W_p, W_d, W_c, f_p, f_d, u_s_p, u_p_d, u_d_c, max_p, max_d)\n",
    "    M = zeros(n)\n",
    "    for i in 1:n #Para cada partícula\n",
    "        #Si la partícula no cumple restricciones, penalización\n",
    "        if particle_invalid(X, i, k, n_p, n_d, W_c, W_p, W_d, max_p, max_d)\n",
    "            M[i] = 2^63 - 1\n",
    "        else\n",
    "            #Optimizo la cadena de suministro y devuelvo el costo\n",
    "            M[i] = calc_metric(X[i,:], n_s, n_p, n_d, n_c, W_s, W_p, W_d, W_c, f_p, f_d, u_s_p, u_p_d, u_d_c)\n",
    "        end\n",
    "    end\n",
    "    return M\n",
    "end"
   ]
  },
  {
   "cell_type": "markdown",
   "id": "facial-vampire",
   "metadata": {},
   "source": [
    "# Resolviendo el problema"
   ]
  },
  {
   "cell_type": "code",
   "execution_count": 126,
   "id": "driven-lottery",
   "metadata": {},
   "outputs": [
    {
     "data": {
      "text/plain": [
       "16"
      ]
     },
     "execution_count": 126,
     "metadata": {},
     "output_type": "execute_result"
    }
   ],
   "source": [
    "#Se utilizarán 16 individuos de 10 dimensiones, generando 100 iteraciones\n",
    "k = 10\n",
    "n = 16\n",
    "iterations = 100"
   ]
  },
  {
   "cell_type": "code",
   "execution_count": 130,
   "id": "asian-reform",
   "metadata": {},
   "outputs": [
    {
     "data": {
      "text/plain": [
       "16×10 Matrix{Bool}:\n",
       " 0  0  0  1  1  1  1  0  1  1\n",
       " 1  0  1  0  1  1  0  1  1  1\n",
       " 1  1  0  0  0  0  0  1  1  0\n",
       " 0  1  0  1  1  1  1  0  1  1\n",
       " 0  0  0  0  0  1  1  0  0  0\n",
       " 0  0  1  1  1  0  1  0  0  0\n",
       " 1  0  0  0  1  1  1  0  1  1\n",
       " 0  0  0  0  0  1  1  1  1  0\n",
       " 0  1  0  0  1  1  0  0  1  1\n",
       " 1  1  0  0  0  1  1  0  1  0\n",
       " 0  1  0  1  0  1  0  1  1  0\n",
       " 0  0  0  1  1  1  0  1  1  1\n",
       " 0  1  0  0  1  0  0  1  1  1\n",
       " 1  0  0  1  0  1  0  0  0  1\n",
       " 0  0  1  0  1  1  0  1  0  0\n",
       " 1  0  1  0  0  0  0  1  0  1"
      ]
     },
     "execution_count": 130,
     "metadata": {},
     "output_type": "execute_result"
    }
   ],
   "source": [
    "X = random_particles(k, n)"
   ]
  },
  {
   "cell_type": "code",
   "execution_count": 131,
   "id": "logical-community",
   "metadata": {},
   "outputs": [
    {
     "data": {
      "text/plain": [
       "16-element Vector{Float64}:\n",
       " 9.223372036854776e18\n",
       " 9.223372036854776e18\n",
       " 9.223372036854776e18\n",
       " 9.223372036854776e18\n",
       " 9.223372036854776e18\n",
       " 9.223372036854776e18\n",
       " 9.223372036854776e18\n",
       " 9.223372036854776e18\n",
       " 9.223372036854776e18\n",
       " 9.223372036854776e18\n",
       " 9.223372036854776e18\n",
       " 9.223372036854776e18\n",
       " 9.223372036854776e18\n",
       " 9.223372036854776e18\n",
       " 9.223372036854776e18\n",
       " 9.223372036854776e18"
      ]
     },
     "execution_count": 131,
     "metadata": {},
     "output_type": "execute_result"
    }
   ],
   "source": [
    "M = metric(X, n, k, n_s, n_p, n_d, n_c, W_s, W_p, W_d, W_c, f_p, f_d, u_s_p, u_p_d, u_d_c, P_max, D_max)"
   ]
  },
  {
   "cell_type": "code",
   "execution_count": 132,
   "id": "tired-technology",
   "metadata": {},
   "outputs": [
    {
     "data": {
      "text/plain": [
       "16×10 Matrix{Bool}:\n",
       " 0  0  0  1  1  1  1  0  1  1\n",
       " 1  0  1  0  1  1  0  1  1  1\n",
       " 1  1  0  0  0  0  0  1  1  0\n",
       " 0  1  0  1  1  1  1  0  1  1\n",
       " 0  0  1  0  0  1  1  0  0  0\n",
       " 0  0  1  1  1  0  1  0  0  0\n",
       " 1  0  0  0  1  1  1  0  1  1\n",
       " 0  0  1  0  0  1  1  1  1  0\n",
       " 0  1  0  0  1  1  0  0  1  1\n",
       " 1  1  0  0  0  1  1  0  1  0\n",
       " 0  1  0  1  0  1  0  1  1  0\n",
       " 0  0  0  1  1  1  0  1  1  1\n",
       " 0  1  0  0  1  0  0  1  1  1\n",
       " 1  0  0  1  0  1  0  0  0  1\n",
       " 0  0  1  0  1  1  0  1  0  0\n",
       " 1  0  1  0  0  0  0  1  0  1"
      ]
     },
     "execution_count": 132,
     "metadata": {},
     "output_type": "execute_result"
    }
   ],
   "source": [
    "Y = X"
   ]
  },
  {
   "cell_type": "code",
   "execution_count": 133,
   "id": "growing-craps",
   "metadata": {},
   "outputs": [
    {
     "data": {
      "text/plain": [
       "16×10 Matrix{Float64}:\n",
       " 0.0  0.0  0.0  0.0  0.0  0.0  0.0  0.0  0.0  0.0\n",
       " 0.0  0.0  0.0  0.0  0.0  0.0  0.0  0.0  0.0  0.0\n",
       " 0.0  0.0  0.0  0.0  0.0  0.0  0.0  0.0  0.0  0.0\n",
       " 0.0  0.0  0.0  0.0  0.0  0.0  0.0  0.0  0.0  0.0\n",
       " 0.0  0.0  0.0  0.0  0.0  0.0  0.0  0.0  0.0  0.0\n",
       " 0.0  0.0  0.0  0.0  0.0  0.0  0.0  0.0  0.0  0.0\n",
       " 0.0  0.0  0.0  0.0  0.0  0.0  0.0  0.0  0.0  0.0\n",
       " 0.0  0.0  0.0  0.0  0.0  0.0  0.0  0.0  0.0  0.0\n",
       " 0.0  0.0  0.0  0.0  0.0  0.0  0.0  0.0  0.0  0.0\n",
       " 0.0  0.0  0.0  0.0  0.0  0.0  0.0  0.0  0.0  0.0\n",
       " 0.0  0.0  0.0  0.0  0.0  0.0  0.0  0.0  0.0  0.0\n",
       " 0.0  0.0  0.0  0.0  0.0  0.0  0.0  0.0  0.0  0.0\n",
       " 0.0  0.0  0.0  0.0  0.0  0.0  0.0  0.0  0.0  0.0\n",
       " 0.0  0.0  0.0  0.0  0.0  0.0  0.0  0.0  0.0  0.0\n",
       " 0.0  0.0  0.0  0.0  0.0  0.0  0.0  0.0  0.0  0.0\n",
       " 0.0  0.0  0.0  0.0  0.0  0.0  0.0  0.0  0.0  0.0"
      ]
     },
     "execution_count": 133,
     "metadata": {},
     "output_type": "execute_result"
    }
   ],
   "source": [
    "#V = rand(Float64, (k,n))\n",
    "V = zeros((n,k))"
   ]
  },
  {
   "cell_type": "code",
   "execution_count": 136,
   "id": "twelve-david",
   "metadata": {},
   "outputs": [
    {
     "data": {
      "text/plain": [
       "10"
      ]
     },
     "execution_count": 136,
     "metadata": {},
     "output_type": "execute_result"
    }
   ],
   "source": [
    "#Hiperparámetros\n",
    "ν = 0.8\n",
    "c_1 = 10\n",
    "c_2 = 10"
   ]
  },
  {
   "cell_type": "code",
   "execution_count": 137,
   "id": "biblical-bicycle",
   "metadata": {
    "scrolled": true
   },
   "outputs": [
    {
     "name": "stdout",
     "output_type": "stream",
     "text": [
      "9.223372036854776e18\n",
      "29200.0\n",
      "28870.0\n",
      "28870.0\n",
      "28870.0\n",
      "28870.0\n",
      "28870.0\n",
      "28870.0\n",
      "28870.0\n",
      "28870.0\n"
     ]
    }
   ],
   "source": [
    "Y_b = NaN\n",
    "M_b = NaN\n",
    "\n",
    "for i in 1:iterations\n",
    "    \n",
    "    #Obtengo las métricas de las partículas\n",
    "    #M_t = mapslices(metric, X; dims=2)\n",
    "    \n",
    "    M_t = metric(X, n, k, n_s, n_p, n_d, n_c, W_s, W_p, W_d, W_c, f_p, f_d, u_s_p, u_p_d, u_d_c, P_max, D_max)\n",
    "    \n",
    "    #En qué partículas existió mejora\n",
    "    improvement = M_t .< M\n",
    "    \n",
    "    #Actualizo las mejores métricas personales\n",
    "    M[improvement] = M_t[improvement]\n",
    "\n",
    "    #Actualizo las mejores soluciones personales\n",
    "    Y[improvement[:],:] = X[improvement[:],:]\n",
    "    \n",
    "    #Encuentro la mejor métrica global así como su índice en M\n",
    "    M_b, M_bidx = findmin(M)\n",
    "    \n",
    "    #Encuentro la mejor solución global\n",
    "    Y_b = Y[M_bidx, :]\n",
    "\n",
    "    #Encuentro la velocidad (probabilidad de cero o uno)\n",
    "    V = (ν * V) + (c_1 * rand(Float64, (n,k)) .* (Y - X)) + (c_2 * rand(Float64, (n,k)) .* (Y_b' .- X))\n",
    "\n",
    "    #Propongo nuevos candidatos\n",
    "    X = (rand(Float64, (n,k)) .< sigmoid.(V))\n",
    "    if i % 10 == 1\n",
    "        print(M_b)\n",
    "        print(\"\\n\")\n",
    "    end\n",
    "end"
   ]
  },
  {
   "cell_type": "code",
   "execution_count": 138,
   "id": "liked-polish",
   "metadata": {},
   "outputs": [
    {
     "data": {
      "text/plain": [
       "10-element Vector{Bool}:\n",
       " 0\n",
       " 1\n",
       " 1\n",
       " 0\n",
       " 1\n",
       " 0\n",
       " 1\n",
       " 1\n",
       " 0\n",
       " 1"
      ]
     },
     "execution_count": 138,
     "metadata": {},
     "output_type": "execute_result"
    }
   ],
   "source": [
    "#Mejor solución encontrada.\n",
    "Y_b"
   ]
  },
  {
   "cell_type": "code",
   "execution_count": 125,
   "id": "official-blink",
   "metadata": {},
   "outputs": [
    {
     "data": {
      "text/plain": [
       "28870.0"
      ]
     },
     "execution_count": 125,
     "metadata": {},
     "output_type": "execute_result"
    }
   ],
   "source": [
    "#Costo asociado a la mejor solución encontrada.\n",
    "M_b"
   ]
  },
  {
   "cell_type": "markdown",
   "id": "fifth-strain",
   "metadata": {},
   "source": [
    "En la tesis original, la mejor solución encontrada para este problema tinee un costo de 28,870. Esto implica que se implementó el algoritmo correctamente y se encontró la mejor solución para este problema."
   ]
  },
  {
   "cell_type": "markdown",
   "id": "statistical-carroll",
   "metadata": {},
   "source": [
    "# Código auxiliar\n",
    "\n",
    "***\n",
    "\n",
    "### Graficación de cadena de suministro en etapas"
   ]
  },
  {
   "cell_type": "code",
   "execution_count": 13,
   "id": "secret-campus",
   "metadata": {},
   "outputs": [
    {
     "data": {
      "image/svg+xml": [
       "<?xml version=\"1.0\" encoding=\"UTF-8\"?>\n",
       "<svg xmlns=\"http://www.w3.org/2000/svg\"\n",
       "     xmlns:xlink=\"http://www.w3.org/1999/xlink\"\n",
       "     version=\"1.2\"\n",
       "     width=\"141.42mm\" height=\"100mm\" viewBox=\"0 0 141.42 100\"\n",
       "     stroke=\"none\"\n",
       "     fill=\"#000000\"\n",
       "     stroke-width=\"0.3\"\n",
       "     font-size=\"3.88\"\n",
       ">\n",
       "<defs>\n",
       "  <marker id=\"arrow\" markerWidth=\"15\" markerHeight=\"7\" refX=\"5\" refY=\"3.5\" orient=\"auto\" markerUnits=\"strokeWidth\">\n",
       "    <path d=\"M0,0 L15,3.5 L0,7 z\" stroke=\"context-stroke\" fill=\"context-stroke\"/>\n",
       "  </marker>\n",
       "</defs>\n",
       "<g stroke-width=\"0.69\" fill=\"#000000\" fill-opacity=\"0.000\" stroke=\"#D3D3D3\" id=\"img-6ad8c332-1\">\n",
       "  <g transform=\"translate(31.43,26.19)\">\n",
       "    <path fill=\"none\" d=\"M-16.54,5.01 L16.54,-5.01 \" class=\"primitive\"/>\n",
       "  </g>\n",
       "  <g transform=\"translate(31.43,42.56)\">\n",
       "    <path fill=\"none\" d=\"M-16.66,6.31 L16.66,-6.31 \" class=\"primitive\"/>\n",
       "  </g>\n",
       "  <g transform=\"translate(31.43,50)\">\n",
       "    <path fill=\"none\" d=\"M-16.26,0 L16.26,0 \" class=\"primitive\"/>\n",
       "  </g>\n",
       "  <g transform=\"translate(31.43,57.44)\">\n",
       "    <path fill=\"none\" d=\"M-16.66,-6.31 L16.66,6.31 \" class=\"primitive\"/>\n",
       "  </g>\n",
       "  <g transform=\"translate(31.43,58.93)\">\n",
       "    <path fill=\"none\" d=\"M-16.8,7.64 L16.8,-7.64 \" class=\"primitive\"/>\n",
       "  </g>\n",
       "  <g transform=\"translate(31.43,73.81)\">\n",
       "    <path fill=\"none\" d=\"M-16.54,-5.01 L16.54,5.01 \" class=\"primitive\"/>\n",
       "  </g>\n",
       "  <g transform=\"translate(70.71,14.29)\">\n",
       "    <path fill=\"none\" d=\"M-16.54,5.01 L16.54,-5.01 \" class=\"primitive\"/>\n",
       "  </g>\n",
       "  <g transform=\"translate(70.71,21.23)\">\n",
       "    <path fill=\"none\" d=\"M-16.27,-0.82 L16.27,0.82 \" class=\"primitive\"/>\n",
       "  </g>\n",
       "  <g transform=\"translate(70.71,28.67)\">\n",
       "    <path fill=\"none\" d=\"M-16.58,5.44 L16.58,-5.44 \" class=\"primitive\"/>\n",
       "  </g>\n",
       "  <g transform=\"translate(70.71,35.62)\">\n",
       "    <path fill=\"none\" d=\"M-16.26,-0.41 L16.26,0.41 \" class=\"primitive\"/>\n",
       "  </g>\n",
       "  <g transform=\"translate(70.71,42.56)\">\n",
       "    <path fill=\"none\" d=\"M-16.66,-6.31 L16.66,6.31 \" class=\"primitive\"/>\n",
       "  </g>\n",
       "  <g transform=\"translate(70.71,49.5)\">\n",
       "    <path fill=\"none\" d=\"M-17.29,-12.67 L17.29,12.67 \" class=\"primitive\"/>\n",
       "  </g>\n",
       "  <g transform=\"translate(70.71,50)\">\n",
       "    <path fill=\"none\" d=\"M-16.26,0 L16.26,0 \" class=\"primitive\"/>\n",
       "  </g>\n",
       "  <g transform=\"translate(70.71,63.89)\">\n",
       "    <path fill=\"none\" d=\"M-17.25,-12.2 L17.25,12.2 \" class=\"primitive\"/>\n",
       "  </g>\n",
       "  <g transform=\"translate(70.71,71.33)\">\n",
       "    <path fill=\"none\" d=\"M-16.58,-5.44 L16.58,5.44 \" class=\"primitive\"/>\n",
       "  </g>\n",
       "  <g transform=\"translate(70.71,50.99)\">\n",
       "    <path fill=\"none\" d=\"M-18.17,26.62 L18.17,-26.62 \" class=\"primitive\"/>\n",
       "  </g>\n",
       "  <g transform=\"translate(70.71,85.71)\">\n",
       "    <path fill=\"none\" d=\"M-16.54,-5.01 L16.54,5.01 \" class=\"primitive\"/>\n",
       "  </g>\n",
       "  <g transform=\"translate(109.99,17.26)\">\n",
       "    <path fill=\"none\" d=\"M-16.8,-7.64 L16.8,7.64 \" class=\"primitive\"/>\n",
       "  </g>\n",
       "  <g transform=\"translate(109.99,41.07)\">\n",
       "    <path fill=\"none\" d=\"M-18.32,-30.54 L18.32,30.54 \" class=\"primitive\"/>\n",
       "  </g>\n",
       "  <g transform=\"translate(109.99,32.14)\">\n",
       "    <path fill=\"none\" d=\"M-16.89,-8.53 L16.89,8.53 \" class=\"primitive\"/>\n",
       "  </g>\n",
       "  <g transform=\"translate(109.99,39.09)\">\n",
       "    <path fill=\"none\" d=\"M-16.34,-2.48 L16.34,2.48 \" class=\"primitive\"/>\n",
       "  </g>\n",
       "  <g transform=\"translate(109.99,53.97)\">\n",
       "    <path fill=\"none\" d=\"M-16.39,-3.31 L16.39,3.31 \" class=\"primitive\"/>\n",
       "  </g>\n",
       "  <g transform=\"translate(109.99,45.04)\">\n",
       "    <path fill=\"none\" d=\"M-17.64,16.93 L17.64,-16.93 \" class=\"primitive\"/>\n",
       "  </g>\n",
       "  <g transform=\"translate(109.99,51.98)\">\n",
       "    <path fill=\"none\" d=\"M-18.04,23.69 L18.04,-23.69 \" class=\"primitive\"/>\n",
       "  </g>\n",
       "  <g transform=\"translate(109.99,59.92)\">\n",
       "    <path fill=\"none\" d=\"M-17.57,15.97 L17.57,-15.97 \" class=\"primitive\"/>\n",
       "  </g>\n",
       "  <g transform=\"translate(109.99,74.8)\">\n",
       "    <path fill=\"none\" d=\"M-17.49,15.02 L17.49,-15.02 \" class=\"primitive\"/>\n",
       "  </g>\n",
       "  <g transform=\"translate(109.99,82.74)\">\n",
       "    <path fill=\"none\" d=\"M-16.8,7.64 L16.8,-7.64 \" class=\"primitive\"/>\n",
       "  </g>\n",
       "</g>\n",
       "<g stroke-width=\"0.69\" stroke=\"#D3D3D3\" id=\"img-6ad8c332-2\">\n",
       "  <g transform=\"translate(44.57,22.21)\">\n",
       "    <path fill=\"none\" d=\"M-2.49,-0.8 L3.39,-1.03 -0.9,1.82 \" class=\"primitive\"/>\n",
       "  </g>\n",
       "  <g transform=\"translate(44.84,37.48)\">\n",
       "    <path fill=\"none\" d=\"M-2.58,-0.64 L3.25,-1.23 -0.68,1.87 \" class=\"primitive\"/>\n",
       "  </g>\n",
       "  <g transform=\"translate(44,50)\">\n",
       "    <path fill=\"none\" d=\"M-1.85,-1.43 L3.69,0 -1.85,1.43 \" class=\"primitive\"/>\n",
       "  </g>\n",
       "  <g transform=\"translate(44.84,62.52)\">\n",
       "    <path fill=\"none\" d=\"M-0.68,-1.87 L3.25,1.23 -2.58,0.64 \" class=\"primitive\"/>\n",
       "  </g>\n",
       "  <g transform=\"translate(45.12,52.7)\">\n",
       "    <path fill=\"none\" d=\"M-2.64,-0.49 L3.11,-1.41 -0.46,1.9 \" class=\"primitive\"/>\n",
       "  </g>\n",
       "  <g transform=\"translate(44.57,77.79)\">\n",
       "    <path fill=\"none\" d=\"M-0.9,-1.82 L3.39,1.03 -2.49,0.8 \" class=\"primitive\"/>\n",
       "  </g>\n",
       "  <g transform=\"translate(83.85,10.3)\">\n",
       "    <path fill=\"none\" d=\"M-2.49,-0.8 L3.39,-1.03 -0.9,1.82 \" class=\"primitive\"/>\n",
       "  </g>\n",
       "  <g transform=\"translate(83.3,21.87)\">\n",
       "    <path fill=\"none\" d=\"M-1.7,-1.51 L3.68,0.19 -1.98,1.33 \" class=\"primitive\"/>\n",
       "  </g>\n",
       "  <g transform=\"translate(83.94,24.33)\">\n",
       "    <path fill=\"none\" d=\"M-2.52,-0.74 L3.35,-1.1 -0.83,1.84 \" class=\"primitive\"/>\n",
       "  </g>\n",
       "  <g transform=\"translate(83.29,35.93)\">\n",
       "    <path fill=\"none\" d=\"M-1.77,-1.47 L3.69,0.09 -1.92,1.38 \" class=\"primitive\"/>\n",
       "  </g>\n",
       "  <g transform=\"translate(84.12,47.64)\">\n",
       "    <path fill=\"none\" d=\"M-0.68,-1.87 L3.25,1.23 -2.58,0.64 \" class=\"primitive\"/>\n",
       "  </g>\n",
       "  <g transform=\"translate(85.44,60.29)\">\n",
       "    <path fill=\"none\" d=\"M0.17,-1.93 L2.56,1.88 -2.73,0.05 \" class=\"primitive\"/>\n",
       "  </g>\n",
       "  <g transform=\"translate(83.28,50)\">\n",
       "    <path fill=\"none\" d=\"M-1.85,-1.43 L3.69,0 -1.85,1.43 \" class=\"primitive\"/>\n",
       "  </g>\n",
       "  <g transform=\"translate(85.35,74.24)\">\n",
       "    <path fill=\"none\" d=\"M0.12,-1.93 L2.61,1.85 -2.73,0.08 \" class=\"primitive\"/>\n",
       "  </g>\n",
       "  <g transform=\"translate(83.94,75.67)\">\n",
       "    <path fill=\"none\" d=\"M-0.83,-1.84 L3.35,1.1 -2.52,0.74 \" class=\"primitive\"/>\n",
       "  </g>\n",
       "  <g transform=\"translate(87.28,26.72)\">\n",
       "    <path fill=\"none\" d=\"M-2.62,0.56 L1.6,-2.35 1.01,1.79 \" class=\"primitive\"/>\n",
       "  </g>\n",
       "  <g transform=\"translate(83.85,89.7)\">\n",
       "    <path fill=\"none\" d=\"M-0.9,-1.82 L3.39,1.03 -2.49,0.8 \" class=\"primitive\"/>\n",
       "  </g>\n",
       "  <g transform=\"translate(123.69,23.49)\">\n",
       "    <path fill=\"none\" d=\"M-0.46,-1.9 L3.11,1.41 -2.64,0.49 \" class=\"primitive\"/>\n",
       "  </g>\n",
       "  <g transform=\"translate(126.87,69.21)\">\n",
       "    <path fill=\"none\" d=\"M1.13,-1.76 L1.44,2.4 -2.58,-0.64 \" class=\"primitive\"/>\n",
       "  </g>\n",
       "  <g transform=\"translate(123.88,39.16)\">\n",
       "    <path fill=\"none\" d=\"M-0.33,-1.92 L3,1.52 -2.67,0.4 \" class=\"primitive\"/>\n",
       "  </g>\n",
       "  <g transform=\"translate(122.72,41.02)\">\n",
       "    <path fill=\"none\" d=\"M-1.38,-1.67 L3.61,0.55 -2.23,1.12 \" class=\"primitive\"/>\n",
       "  </g>\n",
       "  <g transform=\"translate(122.84,56.56)\">\n",
       "    <path fill=\"none\" d=\"M-1.22,-1.73 L3.55,0.72 -2.33,1.01 \" class=\"primitive\"/>\n",
       "  </g>\n",
       "  <g transform=\"translate(125.44,30.22)\">\n",
       "    <path fill=\"none\" d=\"M-2.72,0.21 L2.19,-2.1 0.53,1.9 \" class=\"primitive\"/>\n",
       "  </g>\n",
       "  <g transform=\"translate(126.28,30.59)\">\n",
       "    <path fill=\"none\" d=\"M-2.65,0.47 L1.75,-2.3 0.9,1.82 \" class=\"primitive\"/>\n",
       "  </g>\n",
       "  <g transform=\"translate(125.3,46.01)\">\n",
       "    <path fill=\"none\" d=\"M-2.72,0.16 L2.27,-2.06 0.46,1.91 \" class=\"primitive\"/>\n",
       "  </g>\n",
       "  <g transform=\"translate(125.14,61.8)\">\n",
       "    <path fill=\"none\" d=\"M-2.73,0.1 L2.35,-2.01 0.38,1.91 \" class=\"primitive\"/>\n",
       "  </g>\n",
       "  <g transform=\"translate(123.69,76.51)\">\n",
       "    <path fill=\"none\" d=\"M-2.64,-0.49 L3.11,-1.41 -0.46,1.9 \" class=\"primitive\"/>\n",
       "  </g>\n",
       "</g>\n",
       "<g font-size=\"4\" stroke=\"#000000\" stroke-opacity=\"0.000\" fill=\"#000000\" id=\"img-6ad8c332-3\">\n",
       "</g>\n",
       "<g stroke-width=\"0\" stroke=\"#000000\" stroke-opacity=\"0.000\" id=\"img-6ad8c332-4\">\n",
       "  <g transform=\"translate(11.79,32.14)\" fill=\"#FFA500\">\n",
       "    <circle cx=\"0\" cy=\"0\" r=\"3.24\" class=\"primitive\"/>\n",
       "  </g>\n",
       "  <g transform=\"translate(11.79,50)\" fill=\"#FFA500\">\n",
       "    <circle cx=\"0\" cy=\"0\" r=\"3.24\" class=\"primitive\"/>\n",
       "  </g>\n",
       "  <g transform=\"translate(11.79,67.86)\" fill=\"#FFA500\">\n",
       "    <circle cx=\"0\" cy=\"0\" r=\"3.24\" class=\"primitive\"/>\n",
       "  </g>\n",
       "  <g transform=\"translate(51.07,20.24)\" fill=\"#ADD8E6\">\n",
       "    <circle cx=\"0\" cy=\"0\" r=\"3.24\" class=\"primitive\"/>\n",
       "  </g>\n",
       "  <g transform=\"translate(51.07,35.12)\" fill=\"#ADD8E6\">\n",
       "    <circle cx=\"0\" cy=\"0\" r=\"3.24\" class=\"primitive\"/>\n",
       "  </g>\n",
       "  <g transform=\"translate(51.07,50)\" fill=\"#ADD8E6\">\n",
       "    <circle cx=\"0\" cy=\"0\" r=\"3.24\" class=\"primitive\"/>\n",
       "  </g>\n",
       "  <g transform=\"translate(51.07,64.88)\" fill=\"#ADD8E6\">\n",
       "    <circle cx=\"0\" cy=\"0\" r=\"3.24\" class=\"primitive\"/>\n",
       "  </g>\n",
       "  <g transform=\"translate(51.07,79.76)\" fill=\"#ADD8E6\">\n",
       "    <circle cx=\"0\" cy=\"0\" r=\"3.24\" class=\"primitive\"/>\n",
       "  </g>\n",
       "  <g transform=\"translate(90.35,8.33)\" fill=\"#FFFF00\">\n",
       "    <circle cx=\"0\" cy=\"0\" r=\"3.24\" class=\"primitive\"/>\n",
       "  </g>\n",
       "  <g transform=\"translate(90.35,22.22)\" fill=\"#FFFF00\">\n",
       "    <circle cx=\"0\" cy=\"0\" r=\"3.24\" class=\"primitive\"/>\n",
       "  </g>\n",
       "  <g transform=\"translate(90.35,36.11)\" fill=\"#FFFF00\">\n",
       "    <circle cx=\"0\" cy=\"0\" r=\"3.24\" class=\"primitive\"/>\n",
       "  </g>\n",
       "  <g transform=\"translate(90.35,50)\" fill=\"#FFFF00\">\n",
       "    <circle cx=\"0\" cy=\"0\" r=\"3.24\" class=\"primitive\"/>\n",
       "  </g>\n",
       "  <g transform=\"translate(90.35,63.89)\" fill=\"#FFFF00\">\n",
       "    <circle cx=\"0\" cy=\"0\" r=\"3.24\" class=\"primitive\"/>\n",
       "  </g>\n",
       "  <g transform=\"translate(90.35,77.78)\" fill=\"#FFFF00\">\n",
       "    <circle cx=\"0\" cy=\"0\" r=\"3.24\" class=\"primitive\"/>\n",
       "  </g>\n",
       "  <g transform=\"translate(90.35,91.67)\" fill=\"#FFFF00\">\n",
       "    <circle cx=\"0\" cy=\"0\" r=\"3.24\" class=\"primitive\"/>\n",
       "  </g>\n",
       "  <g transform=\"translate(129.64,26.19)\" fill=\"#90EE90\">\n",
       "    <circle cx=\"0\" cy=\"0\" r=\"3.24\" class=\"primitive\"/>\n",
       "  </g>\n",
       "  <g transform=\"translate(129.64,42.06)\" fill=\"#90EE90\">\n",
       "    <circle cx=\"0\" cy=\"0\" r=\"3.24\" class=\"primitive\"/>\n",
       "  </g>\n",
       "  <g transform=\"translate(129.64,57.94)\" fill=\"#90EE90\">\n",
       "    <circle cx=\"0\" cy=\"0\" r=\"3.24\" class=\"primitive\"/>\n",
       "  </g>\n",
       "  <g transform=\"translate(129.64,73.81)\" fill=\"#90EE90\">\n",
       "    <circle cx=\"0\" cy=\"0\" r=\"3.24\" class=\"primitive\"/>\n",
       "  </g>\n",
       "</g>\n",
       "<g font-size=\"4\" stroke=\"#000000\" stroke-opacity=\"0.000\" fill=\"#000000\" id=\"img-6ad8c332-5\">\n",
       "  <g transform=\"translate(11.79,32.14)\">\n",
       "    <g class=\"primitive\">\n",
       "      <text text-anchor=\"middle\" dy=\"0.35em\">s₁</text>\n",
       "    </g>\n",
       "  </g>\n",
       "  <g transform=\"translate(11.79,50)\">\n",
       "    <g class=\"primitive\">\n",
       "      <text text-anchor=\"middle\" dy=\"0.35em\">s₂</text>\n",
       "    </g>\n",
       "  </g>\n",
       "  <g transform=\"translate(11.79,67.86)\">\n",
       "    <g class=\"primitive\">\n",
       "      <text text-anchor=\"middle\" dy=\"0.35em\">s₃</text>\n",
       "    </g>\n",
       "  </g>\n",
       "  <g transform=\"translate(51.07,20.24)\">\n",
       "    <g class=\"primitive\">\n",
       "      <text text-anchor=\"middle\" dy=\"0.35em\">p₁</text>\n",
       "    </g>\n",
       "  </g>\n",
       "  <g transform=\"translate(51.07,35.12)\">\n",
       "    <g class=\"primitive\">\n",
       "      <text text-anchor=\"middle\" dy=\"0.35em\">p₂</text>\n",
       "    </g>\n",
       "  </g>\n",
       "  <g transform=\"translate(51.07,50)\">\n",
       "    <g class=\"primitive\">\n",
       "      <text text-anchor=\"middle\" dy=\"0.35em\">p₃</text>\n",
       "    </g>\n",
       "  </g>\n",
       "  <g transform=\"translate(51.07,64.88)\">\n",
       "    <g class=\"primitive\">\n",
       "      <text text-anchor=\"middle\" dy=\"0.35em\">p₄</text>\n",
       "    </g>\n",
       "  </g>\n",
       "  <g transform=\"translate(51.07,79.76)\">\n",
       "    <g class=\"primitive\">\n",
       "      <text text-anchor=\"middle\" dy=\"0.35em\">p₅</text>\n",
       "    </g>\n",
       "  </g>\n",
       "  <g transform=\"translate(90.35,8.33)\">\n",
       "    <g class=\"primitive\">\n",
       "      <text text-anchor=\"middle\" dy=\"0.35em\">d₁</text>\n",
       "    </g>\n",
       "  </g>\n",
       "  <g transform=\"translate(90.35,22.22)\">\n",
       "    <g class=\"primitive\">\n",
       "      <text text-anchor=\"middle\" dy=\"0.35em\">d₂</text>\n",
       "    </g>\n",
       "  </g>\n",
       "  <g transform=\"translate(90.35,36.11)\">\n",
       "    <g class=\"primitive\">\n",
       "      <text text-anchor=\"middle\" dy=\"0.35em\">d₃</text>\n",
       "    </g>\n",
       "  </g>\n",
       "  <g transform=\"translate(90.35,50)\">\n",
       "    <g class=\"primitive\">\n",
       "      <text text-anchor=\"middle\" dy=\"0.35em\">d₄</text>\n",
       "    </g>\n",
       "  </g>\n",
       "  <g transform=\"translate(90.35,63.89)\">\n",
       "    <g class=\"primitive\">\n",
       "      <text text-anchor=\"middle\" dy=\"0.35em\">d₅</text>\n",
       "    </g>\n",
       "  </g>\n",
       "  <g transform=\"translate(90.35,77.78)\">\n",
       "    <g class=\"primitive\">\n",
       "      <text text-anchor=\"middle\" dy=\"0.35em\">d₆</text>\n",
       "    </g>\n",
       "  </g>\n",
       "  <g transform=\"translate(90.35,91.67)\">\n",
       "    <g class=\"primitive\">\n",
       "      <text text-anchor=\"middle\" dy=\"0.35em\">d₇</text>\n",
       "    </g>\n",
       "  </g>\n",
       "  <g transform=\"translate(129.64,26.19)\">\n",
       "    <g class=\"primitive\">\n",
       "      <text text-anchor=\"middle\" dy=\"0.35em\">c₁</text>\n",
       "    </g>\n",
       "  </g>\n",
       "  <g transform=\"translate(129.64,42.06)\">\n",
       "    <g class=\"primitive\">\n",
       "      <text text-anchor=\"middle\" dy=\"0.35em\">c₂</text>\n",
       "    </g>\n",
       "  </g>\n",
       "  <g transform=\"translate(129.64,57.94)\">\n",
       "    <g class=\"primitive\">\n",
       "      <text text-anchor=\"middle\" dy=\"0.35em\">c₃</text>\n",
       "    </g>\n",
       "  </g>\n",
       "  <g transform=\"translate(129.64,73.81)\">\n",
       "    <g class=\"primitive\">\n",
       "      <text text-anchor=\"middle\" dy=\"0.35em\">c₄</text>\n",
       "    </g>\n",
       "  </g>\n",
       "</g>\n",
       "</svg>\n"
      ],
      "text/html": [
       "<?xml version=\"1.0\" encoding=\"UTF-8\"?>\n",
       "<svg xmlns=\"http://www.w3.org/2000/svg\"\n",
       "     xmlns:xlink=\"http://www.w3.org/1999/xlink\"\n",
       "     version=\"1.2\"\n",
       "     width=\"141.42mm\" height=\"100mm\" viewBox=\"0 0 141.42 100\"\n",
       "     stroke=\"none\"\n",
       "     fill=\"#000000\"\n",
       "     stroke-width=\"0.3\"\n",
       "     font-size=\"3.88\"\n",
       "\n",
       "     id=\"img-244adc6c\">\n",
       "<defs>\n",
       "  <marker id=\"arrow\" markerWidth=\"15\" markerHeight=\"7\" refX=\"5\" refY=\"3.5\" orient=\"auto\" markerUnits=\"strokeWidth\">\n",
       "    <path d=\"M0,0 L15,3.5 L0,7 z\" stroke=\"context-stroke\" fill=\"context-stroke\"/>\n",
       "  </marker>\n",
       "</defs>\n",
       "<g stroke-width=\"0.69\" fill=\"#000000\" fill-opacity=\"0.000\" stroke=\"#D3D3D3\" id=\"img-244adc6c-1\">\n",
       "  <g transform=\"translate(31.43,26.19)\">\n",
       "    <path fill=\"none\" d=\"M-16.54,5.01 L16.54,-5.01 \" class=\"primitive\"/>\n",
       "  </g>\n",
       "  <g transform=\"translate(31.43,42.56)\">\n",
       "    <path fill=\"none\" d=\"M-16.66,6.31 L16.66,-6.31 \" class=\"primitive\"/>\n",
       "  </g>\n",
       "  <g transform=\"translate(31.43,50)\">\n",
       "    <path fill=\"none\" d=\"M-16.26,0 L16.26,0 \" class=\"primitive\"/>\n",
       "  </g>\n",
       "  <g transform=\"translate(31.43,57.44)\">\n",
       "    <path fill=\"none\" d=\"M-16.66,-6.31 L16.66,6.31 \" class=\"primitive\"/>\n",
       "  </g>\n",
       "  <g transform=\"translate(31.43,58.93)\">\n",
       "    <path fill=\"none\" d=\"M-16.8,7.64 L16.8,-7.64 \" class=\"primitive\"/>\n",
       "  </g>\n",
       "  <g transform=\"translate(31.43,73.81)\">\n",
       "    <path fill=\"none\" d=\"M-16.54,-5.01 L16.54,5.01 \" class=\"primitive\"/>\n",
       "  </g>\n",
       "  <g transform=\"translate(70.71,14.29)\">\n",
       "    <path fill=\"none\" d=\"M-16.54,5.01 L16.54,-5.01 \" class=\"primitive\"/>\n",
       "  </g>\n",
       "  <g transform=\"translate(70.71,21.23)\">\n",
       "    <path fill=\"none\" d=\"M-16.27,-0.82 L16.27,0.82 \" class=\"primitive\"/>\n",
       "  </g>\n",
       "  <g transform=\"translate(70.71,28.67)\">\n",
       "    <path fill=\"none\" d=\"M-16.58,5.44 L16.58,-5.44 \" class=\"primitive\"/>\n",
       "  </g>\n",
       "  <g transform=\"translate(70.71,35.62)\">\n",
       "    <path fill=\"none\" d=\"M-16.26,-0.41 L16.26,0.41 \" class=\"primitive\"/>\n",
       "  </g>\n",
       "  <g transform=\"translate(70.71,42.56)\">\n",
       "    <path fill=\"none\" d=\"M-16.66,-6.31 L16.66,6.31 \" class=\"primitive\"/>\n",
       "  </g>\n",
       "  <g transform=\"translate(70.71,49.5)\">\n",
       "    <path fill=\"none\" d=\"M-17.29,-12.67 L17.29,12.67 \" class=\"primitive\"/>\n",
       "  </g>\n",
       "  <g transform=\"translate(70.71,50)\">\n",
       "    <path fill=\"none\" d=\"M-16.26,0 L16.26,0 \" class=\"primitive\"/>\n",
       "  </g>\n",
       "  <g transform=\"translate(70.71,63.89)\">\n",
       "    <path fill=\"none\" d=\"M-17.25,-12.2 L17.25,12.2 \" class=\"primitive\"/>\n",
       "  </g>\n",
       "  <g transform=\"translate(70.71,71.33)\">\n",
       "    <path fill=\"none\" d=\"M-16.58,-5.44 L16.58,5.44 \" class=\"primitive\"/>\n",
       "  </g>\n",
       "  <g transform=\"translate(70.71,50.99)\">\n",
       "    <path fill=\"none\" d=\"M-18.17,26.62 L18.17,-26.62 \" class=\"primitive\"/>\n",
       "  </g>\n",
       "  <g transform=\"translate(70.71,85.71)\">\n",
       "    <path fill=\"none\" d=\"M-16.54,-5.01 L16.54,5.01 \" class=\"primitive\"/>\n",
       "  </g>\n",
       "  <g transform=\"translate(109.99,17.26)\">\n",
       "    <path fill=\"none\" d=\"M-16.8,-7.64 L16.8,7.64 \" class=\"primitive\"/>\n",
       "  </g>\n",
       "  <g transform=\"translate(109.99,41.07)\">\n",
       "    <path fill=\"none\" d=\"M-18.32,-30.54 L18.32,30.54 \" class=\"primitive\"/>\n",
       "  </g>\n",
       "  <g transform=\"translate(109.99,32.14)\">\n",
       "    <path fill=\"none\" d=\"M-16.89,-8.53 L16.89,8.53 \" class=\"primitive\"/>\n",
       "  </g>\n",
       "  <g transform=\"translate(109.99,39.09)\">\n",
       "    <path fill=\"none\" d=\"M-16.34,-2.48 L16.34,2.48 \" class=\"primitive\"/>\n",
       "  </g>\n",
       "  <g transform=\"translate(109.99,53.97)\">\n",
       "    <path fill=\"none\" d=\"M-16.39,-3.31 L16.39,3.31 \" class=\"primitive\"/>\n",
       "  </g>\n",
       "  <g transform=\"translate(109.99,45.04)\">\n",
       "    <path fill=\"none\" d=\"M-17.64,16.93 L17.64,-16.93 \" class=\"primitive\"/>\n",
       "  </g>\n",
       "  <g transform=\"translate(109.99,51.98)\">\n",
       "    <path fill=\"none\" d=\"M-18.04,23.69 L18.04,-23.69 \" class=\"primitive\"/>\n",
       "  </g>\n",
       "  <g transform=\"translate(109.99,59.92)\">\n",
       "    <path fill=\"none\" d=\"M-17.57,15.97 L17.57,-15.97 \" class=\"primitive\"/>\n",
       "  </g>\n",
       "  <g transform=\"translate(109.99,74.8)\">\n",
       "    <path fill=\"none\" d=\"M-17.49,15.02 L17.49,-15.02 \" class=\"primitive\"/>\n",
       "  </g>\n",
       "  <g transform=\"translate(109.99,82.74)\">\n",
       "    <path fill=\"none\" d=\"M-16.8,7.64 L16.8,-7.64 \" class=\"primitive\"/>\n",
       "  </g>\n",
       "</g>\n",
       "<g stroke-width=\"0.69\" stroke=\"#D3D3D3\" id=\"img-244adc6c-2\">\n",
       "  <g transform=\"translate(44.57,22.21)\">\n",
       "    <path fill=\"none\" d=\"M-2.49,-0.8 L3.39,-1.03 -0.9,1.82 \" class=\"primitive\"/>\n",
       "  </g>\n",
       "  <g transform=\"translate(44.84,37.48)\">\n",
       "    <path fill=\"none\" d=\"M-2.58,-0.64 L3.25,-1.23 -0.68,1.87 \" class=\"primitive\"/>\n",
       "  </g>\n",
       "  <g transform=\"translate(44,50)\">\n",
       "    <path fill=\"none\" d=\"M-1.85,-1.43 L3.69,0 -1.85,1.43 \" class=\"primitive\"/>\n",
       "  </g>\n",
       "  <g transform=\"translate(44.84,62.52)\">\n",
       "    <path fill=\"none\" d=\"M-0.68,-1.87 L3.25,1.23 -2.58,0.64 \" class=\"primitive\"/>\n",
       "  </g>\n",
       "  <g transform=\"translate(45.12,52.7)\">\n",
       "    <path fill=\"none\" d=\"M-2.64,-0.49 L3.11,-1.41 -0.46,1.9 \" class=\"primitive\"/>\n",
       "  </g>\n",
       "  <g transform=\"translate(44.57,77.79)\">\n",
       "    <path fill=\"none\" d=\"M-0.9,-1.82 L3.39,1.03 -2.49,0.8 \" class=\"primitive\"/>\n",
       "  </g>\n",
       "  <g transform=\"translate(83.85,10.3)\">\n",
       "    <path fill=\"none\" d=\"M-2.49,-0.8 L3.39,-1.03 -0.9,1.82 \" class=\"primitive\"/>\n",
       "  </g>\n",
       "  <g transform=\"translate(83.3,21.87)\">\n",
       "    <path fill=\"none\" d=\"M-1.7,-1.51 L3.68,0.19 -1.98,1.33 \" class=\"primitive\"/>\n",
       "  </g>\n",
       "  <g transform=\"translate(83.94,24.33)\">\n",
       "    <path fill=\"none\" d=\"M-2.52,-0.74 L3.35,-1.1 -0.83,1.84 \" class=\"primitive\"/>\n",
       "  </g>\n",
       "  <g transform=\"translate(83.29,35.93)\">\n",
       "    <path fill=\"none\" d=\"M-1.77,-1.47 L3.69,0.09 -1.92,1.38 \" class=\"primitive\"/>\n",
       "  </g>\n",
       "  <g transform=\"translate(84.12,47.64)\">\n",
       "    <path fill=\"none\" d=\"M-0.68,-1.87 L3.25,1.23 -2.58,0.64 \" class=\"primitive\"/>\n",
       "  </g>\n",
       "  <g transform=\"translate(85.44,60.29)\">\n",
       "    <path fill=\"none\" d=\"M0.17,-1.93 L2.56,1.88 -2.73,0.05 \" class=\"primitive\"/>\n",
       "  </g>\n",
       "  <g transform=\"translate(83.28,50)\">\n",
       "    <path fill=\"none\" d=\"M-1.85,-1.43 L3.69,0 -1.85,1.43 \" class=\"primitive\"/>\n",
       "  </g>\n",
       "  <g transform=\"translate(85.35,74.24)\">\n",
       "    <path fill=\"none\" d=\"M0.12,-1.93 L2.61,1.85 -2.73,0.08 \" class=\"primitive\"/>\n",
       "  </g>\n",
       "  <g transform=\"translate(83.94,75.67)\">\n",
       "    <path fill=\"none\" d=\"M-0.83,-1.84 L3.35,1.1 -2.52,0.74 \" class=\"primitive\"/>\n",
       "  </g>\n",
       "  <g transform=\"translate(87.28,26.72)\">\n",
       "    <path fill=\"none\" d=\"M-2.62,0.56 L1.6,-2.35 1.01,1.79 \" class=\"primitive\"/>\n",
       "  </g>\n",
       "  <g transform=\"translate(83.85,89.7)\">\n",
       "    <path fill=\"none\" d=\"M-0.9,-1.82 L3.39,1.03 -2.49,0.8 \" class=\"primitive\"/>\n",
       "  </g>\n",
       "  <g transform=\"translate(123.69,23.49)\">\n",
       "    <path fill=\"none\" d=\"M-0.46,-1.9 L3.11,1.41 -2.64,0.49 \" class=\"primitive\"/>\n",
       "  </g>\n",
       "  <g transform=\"translate(126.87,69.21)\">\n",
       "    <path fill=\"none\" d=\"M1.13,-1.76 L1.44,2.4 -2.58,-0.64 \" class=\"primitive\"/>\n",
       "  </g>\n",
       "  <g transform=\"translate(123.88,39.16)\">\n",
       "    <path fill=\"none\" d=\"M-0.33,-1.92 L3,1.52 -2.67,0.4 \" class=\"primitive\"/>\n",
       "  </g>\n",
       "  <g transform=\"translate(122.72,41.02)\">\n",
       "    <path fill=\"none\" d=\"M-1.38,-1.67 L3.61,0.55 -2.23,1.12 \" class=\"primitive\"/>\n",
       "  </g>\n",
       "  <g transform=\"translate(122.84,56.56)\">\n",
       "    <path fill=\"none\" d=\"M-1.22,-1.73 L3.55,0.72 -2.33,1.01 \" class=\"primitive\"/>\n",
       "  </g>\n",
       "  <g transform=\"translate(125.44,30.22)\">\n",
       "    <path fill=\"none\" d=\"M-2.72,0.21 L2.19,-2.1 0.53,1.9 \" class=\"primitive\"/>\n",
       "  </g>\n",
       "  <g transform=\"translate(126.28,30.59)\">\n",
       "    <path fill=\"none\" d=\"M-2.65,0.47 L1.75,-2.3 0.9,1.82 \" class=\"primitive\"/>\n",
       "  </g>\n",
       "  <g transform=\"translate(125.3,46.01)\">\n",
       "    <path fill=\"none\" d=\"M-2.72,0.16 L2.27,-2.06 0.46,1.91 \" class=\"primitive\"/>\n",
       "  </g>\n",
       "  <g transform=\"translate(125.14,61.8)\">\n",
       "    <path fill=\"none\" d=\"M-2.73,0.1 L2.35,-2.01 0.38,1.91 \" class=\"primitive\"/>\n",
       "  </g>\n",
       "  <g transform=\"translate(123.69,76.51)\">\n",
       "    <path fill=\"none\" d=\"M-2.64,-0.49 L3.11,-1.41 -0.46,1.9 \" class=\"primitive\"/>\n",
       "  </g>\n",
       "</g>\n",
       "<g font-size=\"4\" stroke=\"#000000\" stroke-opacity=\"0.000\" fill=\"#000000\" id=\"img-244adc6c-3\">\n",
       "</g>\n",
       "<g stroke-width=\"0\" stroke=\"#000000\" stroke-opacity=\"0.000\" id=\"img-244adc6c-4\">\n",
       "  <g transform=\"translate(11.79,32.14)\" fill=\"#FFA500\">\n",
       "    <circle cx=\"0\" cy=\"0\" r=\"3.24\" class=\"primitive\"/>\n",
       "  </g>\n",
       "  <g transform=\"translate(11.79,50)\" fill=\"#FFA500\">\n",
       "    <circle cx=\"0\" cy=\"0\" r=\"3.24\" class=\"primitive\"/>\n",
       "  </g>\n",
       "  <g transform=\"translate(11.79,67.86)\" fill=\"#FFA500\">\n",
       "    <circle cx=\"0\" cy=\"0\" r=\"3.24\" class=\"primitive\"/>\n",
       "  </g>\n",
       "  <g transform=\"translate(51.07,20.24)\" fill=\"#ADD8E6\">\n",
       "    <circle cx=\"0\" cy=\"0\" r=\"3.24\" class=\"primitive\"/>\n",
       "  </g>\n",
       "  <g transform=\"translate(51.07,35.12)\" fill=\"#ADD8E6\">\n",
       "    <circle cx=\"0\" cy=\"0\" r=\"3.24\" class=\"primitive\"/>\n",
       "  </g>\n",
       "  <g transform=\"translate(51.07,50)\" fill=\"#ADD8E6\">\n",
       "    <circle cx=\"0\" cy=\"0\" r=\"3.24\" class=\"primitive\"/>\n",
       "  </g>\n",
       "  <g transform=\"translate(51.07,64.88)\" fill=\"#ADD8E6\">\n",
       "    <circle cx=\"0\" cy=\"0\" r=\"3.24\" class=\"primitive\"/>\n",
       "  </g>\n",
       "  <g transform=\"translate(51.07,79.76)\" fill=\"#ADD8E6\">\n",
       "    <circle cx=\"0\" cy=\"0\" r=\"3.24\" class=\"primitive\"/>\n",
       "  </g>\n",
       "  <g transform=\"translate(90.35,8.33)\" fill=\"#FFFF00\">\n",
       "    <circle cx=\"0\" cy=\"0\" r=\"3.24\" class=\"primitive\"/>\n",
       "  </g>\n",
       "  <g transform=\"translate(90.35,22.22)\" fill=\"#FFFF00\">\n",
       "    <circle cx=\"0\" cy=\"0\" r=\"3.24\" class=\"primitive\"/>\n",
       "  </g>\n",
       "  <g transform=\"translate(90.35,36.11)\" fill=\"#FFFF00\">\n",
       "    <circle cx=\"0\" cy=\"0\" r=\"3.24\" class=\"primitive\"/>\n",
       "  </g>\n",
       "  <g transform=\"translate(90.35,50)\" fill=\"#FFFF00\">\n",
       "    <circle cx=\"0\" cy=\"0\" r=\"3.24\" class=\"primitive\"/>\n",
       "  </g>\n",
       "  <g transform=\"translate(90.35,63.89)\" fill=\"#FFFF00\">\n",
       "    <circle cx=\"0\" cy=\"0\" r=\"3.24\" class=\"primitive\"/>\n",
       "  </g>\n",
       "  <g transform=\"translate(90.35,77.78)\" fill=\"#FFFF00\">\n",
       "    <circle cx=\"0\" cy=\"0\" r=\"3.24\" class=\"primitive\"/>\n",
       "  </g>\n",
       "  <g transform=\"translate(90.35,91.67)\" fill=\"#FFFF00\">\n",
       "    <circle cx=\"0\" cy=\"0\" r=\"3.24\" class=\"primitive\"/>\n",
       "  </g>\n",
       "  <g transform=\"translate(129.64,26.19)\" fill=\"#90EE90\">\n",
       "    <circle cx=\"0\" cy=\"0\" r=\"3.24\" class=\"primitive\"/>\n",
       "  </g>\n",
       "  <g transform=\"translate(129.64,42.06)\" fill=\"#90EE90\">\n",
       "    <circle cx=\"0\" cy=\"0\" r=\"3.24\" class=\"primitive\"/>\n",
       "  </g>\n",
       "  <g transform=\"translate(129.64,57.94)\" fill=\"#90EE90\">\n",
       "    <circle cx=\"0\" cy=\"0\" r=\"3.24\" class=\"primitive\"/>\n",
       "  </g>\n",
       "  <g transform=\"translate(129.64,73.81)\" fill=\"#90EE90\">\n",
       "    <circle cx=\"0\" cy=\"0\" r=\"3.24\" class=\"primitive\"/>\n",
       "  </g>\n",
       "</g>\n",
       "<g font-size=\"4\" stroke=\"#000000\" stroke-opacity=\"0.000\" fill=\"#000000\" id=\"img-244adc6c-5\">\n",
       "  <g transform=\"translate(11.79,32.14)\">\n",
       "    <g class=\"primitive\">\n",
       "      <text text-anchor=\"middle\" dy=\"0.35em\">s₁</text>\n",
       "    </g>\n",
       "  </g>\n",
       "  <g transform=\"translate(11.79,50)\">\n",
       "    <g class=\"primitive\">\n",
       "      <text text-anchor=\"middle\" dy=\"0.35em\">s₂</text>\n",
       "    </g>\n",
       "  </g>\n",
       "  <g transform=\"translate(11.79,67.86)\">\n",
       "    <g class=\"primitive\">\n",
       "      <text text-anchor=\"middle\" dy=\"0.35em\">s₃</text>\n",
       "    </g>\n",
       "  </g>\n",
       "  <g transform=\"translate(51.07,20.24)\">\n",
       "    <g class=\"primitive\">\n",
       "      <text text-anchor=\"middle\" dy=\"0.35em\">p₁</text>\n",
       "    </g>\n",
       "  </g>\n",
       "  <g transform=\"translate(51.07,35.12)\">\n",
       "    <g class=\"primitive\">\n",
       "      <text text-anchor=\"middle\" dy=\"0.35em\">p₂</text>\n",
       "    </g>\n",
       "  </g>\n",
       "  <g transform=\"translate(51.07,50)\">\n",
       "    <g class=\"primitive\">\n",
       "      <text text-anchor=\"middle\" dy=\"0.35em\">p₃</text>\n",
       "    </g>\n",
       "  </g>\n",
       "  <g transform=\"translate(51.07,64.88)\">\n",
       "    <g class=\"primitive\">\n",
       "      <text text-anchor=\"middle\" dy=\"0.35em\">p₄</text>\n",
       "    </g>\n",
       "  </g>\n",
       "  <g transform=\"translate(51.07,79.76)\">\n",
       "    <g class=\"primitive\">\n",
       "      <text text-anchor=\"middle\" dy=\"0.35em\">p₅</text>\n",
       "    </g>\n",
       "  </g>\n",
       "  <g transform=\"translate(90.35,8.33)\">\n",
       "    <g class=\"primitive\">\n",
       "      <text text-anchor=\"middle\" dy=\"0.35em\">d₁</text>\n",
       "    </g>\n",
       "  </g>\n",
       "  <g transform=\"translate(90.35,22.22)\">\n",
       "    <g class=\"primitive\">\n",
       "      <text text-anchor=\"middle\" dy=\"0.35em\">d₂</text>\n",
       "    </g>\n",
       "  </g>\n",
       "  <g transform=\"translate(90.35,36.11)\">\n",
       "    <g class=\"primitive\">\n",
       "      <text text-anchor=\"middle\" dy=\"0.35em\">d₃</text>\n",
       "    </g>\n",
       "  </g>\n",
       "  <g transform=\"translate(90.35,50)\">\n",
       "    <g class=\"primitive\">\n",
       "      <text text-anchor=\"middle\" dy=\"0.35em\">d₄</text>\n",
       "    </g>\n",
       "  </g>\n",
       "  <g transform=\"translate(90.35,63.89)\">\n",
       "    <g class=\"primitive\">\n",
       "      <text text-anchor=\"middle\" dy=\"0.35em\">d₅</text>\n",
       "    </g>\n",
       "  </g>\n",
       "  <g transform=\"translate(90.35,77.78)\">\n",
       "    <g class=\"primitive\">\n",
       "      <text text-anchor=\"middle\" dy=\"0.35em\">d₆</text>\n",
       "    </g>\n",
       "  </g>\n",
       "  <g transform=\"translate(90.35,91.67)\">\n",
       "    <g class=\"primitive\">\n",
       "      <text text-anchor=\"middle\" dy=\"0.35em\">d₇</text>\n",
       "    </g>\n",
       "  </g>\n",
       "  <g transform=\"translate(129.64,26.19)\">\n",
       "    <g class=\"primitive\">\n",
       "      <text text-anchor=\"middle\" dy=\"0.35em\">c₁</text>\n",
       "    </g>\n",
       "  </g>\n",
       "  <g transform=\"translate(129.64,42.06)\">\n",
       "    <g class=\"primitive\">\n",
       "      <text text-anchor=\"middle\" dy=\"0.35em\">c₂</text>\n",
       "    </g>\n",
       "  </g>\n",
       "  <g transform=\"translate(129.64,57.94)\">\n",
       "    <g class=\"primitive\">\n",
       "      <text text-anchor=\"middle\" dy=\"0.35em\">c₃</text>\n",
       "    </g>\n",
       "  </g>\n",
       "  <g transform=\"translate(129.64,73.81)\">\n",
       "    <g class=\"primitive\">\n",
       "      <text text-anchor=\"middle\" dy=\"0.35em\">c₄</text>\n",
       "    </g>\n",
       "  </g>\n",
       "</g>\n",
       "<script> <![CDATA[\n",
       "(function(N){var k=/[\\.\\/]/,L=/\\s*,\\s*/,C=function(a,d){return a-d},a,v,y={n:{}},M=function(){for(var a=0,d=this.length;a<d;a++)if(\"undefined\"!=typeof this[a])return this[a]},A=function(){for(var a=this.length;--a;)if(\"undefined\"!=typeof this[a])return this[a]},w=function(k,d){k=String(k);var f=v,n=Array.prototype.slice.call(arguments,2),u=w.listeners(k),p=0,b,q=[],e={},l=[],r=a;l.firstDefined=M;l.lastDefined=A;a=k;for(var s=v=0,x=u.length;s<x;s++)\"zIndex\"in u[s]&&(q.push(u[s].zIndex),0>u[s].zIndex&&\n",
       "(e[u[s].zIndex]=u[s]));for(q.sort(C);0>q[p];)if(b=e[q[p++] ],l.push(b.apply(d,n)),v)return v=f,l;for(s=0;s<x;s++)if(b=u[s],\"zIndex\"in b)if(b.zIndex==q[p]){l.push(b.apply(d,n));if(v)break;do if(p++,(b=e[q[p] ])&&l.push(b.apply(d,n)),v)break;while(b)}else e[b.zIndex]=b;else if(l.push(b.apply(d,n)),v)break;v=f;a=r;return l};w._events=y;w.listeners=function(a){a=a.split(k);var d=y,f,n,u,p,b,q,e,l=[d],r=[];u=0;for(p=a.length;u<p;u++){e=[];b=0;for(q=l.length;b<q;b++)for(d=l[b].n,f=[d[a[u] ],d[\"*\"] ],n=2;n--;)if(d=\n",
       "f[n])e.push(d),r=r.concat(d.f||[]);l=e}return r};w.on=function(a,d){a=String(a);if(\"function\"!=typeof d)return function(){};for(var f=a.split(L),n=0,u=f.length;n<u;n++)(function(a){a=a.split(k);for(var b=y,f,e=0,l=a.length;e<l;e++)b=b.n,b=b.hasOwnProperty(a[e])&&b[a[e] ]||(b[a[e] ]={n:{}});b.f=b.f||[];e=0;for(l=b.f.length;e<l;e++)if(b.f[e]==d){f=!0;break}!f&&b.f.push(d)})(f[n]);return function(a){+a==+a&&(d.zIndex=+a)}};w.f=function(a){var d=[].slice.call(arguments,1);return function(){w.apply(null,\n",
       "[a,null].concat(d).concat([].slice.call(arguments,0)))}};w.stop=function(){v=1};w.nt=function(k){return k?(new RegExp(\"(?:\\\\.|\\\\/|^)\"+k+\"(?:\\\\.|\\\\/|$)\")).test(a):a};w.nts=function(){return a.split(k)};w.off=w.unbind=function(a,d){if(a){var f=a.split(L);if(1<f.length)for(var n=0,u=f.length;n<u;n++)w.off(f[n],d);else{for(var f=a.split(k),p,b,q,e,l=[y],n=0,u=f.length;n<u;n++)for(e=0;e<l.length;e+=q.length-2){q=[e,1];p=l[e].n;if(\"*\"!=f[n])p[f[n] ]&&q.push(p[f[n] ]);else for(b in p)p.hasOwnProperty(b)&&\n",
       "q.push(p[b]);l.splice.apply(l,q)}n=0;for(u=l.length;n<u;n++)for(p=l[n];p.n;){if(d){if(p.f){e=0;for(f=p.f.length;e<f;e++)if(p.f[e]==d){p.f.splice(e,1);break}!p.f.length&&delete p.f}for(b in p.n)if(p.n.hasOwnProperty(b)&&p.n[b].f){q=p.n[b].f;e=0;for(f=q.length;e<f;e++)if(q[e]==d){q.splice(e,1);break}!q.length&&delete p.n[b].f}}else for(b in delete p.f,p.n)p.n.hasOwnProperty(b)&&p.n[b].f&&delete p.n[b].f;p=p.n}}}else w._events=y={n:{}}};w.once=function(a,d){var f=function(){w.unbind(a,f);return d.apply(this,\n",
       "arguments)};return w.on(a,f)};w.version=\"0.4.2\";w.toString=function(){return\"You are running Eve 0.4.2\"};\"undefined\"!=typeof module&&module.exports?module.exports=w:\"function\"===typeof define&&define.amd?define(\"eve\",[],function(){return w}):N.eve=w})(this);\n",
       "(function(N,k){\"function\"===typeof define&&define.amd?define(\"Snap.svg\",[\"eve\"],function(L){return k(N,L)}):k(N,N.eve)})(this,function(N,k){var L=function(a){var k={},y=N.requestAnimationFrame||N.webkitRequestAnimationFrame||N.mozRequestAnimationFrame||N.oRequestAnimationFrame||N.msRequestAnimationFrame||function(a){setTimeout(a,16)},M=Array.isArray||function(a){return a instanceof Array||\"[object Array]\"==Object.prototype.toString.call(a)},A=0,w=\"M\"+(+new Date).toString(36),z=function(a){if(null==\n",
       "a)return this.s;var b=this.s-a;this.b+=this.dur*b;this.B+=this.dur*b;this.s=a},d=function(a){if(null==a)return this.spd;this.spd=a},f=function(a){if(null==a)return this.dur;this.s=this.s*a/this.dur;this.dur=a},n=function(){delete k[this.id];this.update();a(\"mina.stop.\"+this.id,this)},u=function(){this.pdif||(delete k[this.id],this.update(),this.pdif=this.get()-this.b)},p=function(){this.pdif&&(this.b=this.get()-this.pdif,delete this.pdif,k[this.id]=this)},b=function(){var a;if(M(this.start)){a=[];\n",
       "for(var b=0,e=this.start.length;b<e;b++)a[b]=+this.start[b]+(this.end[b]-this.start[b])*this.easing(this.s)}else a=+this.start+(this.end-this.start)*this.easing(this.s);this.set(a)},q=function(){var l=0,b;for(b in k)if(k.hasOwnProperty(b)){var e=k[b],f=e.get();l++;e.s=(f-e.b)/(e.dur/e.spd);1<=e.s&&(delete k[b],e.s=1,l--,function(b){setTimeout(function(){a(\"mina.finish.\"+b.id,b)})}(e));e.update()}l&&y(q)},e=function(a,r,s,x,G,h,J){a={id:w+(A++).toString(36),start:a,end:r,b:s,s:0,dur:x-s,spd:1,get:G,\n",
       "set:h,easing:J||e.linear,status:z,speed:d,duration:f,stop:n,pause:u,resume:p,update:b};k[a.id]=a;r=0;for(var K in k)if(k.hasOwnProperty(K)&&(r++,2==r))break;1==r&&y(q);return a};e.time=Date.now||function(){return+new Date};e.getById=function(a){return k[a]||null};e.linear=function(a){return a};e.easeout=function(a){return Math.pow(a,1.7)};e.easein=function(a){return Math.pow(a,0.48)};e.easeinout=function(a){if(1==a)return 1;if(0==a)return 0;var b=0.48-a/1.04,e=Math.sqrt(0.1734+b*b);a=e-b;a=Math.pow(Math.abs(a),\n",
       "1/3)*(0>a?-1:1);b=-e-b;b=Math.pow(Math.abs(b),1/3)*(0>b?-1:1);a=a+b+0.5;return 3*(1-a)*a*a+a*a*a};e.backin=function(a){return 1==a?1:a*a*(2.70158*a-1.70158)};e.backout=function(a){if(0==a)return 0;a-=1;return a*a*(2.70158*a+1.70158)+1};e.elastic=function(a){return a==!!a?a:Math.pow(2,-10*a)*Math.sin(2*(a-0.075)*Math.PI/0.3)+1};e.bounce=function(a){a<1/2.75?a*=7.5625*a:a<2/2.75?(a-=1.5/2.75,a=7.5625*a*a+0.75):a<2.5/2.75?(a-=2.25/2.75,a=7.5625*a*a+0.9375):(a-=2.625/2.75,a=7.5625*a*a+0.984375);return a};\n",
       "return N.mina=e}(\"undefined\"==typeof k?function(){}:k),C=function(){function a(c,t){if(c){if(c.tagName)return x(c);if(y(c,\"array\")&&a.set)return a.set.apply(a,c);if(c instanceof e)return c;if(null==t)return c=G.doc.querySelector(c),x(c)}return new s(null==c?\"100%\":c,null==t?\"100%\":t)}function v(c,a){if(a){\"#text\"==c&&(c=G.doc.createTextNode(a.text||\"\"));\"string\"==typeof c&&(c=v(c));if(\"string\"==typeof a)return\"xlink:\"==a.substring(0,6)?c.getAttributeNS(m,a.substring(6)):\"xml:\"==a.substring(0,4)?c.getAttributeNS(la,\n",
       "a.substring(4)):c.getAttribute(a);for(var da in a)if(a[h](da)){var b=J(a[da]);b?\"xlink:\"==da.substring(0,6)?c.setAttributeNS(m,da.substring(6),b):\"xml:\"==da.substring(0,4)?c.setAttributeNS(la,da.substring(4),b):c.setAttribute(da,b):c.removeAttribute(da)}}else c=G.doc.createElementNS(la,c);return c}function y(c,a){a=J.prototype.toLowerCase.call(a);return\"finite\"==a?isFinite(c):\"array\"==a&&(c instanceof Array||Array.isArray&&Array.isArray(c))?!0:\"null\"==a&&null===c||a==typeof c&&null!==c||\"object\"==\n",
       "a&&c===Object(c)||$.call(c).slice(8,-1).toLowerCase()==a}function M(c){if(\"function\"==typeof c||Object(c)!==c)return c;var a=new c.constructor,b;for(b in c)c[h](b)&&(a[b]=M(c[b]));return a}function A(c,a,b){function m(){var e=Array.prototype.slice.call(arguments,0),f=e.join(\"\\u2400\"),d=m.cache=m.cache||{},l=m.count=m.count||[];if(d[h](f)){a:for(var e=l,l=f,B=0,H=e.length;B<H;B++)if(e[B]===l){e.push(e.splice(B,1)[0]);break a}return b?b(d[f]):d[f]}1E3<=l.length&&delete d[l.shift()];l.push(f);d[f]=c.apply(a,\n",
       "e);return b?b(d[f]):d[f]}return m}function w(c,a,b,m,e,f){return null==e?(c-=b,a-=m,c||a?(180*I.atan2(-a,-c)/C+540)%360:0):w(c,a,e,f)-w(b,m,e,f)}function z(c){return c%360*C/180}function d(c){var a=[];c=c.replace(/(?:^|\\s)(\\w+)\\(([^)]+)\\)/g,function(c,b,m){m=m.split(/\\s*,\\s*|\\s+/);\"rotate\"==b&&1==m.length&&m.push(0,0);\"scale\"==b&&(2<m.length?m=m.slice(0,2):2==m.length&&m.push(0,0),1==m.length&&m.push(m[0],0,0));\"skewX\"==b?a.push([\"m\",1,0,I.tan(z(m[0])),1,0,0]):\"skewY\"==b?a.push([\"m\",1,I.tan(z(m[0])),\n",
       "0,1,0,0]):a.push([b.charAt(0)].concat(m));return c});return a}function f(c,t){var b=O(c),m=new a.Matrix;if(b)for(var e=0,f=b.length;e<f;e++){var h=b[e],d=h.length,B=J(h[0]).toLowerCase(),H=h[0]!=B,l=H?m.invert():0,E;\"t\"==B&&2==d?m.translate(h[1],0):\"t\"==B&&3==d?H?(d=l.x(0,0),B=l.y(0,0),H=l.x(h[1],h[2]),l=l.y(h[1],h[2]),m.translate(H-d,l-B)):m.translate(h[1],h[2]):\"r\"==B?2==d?(E=E||t,m.rotate(h[1],E.x+E.width/2,E.y+E.height/2)):4==d&&(H?(H=l.x(h[2],h[3]),l=l.y(h[2],h[3]),m.rotate(h[1],H,l)):m.rotate(h[1],\n",
       "h[2],h[3])):\"s\"==B?2==d||3==d?(E=E||t,m.scale(h[1],h[d-1],E.x+E.width/2,E.y+E.height/2)):4==d?H?(H=l.x(h[2],h[3]),l=l.y(h[2],h[3]),m.scale(h[1],h[1],H,l)):m.scale(h[1],h[1],h[2],h[3]):5==d&&(H?(H=l.x(h[3],h[4]),l=l.y(h[3],h[4]),m.scale(h[1],h[2],H,l)):m.scale(h[1],h[2],h[3],h[4])):\"m\"==B&&7==d&&m.add(h[1],h[2],h[3],h[4],h[5],h[6])}return m}function n(c,t){if(null==t){var m=!0;t=\"linearGradient\"==c.type||\"radialGradient\"==c.type?c.node.getAttribute(\"gradientTransform\"):\"pattern\"==c.type?c.node.getAttribute(\"patternTransform\"):\n",
       "c.node.getAttribute(\"transform\");if(!t)return new a.Matrix;t=d(t)}else t=a._.rgTransform.test(t)?J(t).replace(/\\.{3}|\\u2026/g,c._.transform||aa):d(t),y(t,\"array\")&&(t=a.path?a.path.toString.call(t):J(t)),c._.transform=t;var b=f(t,c.getBBox(1));if(m)return b;c.matrix=b}function u(c){c=c.node.ownerSVGElement&&x(c.node.ownerSVGElement)||c.node.parentNode&&x(c.node.parentNode)||a.select(\"svg\")||a(0,0);var t=c.select(\"defs\"),t=null==t?!1:t.node;t||(t=r(\"defs\",c.node).node);return t}function p(c){return c.node.ownerSVGElement&&\n",
       "x(c.node.ownerSVGElement)||a.select(\"svg\")}function b(c,a,m){function b(c){if(null==c)return aa;if(c==+c)return c;v(B,{width:c});try{return B.getBBox().width}catch(a){return 0}}function h(c){if(null==c)return aa;if(c==+c)return c;v(B,{height:c});try{return B.getBBox().height}catch(a){return 0}}function e(b,B){null==a?d[b]=B(c.attr(b)||0):b==a&&(d=B(null==m?c.attr(b)||0:m))}var f=p(c).node,d={},B=f.querySelector(\".svg---mgr\");B||(B=v(\"rect\"),v(B,{x:-9E9,y:-9E9,width:10,height:10,\"class\":\"svg---mgr\",\n",
       "fill:\"none\"}),f.appendChild(B));switch(c.type){case \"rect\":e(\"rx\",b),e(\"ry\",h);case \"image\":e(\"width\",b),e(\"height\",h);case \"text\":e(\"x\",b);e(\"y\",h);break;case \"circle\":e(\"cx\",b);e(\"cy\",h);e(\"r\",b);break;case \"ellipse\":e(\"cx\",b);e(\"cy\",h);e(\"rx\",b);e(\"ry\",h);break;case \"line\":e(\"x1\",b);e(\"x2\",b);e(\"y1\",h);e(\"y2\",h);break;case \"marker\":e(\"refX\",b);e(\"markerWidth\",b);e(\"refY\",h);e(\"markerHeight\",h);break;case \"radialGradient\":e(\"fx\",b);e(\"fy\",h);break;case \"tspan\":e(\"dx\",b);e(\"dy\",h);break;default:e(a,\n",
       "b)}f.removeChild(B);return d}function q(c){y(c,\"array\")||(c=Array.prototype.slice.call(arguments,0));for(var a=0,b=0,m=this.node;this[a];)delete this[a++];for(a=0;a<c.length;a++)\"set\"==c[a].type?c[a].forEach(function(c){m.appendChild(c.node)}):m.appendChild(c[a].node);for(var h=m.childNodes,a=0;a<h.length;a++)this[b++]=x(h[a]);return this}function e(c){if(c.snap in E)return E[c.snap];var a=this.id=V(),b;try{b=c.ownerSVGElement}catch(m){}this.node=c;b&&(this.paper=new s(b));this.type=c.tagName;this.anims=\n",
       "{};this._={transform:[]};c.snap=a;E[a]=this;\"g\"==this.type&&(this.add=q);if(this.type in{g:1,mask:1,pattern:1})for(var e in s.prototype)s.prototype[h](e)&&(this[e]=s.prototype[e])}function l(c){this.node=c}function r(c,a){var b=v(c);a.appendChild(b);return x(b)}function s(c,a){var b,m,f,d=s.prototype;if(c&&\"svg\"==c.tagName){if(c.snap in E)return E[c.snap];var l=c.ownerDocument;b=new e(c);m=c.getElementsByTagName(\"desc\")[0];f=c.getElementsByTagName(\"defs\")[0];m||(m=v(\"desc\"),m.appendChild(l.createTextNode(\"Created with Snap\")),\n",
       "b.node.appendChild(m));f||(f=v(\"defs\"),b.node.appendChild(f));b.defs=f;for(var ca in d)d[h](ca)&&(b[ca]=d[ca]);b.paper=b.root=b}else b=r(\"svg\",G.doc.body),v(b.node,{height:a,version:1.1,width:c,xmlns:la});return b}function x(c){return!c||c instanceof e||c instanceof l?c:c.tagName&&\"svg\"==c.tagName.toLowerCase()?new s(c):c.tagName&&\"object\"==c.tagName.toLowerCase()&&\"image/svg+xml\"==c.type?new s(c.contentDocument.getElementsByTagName(\"svg\")[0]):new e(c)}a.version=\"0.3.0\";a.toString=function(){return\"Snap v\"+\n",
       "this.version};a._={};var G={win:N,doc:N.document};a._.glob=G;var h=\"hasOwnProperty\",J=String,K=parseFloat,U=parseInt,I=Math,P=I.max,Q=I.min,Y=I.abs,C=I.PI,aa=\"\",$=Object.prototype.toString,F=/^\\s*((#[a-f\\d]{6})|(#[a-f\\d]{3})|rgba?\\(\\s*([\\d\\.]+%?\\s*,\\s*[\\d\\.]+%?\\s*,\\s*[\\d\\.]+%?(?:\\s*,\\s*[\\d\\.]+%?)?)\\s*\\)|hsba?\\(\\s*([\\d\\.]+(?:deg|\\xb0|%)?\\s*,\\s*[\\d\\.]+%?\\s*,\\s*[\\d\\.]+(?:%?\\s*,\\s*[\\d\\.]+)?%?)\\s*\\)|hsla?\\(\\s*([\\d\\.]+(?:deg|\\xb0|%)?\\s*,\\s*[\\d\\.]+%?\\s*,\\s*[\\d\\.]+(?:%?\\s*,\\s*[\\d\\.]+)?%?)\\s*\\))\\s*$/i;a._.separator=\n",
       "RegExp(\"[,\\t\\n\\x0B\\f\\r \\u00a0\\u1680\\u180e\\u2000\\u2001\\u2002\\u2003\\u2004\\u2005\\u2006\\u2007\\u2008\\u2009\\u200a\\u202f\\u205f\\u3000\\u2028\\u2029]+\");var S=RegExp(\"[\\t\\n\\x0B\\f\\r \\u00a0\\u1680\\u180e\\u2000\\u2001\\u2002\\u2003\\u2004\\u2005\\u2006\\u2007\\u2008\\u2009\\u200a\\u202f\\u205f\\u3000\\u2028\\u2029]*,[\\t\\n\\x0B\\f\\r \\u00a0\\u1680\\u180e\\u2000\\u2001\\u2002\\u2003\\u2004\\u2005\\u2006\\u2007\\u2008\\u2009\\u200a\\u202f\\u205f\\u3000\\u2028\\u2029]*\"),X={hs:1,rg:1},W=RegExp(\"([a-z])[\\t\\n\\x0B\\f\\r \\u00a0\\u1680\\u180e\\u2000\\u2001\\u2002\\u2003\\u2004\\u2005\\u2006\\u2007\\u2008\\u2009\\u200a\\u202f\\u205f\\u3000\\u2028\\u2029,]*((-?\\\\d*\\\\.?\\\\d*(?:e[\\\\-+]?\\\\d+)?[\\t\\n\\x0B\\f\\r \\u00a0\\u1680\\u180e\\u2000\\u2001\\u2002\\u2003\\u2004\\u2005\\u2006\\u2007\\u2008\\u2009\\u200a\\u202f\\u205f\\u3000\\u2028\\u2029]*,?[\\t\\n\\x0B\\f\\r \\u00a0\\u1680\\u180e\\u2000\\u2001\\u2002\\u2003\\u2004\\u2005\\u2006\\u2007\\u2008\\u2009\\u200a\\u202f\\u205f\\u3000\\u2028\\u2029]*)+)\",\n",
       "\"ig\"),ma=RegExp(\"([rstm])[\\t\\n\\x0B\\f\\r \\u00a0\\u1680\\u180e\\u2000\\u2001\\u2002\\u2003\\u2004\\u2005\\u2006\\u2007\\u2008\\u2009\\u200a\\u202f\\u205f\\u3000\\u2028\\u2029,]*((-?\\\\d*\\\\.?\\\\d*(?:e[\\\\-+]?\\\\d+)?[\\t\\n\\x0B\\f\\r \\u00a0\\u1680\\u180e\\u2000\\u2001\\u2002\\u2003\\u2004\\u2005\\u2006\\u2007\\u2008\\u2009\\u200a\\u202f\\u205f\\u3000\\u2028\\u2029]*,?[\\t\\n\\x0B\\f\\r \\u00a0\\u1680\\u180e\\u2000\\u2001\\u2002\\u2003\\u2004\\u2005\\u2006\\u2007\\u2008\\u2009\\u200a\\u202f\\u205f\\u3000\\u2028\\u2029]*)+)\",\"ig\"),Z=RegExp(\"(-?\\\\d*\\\\.?\\\\d*(?:e[\\\\-+]?\\\\d+)?)[\\t\\n\\x0B\\f\\r \\u00a0\\u1680\\u180e\\u2000\\u2001\\u2002\\u2003\\u2004\\u2005\\u2006\\u2007\\u2008\\u2009\\u200a\\u202f\\u205f\\u3000\\u2028\\u2029]*,?[\\t\\n\\x0B\\f\\r \\u00a0\\u1680\\u180e\\u2000\\u2001\\u2002\\u2003\\u2004\\u2005\\u2006\\u2007\\u2008\\u2009\\u200a\\u202f\\u205f\\u3000\\u2028\\u2029]*\",\n",
       "\"ig\"),na=0,ba=\"S\"+(+new Date).toString(36),V=function(){return ba+(na++).toString(36)},m=\"http://www.w3.org/1999/xlink\",la=\"http://www.w3.org/2000/svg\",E={},ca=a.url=function(c){return\"url('#\"+c+\"')\"};a._.$=v;a._.id=V;a.format=function(){var c=/\\{([^\\}]+)\\}/g,a=/(?:(?:^|\\.)(.+?)(?=\\[|\\.|$|\\()|\\[('|\")(.+?)\\2\\])(\\(\\))?/g,b=function(c,b,m){var h=m;b.replace(a,function(c,a,b,m,t){a=a||m;h&&(a in h&&(h=h[a]),\"function\"==typeof h&&t&&(h=h()))});return h=(null==h||h==m?c:h)+\"\"};return function(a,m){return J(a).replace(c,\n",
       "function(c,a){return b(c,a,m)})}}();a._.clone=M;a._.cacher=A;a.rad=z;a.deg=function(c){return 180*c/C%360};a.angle=w;a.is=y;a.snapTo=function(c,a,b){b=y(b,\"finite\")?b:10;if(y(c,\"array\"))for(var m=c.length;m--;){if(Y(c[m]-a)<=b)return c[m]}else{c=+c;m=a%c;if(m<b)return a-m;if(m>c-b)return a-m+c}return a};a.getRGB=A(function(c){if(!c||(c=J(c)).indexOf(\"-\")+1)return{r:-1,g:-1,b:-1,hex:\"none\",error:1,toString:ka};if(\"none\"==c)return{r:-1,g:-1,b:-1,hex:\"none\",toString:ka};!X[h](c.toLowerCase().substring(0,\n",
       "2))&&\"#\"!=c.charAt()&&(c=T(c));if(!c)return{r:-1,g:-1,b:-1,hex:\"none\",error:1,toString:ka};var b,m,e,f,d;if(c=c.match(F)){c[2]&&(e=U(c[2].substring(5),16),m=U(c[2].substring(3,5),16),b=U(c[2].substring(1,3),16));c[3]&&(e=U((d=c[3].charAt(3))+d,16),m=U((d=c[3].charAt(2))+d,16),b=U((d=c[3].charAt(1))+d,16));c[4]&&(d=c[4].split(S),b=K(d[0]),\"%\"==d[0].slice(-1)&&(b*=2.55),m=K(d[1]),\"%\"==d[1].slice(-1)&&(m*=2.55),e=K(d[2]),\"%\"==d[2].slice(-1)&&(e*=2.55),\"rgba\"==c[1].toLowerCase().slice(0,4)&&(f=K(d[3])),\n",
       "d[3]&&\"%\"==d[3].slice(-1)&&(f/=100));if(c[5])return d=c[5].split(S),b=K(d[0]),\"%\"==d[0].slice(-1)&&(b/=100),m=K(d[1]),\"%\"==d[1].slice(-1)&&(m/=100),e=K(d[2]),\"%\"==d[2].slice(-1)&&(e/=100),\"deg\"!=d[0].slice(-3)&&\"\\u00b0\"!=d[0].slice(-1)||(b/=360),\"hsba\"==c[1].toLowerCase().slice(0,4)&&(f=K(d[3])),d[3]&&\"%\"==d[3].slice(-1)&&(f/=100),a.hsb2rgb(b,m,e,f);if(c[6])return d=c[6].split(S),b=K(d[0]),\"%\"==d[0].slice(-1)&&(b/=100),m=K(d[1]),\"%\"==d[1].slice(-1)&&(m/=100),e=K(d[2]),\"%\"==d[2].slice(-1)&&(e/=100),\n",
       "\"deg\"!=d[0].slice(-3)&&\"\\u00b0\"!=d[0].slice(-1)||(b/=360),\"hsla\"==c[1].toLowerCase().slice(0,4)&&(f=K(d[3])),d[3]&&\"%\"==d[3].slice(-1)&&(f/=100),a.hsl2rgb(b,m,e,f);b=Q(I.round(b),255);m=Q(I.round(m),255);e=Q(I.round(e),255);f=Q(P(f,0),1);c={r:b,g:m,b:e,toString:ka};c.hex=\"#\"+(16777216|e|m<<8|b<<16).toString(16).slice(1);c.opacity=y(f,\"finite\")?f:1;return c}return{r:-1,g:-1,b:-1,hex:\"none\",error:1,toString:ka}},a);a.hsb=A(function(c,b,m){return a.hsb2rgb(c,b,m).hex});a.hsl=A(function(c,b,m){return a.hsl2rgb(c,\n",
       "b,m).hex});a.rgb=A(function(c,a,b,m){if(y(m,\"finite\")){var e=I.round;return\"rgba(\"+[e(c),e(a),e(b),+m.toFixed(2)]+\")\"}return\"#\"+(16777216|b|a<<8|c<<16).toString(16).slice(1)});var T=function(c){var a=G.doc.getElementsByTagName(\"head\")[0]||G.doc.getElementsByTagName(\"svg\")[0];T=A(function(c){if(\"red\"==c.toLowerCase())return\"rgb(255, 0, 0)\";a.style.color=\"rgb(255, 0, 0)\";a.style.color=c;c=G.doc.defaultView.getComputedStyle(a,aa).getPropertyValue(\"color\");return\"rgb(255, 0, 0)\"==c?null:c});return T(c)},\n",
       "qa=function(){return\"hsb(\"+[this.h,this.s,this.b]+\")\"},ra=function(){return\"hsl(\"+[this.h,this.s,this.l]+\")\"},ka=function(){return 1==this.opacity||null==this.opacity?this.hex:\"rgba(\"+[this.r,this.g,this.b,this.opacity]+\")\"},D=function(c,b,m){null==b&&y(c,\"object\")&&\"r\"in c&&\"g\"in c&&\"b\"in c&&(m=c.b,b=c.g,c=c.r);null==b&&y(c,string)&&(m=a.getRGB(c),c=m.r,b=m.g,m=m.b);if(1<c||1<b||1<m)c/=255,b/=255,m/=255;return[c,b,m]},oa=function(c,b,m,e){c=I.round(255*c);b=I.round(255*b);m=I.round(255*m);c={r:c,\n",
       "g:b,b:m,opacity:y(e,\"finite\")?e:1,hex:a.rgb(c,b,m),toString:ka};y(e,\"finite\")&&(c.opacity=e);return c};a.color=function(c){var b;y(c,\"object\")&&\"h\"in c&&\"s\"in c&&\"b\"in c?(b=a.hsb2rgb(c),c.r=b.r,c.g=b.g,c.b=b.b,c.opacity=1,c.hex=b.hex):y(c,\"object\")&&\"h\"in c&&\"s\"in c&&\"l\"in c?(b=a.hsl2rgb(c),c.r=b.r,c.g=b.g,c.b=b.b,c.opacity=1,c.hex=b.hex):(y(c,\"string\")&&(c=a.getRGB(c)),y(c,\"object\")&&\"r\"in c&&\"g\"in c&&\"b\"in c&&!(\"error\"in c)?(b=a.rgb2hsl(c),c.h=b.h,c.s=b.s,c.l=b.l,b=a.rgb2hsb(c),c.v=b.b):(c={hex:\"none\"},\n",
       "c.r=c.g=c.b=c.h=c.s=c.v=c.l=-1,c.error=1));c.toString=ka;return c};a.hsb2rgb=function(c,a,b,m){y(c,\"object\")&&\"h\"in c&&\"s\"in c&&\"b\"in c&&(b=c.b,a=c.s,c=c.h,m=c.o);var e,h,d;c=360*c%360/60;d=b*a;a=d*(1-Y(c%2-1));b=e=h=b-d;c=~~c;b+=[d,a,0,0,a,d][c];e+=[a,d,d,a,0,0][c];h+=[0,0,a,d,d,a][c];return oa(b,e,h,m)};a.hsl2rgb=function(c,a,b,m){y(c,\"object\")&&\"h\"in c&&\"s\"in c&&\"l\"in c&&(b=c.l,a=c.s,c=c.h);if(1<c||1<a||1<b)c/=360,a/=100,b/=100;var e,h,d;c=360*c%360/60;d=2*a*(0.5>b?b:1-b);a=d*(1-Y(c%2-1));b=e=\n",
       "h=b-d/2;c=~~c;b+=[d,a,0,0,a,d][c];e+=[a,d,d,a,0,0][c];h+=[0,0,a,d,d,a][c];return oa(b,e,h,m)};a.rgb2hsb=function(c,a,b){b=D(c,a,b);c=b[0];a=b[1];b=b[2];var m,e;m=P(c,a,b);e=m-Q(c,a,b);c=((0==e?0:m==c?(a-b)/e:m==a?(b-c)/e+2:(c-a)/e+4)+360)%6*60/360;return{h:c,s:0==e?0:e/m,b:m,toString:qa}};a.rgb2hsl=function(c,a,b){b=D(c,a,b);c=b[0];a=b[1];b=b[2];var m,e,h;m=P(c,a,b);e=Q(c,a,b);h=m-e;c=((0==h?0:m==c?(a-b)/h:m==a?(b-c)/h+2:(c-a)/h+4)+360)%6*60/360;m=(m+e)/2;return{h:c,s:0==h?0:0.5>m?h/(2*m):h/(2-2*\n",
       "m),l:m,toString:ra}};a.parsePathString=function(c){if(!c)return null;var b=a.path(c);if(b.arr)return a.path.clone(b.arr);var m={a:7,c:6,o:2,h:1,l:2,m:2,r:4,q:4,s:4,t:2,v:1,u:3,z:0},e=[];y(c,\"array\")&&y(c[0],\"array\")&&(e=a.path.clone(c));e.length||J(c).replace(W,function(c,a,b){var h=[];c=a.toLowerCase();b.replace(Z,function(c,a){a&&h.push(+a)});\"m\"==c&&2<h.length&&(e.push([a].concat(h.splice(0,2))),c=\"l\",a=\"m\"==a?\"l\":\"L\");\"o\"==c&&1==h.length&&e.push([a,h[0] ]);if(\"r\"==c)e.push([a].concat(h));else for(;h.length>=\n",
       "m[c]&&(e.push([a].concat(h.splice(0,m[c]))),m[c]););});e.toString=a.path.toString;b.arr=a.path.clone(e);return e};var O=a.parseTransformString=function(c){if(!c)return null;var b=[];y(c,\"array\")&&y(c[0],\"array\")&&(b=a.path.clone(c));b.length||J(c).replace(ma,function(c,a,m){var e=[];a.toLowerCase();m.replace(Z,function(c,a){a&&e.push(+a)});b.push([a].concat(e))});b.toString=a.path.toString;return b};a._.svgTransform2string=d;a._.rgTransform=RegExp(\"^[a-z][\\t\\n\\x0B\\f\\r \\u00a0\\u1680\\u180e\\u2000\\u2001\\u2002\\u2003\\u2004\\u2005\\u2006\\u2007\\u2008\\u2009\\u200a\\u202f\\u205f\\u3000\\u2028\\u2029]*-?\\\\.?\\\\d\",\n",
       "\"i\");a._.transform2matrix=f;a._unit2px=b;a._.getSomeDefs=u;a._.getSomeSVG=p;a.select=function(c){return x(G.doc.querySelector(c))};a.selectAll=function(c){c=G.doc.querySelectorAll(c);for(var b=(a.set||Array)(),m=0;m<c.length;m++)b.push(x(c[m]));return b};setInterval(function(){for(var c in E)if(E[h](c)){var a=E[c],b=a.node;(\"svg\"!=a.type&&!b.ownerSVGElement||\"svg\"==a.type&&(!b.parentNode||\"ownerSVGElement\"in b.parentNode&&!b.ownerSVGElement))&&delete E[c]}},1E4);(function(c){function m(c){function a(c,\n",
       "b){var m=v(c.node,b);(m=(m=m&&m.match(d))&&m[2])&&\"#\"==m.charAt()&&(m=m.substring(1))&&(f[m]=(f[m]||[]).concat(function(a){var m={};m[b]=ca(a);v(c.node,m)}))}function b(c){var a=v(c.node,\"xlink:href\");a&&\"#\"==a.charAt()&&(a=a.substring(1))&&(f[a]=(f[a]||[]).concat(function(a){c.attr(\"xlink:href\",\"#\"+a)}))}var e=c.selectAll(\"*\"),h,d=/^\\s*url\\((\"|'|)(.*)\\1\\)\\s*$/;c=[];for(var f={},l=0,E=e.length;l<E;l++){h=e[l];a(h,\"fill\");a(h,\"stroke\");a(h,\"filter\");a(h,\"mask\");a(h,\"clip-path\");b(h);var t=v(h.node,\n",
       "\"id\");t&&(v(h.node,{id:h.id}),c.push({old:t,id:h.id}))}l=0;for(E=c.length;l<E;l++)if(e=f[c[l].old])for(h=0,t=e.length;h<t;h++)e[h](c[l].id)}function e(c,a,b){return function(m){m=m.slice(c,a);1==m.length&&(m=m[0]);return b?b(m):m}}function d(c){return function(){var a=c?\"<\"+this.type:\"\",b=this.node.attributes,m=this.node.childNodes;if(c)for(var e=0,h=b.length;e<h;e++)a+=\" \"+b[e].name+'=\"'+b[e].value.replace(/\"/g,'\\\\\"')+'\"';if(m.length){c&&(a+=\">\");e=0;for(h=m.length;e<h;e++)3==m[e].nodeType?a+=m[e].nodeValue:\n",
       "1==m[e].nodeType&&(a+=x(m[e]).toString());c&&(a+=\"</\"+this.type+\">\")}else c&&(a+=\"/>\");return a}}c.attr=function(c,a){if(!c)return this;if(y(c,\"string\"))if(1<arguments.length){var b={};b[c]=a;c=b}else return k(\"snap.util.getattr.\"+c,this).firstDefined();for(var m in c)c[h](m)&&k(\"snap.util.attr.\"+m,this,c[m]);return this};c.getBBox=function(c){if(!a.Matrix||!a.path)return this.node.getBBox();var b=this,m=new a.Matrix;if(b.removed)return a._.box();for(;\"use\"==b.type;)if(c||(m=m.add(b.transform().localMatrix.translate(b.attr(\"x\")||\n",
       "0,b.attr(\"y\")||0))),b.original)b=b.original;else var e=b.attr(\"xlink:href\"),b=b.original=b.node.ownerDocument.getElementById(e.substring(e.indexOf(\"#\")+1));var e=b._,h=a.path.get[b.type]||a.path.get.deflt;try{if(c)return e.bboxwt=h?a.path.getBBox(b.realPath=h(b)):a._.box(b.node.getBBox()),a._.box(e.bboxwt);b.realPath=h(b);b.matrix=b.transform().localMatrix;e.bbox=a.path.getBBox(a.path.map(b.realPath,m.add(b.matrix)));return a._.box(e.bbox)}catch(d){return a._.box()}};var f=function(){return this.string};\n",
       "c.transform=function(c){var b=this._;if(null==c){var m=this;c=new a.Matrix(this.node.getCTM());for(var e=n(this),h=[e],d=new a.Matrix,l=e.toTransformString(),b=J(e)==J(this.matrix)?J(b.transform):l;\"svg\"!=m.type&&(m=m.parent());)h.push(n(m));for(m=h.length;m--;)d.add(h[m]);return{string:b,globalMatrix:c,totalMatrix:d,localMatrix:e,diffMatrix:c.clone().add(e.invert()),global:c.toTransformString(),total:d.toTransformString(),local:l,toString:f}}c instanceof a.Matrix?this.matrix=c:n(this,c);this.node&&\n",
       "(\"linearGradient\"==this.type||\"radialGradient\"==this.type?v(this.node,{gradientTransform:this.matrix}):\"pattern\"==this.type?v(this.node,{patternTransform:this.matrix}):v(this.node,{transform:this.matrix}));return this};c.parent=function(){return x(this.node.parentNode)};c.append=c.add=function(c){if(c){if(\"set\"==c.type){var a=this;c.forEach(function(c){a.add(c)});return this}c=x(c);this.node.appendChild(c.node);c.paper=this.paper}return this};c.appendTo=function(c){c&&(c=x(c),c.append(this));return this};\n",
       "c.prepend=function(c){if(c){if(\"set\"==c.type){var a=this,b;c.forEach(function(c){b?b.after(c):a.prepend(c);b=c});return this}c=x(c);var m=c.parent();this.node.insertBefore(c.node,this.node.firstChild);this.add&&this.add();c.paper=this.paper;this.parent()&&this.parent().add();m&&m.add()}return this};c.prependTo=function(c){c=x(c);c.prepend(this);return this};c.before=function(c){if(\"set\"==c.type){var a=this;c.forEach(function(c){var b=c.parent();a.node.parentNode.insertBefore(c.node,a.node);b&&b.add()});\n",
       "this.parent().add();return this}c=x(c);var b=c.parent();this.node.parentNode.insertBefore(c.node,this.node);this.parent()&&this.parent().add();b&&b.add();c.paper=this.paper;return this};c.after=function(c){c=x(c);var a=c.parent();this.node.nextSibling?this.node.parentNode.insertBefore(c.node,this.node.nextSibling):this.node.parentNode.appendChild(c.node);this.parent()&&this.parent().add();a&&a.add();c.paper=this.paper;return this};c.insertBefore=function(c){c=x(c);var a=this.parent();c.node.parentNode.insertBefore(this.node,\n",
       "c.node);this.paper=c.paper;a&&a.add();c.parent()&&c.parent().add();return this};c.insertAfter=function(c){c=x(c);var a=this.parent();c.node.parentNode.insertBefore(this.node,c.node.nextSibling);this.paper=c.paper;a&&a.add();c.parent()&&c.parent().add();return this};c.remove=function(){var c=this.parent();this.node.parentNode&&this.node.parentNode.removeChild(this.node);delete this.paper;this.removed=!0;c&&c.add();return this};c.select=function(c){return x(this.node.querySelector(c))};c.selectAll=\n",
       "function(c){c=this.node.querySelectorAll(c);for(var b=(a.set||Array)(),m=0;m<c.length;m++)b.push(x(c[m]));return b};c.asPX=function(c,a){null==a&&(a=this.attr(c));return+b(this,c,a)};c.use=function(){var c,a=this.node.id;a||(a=this.id,v(this.node,{id:a}));c=\"linearGradient\"==this.type||\"radialGradient\"==this.type||\"pattern\"==this.type?r(this.type,this.node.parentNode):r(\"use\",this.node.parentNode);v(c.node,{\"xlink:href\":\"#\"+a});c.original=this;return c};var l=/\\S+/g;c.addClass=function(c){var a=(c||\n",
       "\"\").match(l)||[];c=this.node;var b=c.className.baseVal,m=b.match(l)||[],e,h,d;if(a.length){for(e=0;d=a[e++];)h=m.indexOf(d),~h||m.push(d);a=m.join(\" \");b!=a&&(c.className.baseVal=a)}return this};c.removeClass=function(c){var a=(c||\"\").match(l)||[];c=this.node;var b=c.className.baseVal,m=b.match(l)||[],e,h;if(m.length){for(e=0;h=a[e++];)h=m.indexOf(h),~h&&m.splice(h,1);a=m.join(\" \");b!=a&&(c.className.baseVal=a)}return this};c.hasClass=function(c){return!!~(this.node.className.baseVal.match(l)||[]).indexOf(c)};\n",
       "c.toggleClass=function(c,a){if(null!=a)return a?this.addClass(c):this.removeClass(c);var b=(c||\"\").match(l)||[],m=this.node,e=m.className.baseVal,h=e.match(l)||[],d,f,E;for(d=0;E=b[d++];)f=h.indexOf(E),~f?h.splice(f,1):h.push(E);b=h.join(\" \");e!=b&&(m.className.baseVal=b);return this};c.clone=function(){var c=x(this.node.cloneNode(!0));v(c.node,\"id\")&&v(c.node,{id:c.id});m(c);c.insertAfter(this);return c};c.toDefs=function(){u(this).appendChild(this.node);return this};c.pattern=c.toPattern=function(c,\n",
       "a,b,m){var e=r(\"pattern\",u(this));null==c&&(c=this.getBBox());y(c,\"object\")&&\"x\"in c&&(a=c.y,b=c.width,m=c.height,c=c.x);v(e.node,{x:c,y:a,width:b,height:m,patternUnits:\"userSpaceOnUse\",id:e.id,viewBox:[c,a,b,m].join(\" \")});e.node.appendChild(this.node);return e};c.marker=function(c,a,b,m,e,h){var d=r(\"marker\",u(this));null==c&&(c=this.getBBox());y(c,\"object\")&&\"x\"in c&&(a=c.y,b=c.width,m=c.height,e=c.refX||c.cx,h=c.refY||c.cy,c=c.x);v(d.node,{viewBox:[c,a,b,m].join(\" \"),markerWidth:b,markerHeight:m,\n",
       "orient:\"auto\",refX:e||0,refY:h||0,id:d.id});d.node.appendChild(this.node);return d};var E=function(c,a,b,m){\"function\"!=typeof b||b.length||(m=b,b=L.linear);this.attr=c;this.dur=a;b&&(this.easing=b);m&&(this.callback=m)};a._.Animation=E;a.animation=function(c,a,b,m){return new E(c,a,b,m)};c.inAnim=function(){var c=[],a;for(a in this.anims)this.anims[h](a)&&function(a){c.push({anim:new E(a._attrs,a.dur,a.easing,a._callback),mina:a,curStatus:a.status(),status:function(c){return a.status(c)},stop:function(){a.stop()}})}(this.anims[a]);\n",
       "return c};a.animate=function(c,a,b,m,e,h){\"function\"!=typeof e||e.length||(h=e,e=L.linear);var d=L.time();c=L(c,a,d,d+m,L.time,b,e);h&&k.once(\"mina.finish.\"+c.id,h);return c};c.stop=function(){for(var c=this.inAnim(),a=0,b=c.length;a<b;a++)c[a].stop();return this};c.animate=function(c,a,b,m){\"function\"!=typeof b||b.length||(m=b,b=L.linear);c instanceof E&&(m=c.callback,b=c.easing,a=b.dur,c=c.attr);var d=[],f=[],l={},t,ca,n,T=this,q;for(q in c)if(c[h](q)){T.equal?(n=T.equal(q,J(c[q])),t=n.from,ca=\n",
       "n.to,n=n.f):(t=+T.attr(q),ca=+c[q]);var la=y(t,\"array\")?t.length:1;l[q]=e(d.length,d.length+la,n);d=d.concat(t);f=f.concat(ca)}t=L.time();var p=L(d,f,t,t+a,L.time,function(c){var a={},b;for(b in l)l[h](b)&&(a[b]=l[b](c));T.attr(a)},b);T.anims[p.id]=p;p._attrs=c;p._callback=m;k(\"snap.animcreated.\"+T.id,p);k.once(\"mina.finish.\"+p.id,function(){delete T.anims[p.id];m&&m.call(T)});k.once(\"mina.stop.\"+p.id,function(){delete T.anims[p.id]});return T};var T={};c.data=function(c,b){var m=T[this.id]=T[this.id]||\n",
       "{};if(0==arguments.length)return k(\"snap.data.get.\"+this.id,this,m,null),m;if(1==arguments.length){if(a.is(c,\"object\")){for(var e in c)c[h](e)&&this.data(e,c[e]);return this}k(\"snap.data.get.\"+this.id,this,m[c],c);return m[c]}m[c]=b;k(\"snap.data.set.\"+this.id,this,b,c);return this};c.removeData=function(c){null==c?T[this.id]={}:T[this.id]&&delete T[this.id][c];return this};c.outerSVG=c.toString=d(1);c.innerSVG=d()})(e.prototype);a.parse=function(c){var a=G.doc.createDocumentFragment(),b=!0,m=G.doc.createElement(\"div\");\n",
       "c=J(c);c.match(/^\\s*<\\s*svg(?:\\s|>)/)||(c=\"<svg>\"+c+\"</svg>\",b=!1);m.innerHTML=c;if(c=m.getElementsByTagName(\"svg\")[0])if(b)a=c;else for(;c.firstChild;)a.appendChild(c.firstChild);m.innerHTML=aa;return new l(a)};l.prototype.select=e.prototype.select;l.prototype.selectAll=e.prototype.selectAll;a.fragment=function(){for(var c=Array.prototype.slice.call(arguments,0),b=G.doc.createDocumentFragment(),m=0,e=c.length;m<e;m++){var h=c[m];h.node&&h.node.nodeType&&b.appendChild(h.node);h.nodeType&&b.appendChild(h);\n",
       "\"string\"==typeof h&&b.appendChild(a.parse(h).node)}return new l(b)};a._.make=r;a._.wrap=x;s.prototype.el=function(c,a){var b=r(c,this.node);a&&b.attr(a);return b};k.on(\"snap.util.getattr\",function(){var c=k.nt(),c=c.substring(c.lastIndexOf(\".\")+1),a=c.replace(/[A-Z]/g,function(c){return\"-\"+c.toLowerCase()});return pa[h](a)?this.node.ownerDocument.defaultView.getComputedStyle(this.node,null).getPropertyValue(a):v(this.node,c)});var pa={\"alignment-baseline\":0,\"baseline-shift\":0,clip:0,\"clip-path\":0,\n",
       "\"clip-rule\":0,color:0,\"color-interpolation\":0,\"color-interpolation-filters\":0,\"color-profile\":0,\"color-rendering\":0,cursor:0,direction:0,display:0,\"dominant-baseline\":0,\"enable-background\":0,fill:0,\"fill-opacity\":0,\"fill-rule\":0,filter:0,\"flood-color\":0,\"flood-opacity\":0,font:0,\"font-family\":0,\"font-size\":0,\"font-size-adjust\":0,\"font-stretch\":0,\"font-style\":0,\"font-variant\":0,\"font-weight\":0,\"glyph-orientation-horizontal\":0,\"glyph-orientation-vertical\":0,\"image-rendering\":0,kerning:0,\"letter-spacing\":0,\n",
       "\"lighting-color\":0,marker:0,\"marker-end\":0,\"marker-mid\":0,\"marker-start\":0,mask:0,opacity:0,overflow:0,\"pointer-events\":0,\"shape-rendering\":0,\"stop-color\":0,\"stop-opacity\":0,stroke:0,\"stroke-dasharray\":0,\"stroke-dashoffset\":0,\"stroke-linecap\":0,\"stroke-linejoin\":0,\"stroke-miterlimit\":0,\"stroke-opacity\":0,\"stroke-width\":0,\"text-anchor\":0,\"text-decoration\":0,\"text-rendering\":0,\"unicode-bidi\":0,visibility:0,\"word-spacing\":0,\"writing-mode\":0};k.on(\"snap.util.attr\",function(c){var a=k.nt(),b={},a=a.substring(a.lastIndexOf(\".\")+\n",
       "1);b[a]=c;var m=a.replace(/-(\\w)/gi,function(c,a){return a.toUpperCase()}),a=a.replace(/[A-Z]/g,function(c){return\"-\"+c.toLowerCase()});pa[h](a)?this.node.style[m]=null==c?aa:c:v(this.node,b)});a.ajax=function(c,a,b,m){var e=new XMLHttpRequest,h=V();if(e){if(y(a,\"function\"))m=b,b=a,a=null;else if(y(a,\"object\")){var d=[],f;for(f in a)a.hasOwnProperty(f)&&d.push(encodeURIComponent(f)+\"=\"+encodeURIComponent(a[f]));a=d.join(\"&\")}e.open(a?\"POST\":\"GET\",c,!0);a&&(e.setRequestHeader(\"X-Requested-With\",\"XMLHttpRequest\"),\n",
       "e.setRequestHeader(\"Content-type\",\"application/x-www-form-urlencoded\"));b&&(k.once(\"snap.ajax.\"+h+\".0\",b),k.once(\"snap.ajax.\"+h+\".200\",b),k.once(\"snap.ajax.\"+h+\".304\",b));e.onreadystatechange=function(){4==e.readyState&&k(\"snap.ajax.\"+h+\".\"+e.status,m,e)};if(4==e.readyState)return e;e.send(a);return e}};a.load=function(c,b,m){a.ajax(c,function(c){c=a.parse(c.responseText);m?b.call(m,c):b(c)})};a.getElementByPoint=function(c,a){var b,m,e=G.doc.elementFromPoint(c,a);if(G.win.opera&&\"svg\"==e.tagName){b=\n",
       "e;m=b.getBoundingClientRect();b=b.ownerDocument;var h=b.body,d=b.documentElement;b=m.top+(g.win.pageYOffset||d.scrollTop||h.scrollTop)-(d.clientTop||h.clientTop||0);m=m.left+(g.win.pageXOffset||d.scrollLeft||h.scrollLeft)-(d.clientLeft||h.clientLeft||0);h=e.createSVGRect();h.x=c-m;h.y=a-b;h.width=h.height=1;b=e.getIntersectionList(h,null);b.length&&(e=b[b.length-1])}return e?x(e):null};a.plugin=function(c){c(a,e,s,G,l)};return G.win.Snap=a}();C.plugin(function(a,k,y,M,A){function w(a,d,f,b,q,e){null==\n",
       "d&&\"[object SVGMatrix]\"==z.call(a)?(this.a=a.a,this.b=a.b,this.c=a.c,this.d=a.d,this.e=a.e,this.f=a.f):null!=a?(this.a=+a,this.b=+d,this.c=+f,this.d=+b,this.e=+q,this.f=+e):(this.a=1,this.c=this.b=0,this.d=1,this.f=this.e=0)}var z=Object.prototype.toString,d=String,f=Math;(function(n){function k(a){return a[0]*a[0]+a[1]*a[1]}function p(a){var d=f.sqrt(k(a));a[0]&&(a[0]/=d);a[1]&&(a[1]/=d)}n.add=function(a,d,e,f,n,p){var k=[[],[],[] ],u=[[this.a,this.c,this.e],[this.b,this.d,this.f],[0,0,1] ];d=[[a,\n",
       "e,n],[d,f,p],[0,0,1] ];a&&a instanceof w&&(d=[[a.a,a.c,a.e],[a.b,a.d,a.f],[0,0,1] ]);for(a=0;3>a;a++)for(e=0;3>e;e++){for(f=n=0;3>f;f++)n+=u[a][f]*d[f][e];k[a][e]=n}this.a=k[0][0];this.b=k[1][0];this.c=k[0][1];this.d=k[1][1];this.e=k[0][2];this.f=k[1][2];return this};n.invert=function(){var a=this.a*this.d-this.b*this.c;return new w(this.d/a,-this.b/a,-this.c/a,this.a/a,(this.c*this.f-this.d*this.e)/a,(this.b*this.e-this.a*this.f)/a)};n.clone=function(){return new w(this.a,this.b,this.c,this.d,this.e,\n",
       "this.f)};n.translate=function(a,d){return this.add(1,0,0,1,a,d)};n.scale=function(a,d,e,f){null==d&&(d=a);(e||f)&&this.add(1,0,0,1,e,f);this.add(a,0,0,d,0,0);(e||f)&&this.add(1,0,0,1,-e,-f);return this};n.rotate=function(b,d,e){b=a.rad(b);d=d||0;e=e||0;var l=+f.cos(b).toFixed(9);b=+f.sin(b).toFixed(9);this.add(l,b,-b,l,d,e);return this.add(1,0,0,1,-d,-e)};n.x=function(a,d){return a*this.a+d*this.c+this.e};n.y=function(a,d){return a*this.b+d*this.d+this.f};n.get=function(a){return+this[d.fromCharCode(97+\n",
       "a)].toFixed(4)};n.toString=function(){return\"matrix(\"+[this.get(0),this.get(1),this.get(2),this.get(3),this.get(4),this.get(5)].join()+\")\"};n.offset=function(){return[this.e.toFixed(4),this.f.toFixed(4)]};n.determinant=function(){return this.a*this.d-this.b*this.c};n.split=function(){var b={};b.dx=this.e;b.dy=this.f;var d=[[this.a,this.c],[this.b,this.d] ];b.scalex=f.sqrt(k(d[0]));p(d[0]);b.shear=d[0][0]*d[1][0]+d[0][1]*d[1][1];d[1]=[d[1][0]-d[0][0]*b.shear,d[1][1]-d[0][1]*b.shear];b.scaley=f.sqrt(k(d[1]));\n",
       "p(d[1]);b.shear/=b.scaley;0>this.determinant()&&(b.scalex=-b.scalex);var e=-d[0][1],d=d[1][1];0>d?(b.rotate=a.deg(f.acos(d)),0>e&&(b.rotate=360-b.rotate)):b.rotate=a.deg(f.asin(e));b.isSimple=!+b.shear.toFixed(9)&&(b.scalex.toFixed(9)==b.scaley.toFixed(9)||!b.rotate);b.isSuperSimple=!+b.shear.toFixed(9)&&b.scalex.toFixed(9)==b.scaley.toFixed(9)&&!b.rotate;b.noRotation=!+b.shear.toFixed(9)&&!b.rotate;return b};n.toTransformString=function(a){a=a||this.split();if(+a.shear.toFixed(9))return\"m\"+[this.get(0),\n",
       "this.get(1),this.get(2),this.get(3),this.get(4),this.get(5)];a.scalex=+a.scalex.toFixed(4);a.scaley=+a.scaley.toFixed(4);a.rotate=+a.rotate.toFixed(4);return(a.dx||a.dy?\"t\"+[+a.dx.toFixed(4),+a.dy.toFixed(4)]:\"\")+(1!=a.scalex||1!=a.scaley?\"s\"+[a.scalex,a.scaley,0,0]:\"\")+(a.rotate?\"r\"+[+a.rotate.toFixed(4),0,0]:\"\")}})(w.prototype);a.Matrix=w;a.matrix=function(a,d,f,b,k,e){return new w(a,d,f,b,k,e)}});C.plugin(function(a,v,y,M,A){function w(h){return function(d){k.stop();d instanceof A&&1==d.node.childNodes.length&&\n",
       "(\"radialGradient\"==d.node.firstChild.tagName||\"linearGradient\"==d.node.firstChild.tagName||\"pattern\"==d.node.firstChild.tagName)&&(d=d.node.firstChild,b(this).appendChild(d),d=u(d));if(d instanceof v)if(\"radialGradient\"==d.type||\"linearGradient\"==d.type||\"pattern\"==d.type){d.node.id||e(d.node,{id:d.id});var f=l(d.node.id)}else f=d.attr(h);else f=a.color(d),f.error?(f=a(b(this).ownerSVGElement).gradient(d))?(f.node.id||e(f.node,{id:f.id}),f=l(f.node.id)):f=d:f=r(f);d={};d[h]=f;e(this.node,d);this.node.style[h]=\n",
       "x}}function z(a){k.stop();a==+a&&(a+=\"px\");this.node.style.fontSize=a}function d(a){var b=[];a=a.childNodes;for(var e=0,f=a.length;e<f;e++){var l=a[e];3==l.nodeType&&b.push(l.nodeValue);\"tspan\"==l.tagName&&(1==l.childNodes.length&&3==l.firstChild.nodeType?b.push(l.firstChild.nodeValue):b.push(d(l)))}return b}function f(){k.stop();return this.node.style.fontSize}var n=a._.make,u=a._.wrap,p=a.is,b=a._.getSomeDefs,q=/^url\\(#?([^)]+)\\)$/,e=a._.$,l=a.url,r=String,s=a._.separator,x=\"\";k.on(\"snap.util.attr.mask\",\n",
       "function(a){if(a instanceof v||a instanceof A){k.stop();a instanceof A&&1==a.node.childNodes.length&&(a=a.node.firstChild,b(this).appendChild(a),a=u(a));if(\"mask\"==a.type)var d=a;else d=n(\"mask\",b(this)),d.node.appendChild(a.node);!d.node.id&&e(d.node,{id:d.id});e(this.node,{mask:l(d.id)})}});(function(a){k.on(\"snap.util.attr.clip\",a);k.on(\"snap.util.attr.clip-path\",a);k.on(\"snap.util.attr.clipPath\",a)})(function(a){if(a instanceof v||a instanceof A){k.stop();if(\"clipPath\"==a.type)var d=a;else d=\n",
       "n(\"clipPath\",b(this)),d.node.appendChild(a.node),!d.node.id&&e(d.node,{id:d.id});e(this.node,{\"clip-path\":l(d.id)})}});k.on(\"snap.util.attr.fill\",w(\"fill\"));k.on(\"snap.util.attr.stroke\",w(\"stroke\"));var G=/^([lr])(?:\\(([^)]*)\\))?(.*)$/i;k.on(\"snap.util.grad.parse\",function(a){a=r(a);var b=a.match(G);if(!b)return null;a=b[1];var e=b[2],b=b[3],e=e.split(/\\s*,\\s*/).map(function(a){return+a==a?+a:a});1==e.length&&0==e[0]&&(e=[]);b=b.split(\"-\");b=b.map(function(a){a=a.split(\":\");var b={color:a[0]};a[1]&&\n",
       "(b.offset=parseFloat(a[1]));return b});return{type:a,params:e,stops:b}});k.on(\"snap.util.attr.d\",function(b){k.stop();p(b,\"array\")&&p(b[0],\"array\")&&(b=a.path.toString.call(b));b=r(b);b.match(/[ruo]/i)&&(b=a.path.toAbsolute(b));e(this.node,{d:b})})(-1);k.on(\"snap.util.attr.#text\",function(a){k.stop();a=r(a);for(a=M.doc.createTextNode(a);this.node.firstChild;)this.node.removeChild(this.node.firstChild);this.node.appendChild(a)})(-1);k.on(\"snap.util.attr.path\",function(a){k.stop();this.attr({d:a})})(-1);\n",
       "k.on(\"snap.util.attr.class\",function(a){k.stop();this.node.className.baseVal=a})(-1);k.on(\"snap.util.attr.viewBox\",function(a){a=p(a,\"object\")&&\"x\"in a?[a.x,a.y,a.width,a.height].join(\" \"):p(a,\"array\")?a.join(\" \"):a;e(this.node,{viewBox:a});k.stop()})(-1);k.on(\"snap.util.attr.transform\",function(a){this.transform(a);k.stop()})(-1);k.on(\"snap.util.attr.r\",function(a){\"rect\"==this.type&&(k.stop(),e(this.node,{rx:a,ry:a}))})(-1);k.on(\"snap.util.attr.textpath\",function(a){k.stop();if(\"text\"==this.type){var d,\n",
       "f;if(!a&&this.textPath){for(a=this.textPath;a.node.firstChild;)this.node.appendChild(a.node.firstChild);a.remove();delete this.textPath}else if(p(a,\"string\")?(d=b(this),a=u(d.parentNode).path(a),d.appendChild(a.node),d=a.id,a.attr({id:d})):(a=u(a),a instanceof v&&(d=a.attr(\"id\"),d||(d=a.id,a.attr({id:d})))),d)if(a=this.textPath,f=this.node,a)a.attr({\"xlink:href\":\"#\"+d});else{for(a=e(\"textPath\",{\"xlink:href\":\"#\"+d});f.firstChild;)a.appendChild(f.firstChild);f.appendChild(a);this.textPath=u(a)}}})(-1);\n",
       "k.on(\"snap.util.attr.text\",function(a){if(\"text\"==this.type){for(var b=this.node,d=function(a){var b=e(\"tspan\");if(p(a,\"array\"))for(var f=0;f<a.length;f++)b.appendChild(d(a[f]));else b.appendChild(M.doc.createTextNode(a));b.normalize&&b.normalize();return b};b.firstChild;)b.removeChild(b.firstChild);for(a=d(a);a.firstChild;)b.appendChild(a.firstChild)}k.stop()})(-1);k.on(\"snap.util.attr.fontSize\",z)(-1);k.on(\"snap.util.attr.font-size\",z)(-1);k.on(\"snap.util.getattr.transform\",function(){k.stop();\n",
       "return this.transform()})(-1);k.on(\"snap.util.getattr.textpath\",function(){k.stop();return this.textPath})(-1);(function(){function b(d){return function(){k.stop();var b=M.doc.defaultView.getComputedStyle(this.node,null).getPropertyValue(\"marker-\"+d);return\"none\"==b?b:a(M.doc.getElementById(b.match(q)[1]))}}function d(a){return function(b){k.stop();var d=\"marker\"+a.charAt(0).toUpperCase()+a.substring(1);if(\"\"==b||!b)this.node.style[d]=\"none\";else if(\"marker\"==b.type){var f=b.node.id;f||e(b.node,{id:b.id});\n",
       "this.node.style[d]=l(f)}}}k.on(\"snap.util.getattr.marker-end\",b(\"end\"))(-1);k.on(\"snap.util.getattr.markerEnd\",b(\"end\"))(-1);k.on(\"snap.util.getattr.marker-start\",b(\"start\"))(-1);k.on(\"snap.util.getattr.markerStart\",b(\"start\"))(-1);k.on(\"snap.util.getattr.marker-mid\",b(\"mid\"))(-1);k.on(\"snap.util.getattr.markerMid\",b(\"mid\"))(-1);k.on(\"snap.util.attr.marker-end\",d(\"end\"))(-1);k.on(\"snap.util.attr.markerEnd\",d(\"end\"))(-1);k.on(\"snap.util.attr.marker-start\",d(\"start\"))(-1);k.on(\"snap.util.attr.markerStart\",\n",
       "d(\"start\"))(-1);k.on(\"snap.util.attr.marker-mid\",d(\"mid\"))(-1);k.on(\"snap.util.attr.markerMid\",d(\"mid\"))(-1)})();k.on(\"snap.util.getattr.r\",function(){if(\"rect\"==this.type&&e(this.node,\"rx\")==e(this.node,\"ry\"))return k.stop(),e(this.node,\"rx\")})(-1);k.on(\"snap.util.getattr.text\",function(){if(\"text\"==this.type||\"tspan\"==this.type){k.stop();var a=d(this.node);return 1==a.length?a[0]:a}})(-1);k.on(\"snap.util.getattr.#text\",function(){return this.node.textContent})(-1);k.on(\"snap.util.getattr.viewBox\",\n",
       "function(){k.stop();var b=e(this.node,\"viewBox\");if(b)return b=b.split(s),a._.box(+b[0],+b[1],+b[2],+b[3])})(-1);k.on(\"snap.util.getattr.points\",function(){var a=e(this.node,\"points\");k.stop();if(a)return a.split(s)})(-1);k.on(\"snap.util.getattr.path\",function(){var a=e(this.node,\"d\");k.stop();return a})(-1);k.on(\"snap.util.getattr.class\",function(){return this.node.className.baseVal})(-1);k.on(\"snap.util.getattr.fontSize\",f)(-1);k.on(\"snap.util.getattr.font-size\",f)(-1)});C.plugin(function(a,v,y,\n",
       "M,A){function w(a){return a}function z(a){return function(b){return+b.toFixed(3)+a}}var d={\"+\":function(a,b){return a+b},\"-\":function(a,b){return a-b},\"/\":function(a,b){return a/b},\"*\":function(a,b){return a*b}},f=String,n=/[a-z]+$/i,u=/^\\s*([+\\-\\/*])\\s*=\\s*([\\d.eE+\\-]+)\\s*([^\\d\\s]+)?\\s*$/;k.on(\"snap.util.attr\",function(a){if(a=f(a).match(u)){var b=k.nt(),b=b.substring(b.lastIndexOf(\".\")+1),q=this.attr(b),e={};k.stop();var l=a[3]||\"\",r=q.match(n),s=d[a[1] ];r&&r==l?a=s(parseFloat(q),+a[2]):(q=this.asPX(b),\n",
       "a=s(this.asPX(b),this.asPX(b,a[2]+l)));isNaN(q)||isNaN(a)||(e[b]=a,this.attr(e))}})(-10);k.on(\"snap.util.equal\",function(a,b){var q=f(this.attr(a)||\"\"),e=f(b).match(u);if(e){k.stop();var l=e[3]||\"\",r=q.match(n),s=d[e[1] ];if(r&&r==l)return{from:parseFloat(q),to:s(parseFloat(q),+e[2]),f:z(r)};q=this.asPX(a);return{from:q,to:s(q,this.asPX(a,e[2]+l)),f:w}}})(-10)});C.plugin(function(a,v,y,M,A){var w=y.prototype,z=a.is;w.rect=function(a,d,k,p,b,q){var e;null==q&&(q=b);z(a,\"object\")&&\"[object Object]\"==\n",
       "a?e=a:null!=a&&(e={x:a,y:d,width:k,height:p},null!=b&&(e.rx=b,e.ry=q));return this.el(\"rect\",e)};w.circle=function(a,d,k){var p;z(a,\"object\")&&\"[object Object]\"==a?p=a:null!=a&&(p={cx:a,cy:d,r:k});return this.el(\"circle\",p)};var d=function(){function a(){this.parentNode.removeChild(this)}return function(d,k){var p=M.doc.createElement(\"img\"),b=M.doc.body;p.style.cssText=\"position:absolute;left:-9999em;top:-9999em\";p.onload=function(){k.call(p);p.onload=p.onerror=null;b.removeChild(p)};p.onerror=a;\n",
       "b.appendChild(p);p.src=d}}();w.image=function(f,n,k,p,b){var q=this.el(\"image\");if(z(f,\"object\")&&\"src\"in f)q.attr(f);else if(null!=f){var e={\"xlink:href\":f,preserveAspectRatio:\"none\"};null!=n&&null!=k&&(e.x=n,e.y=k);null!=p&&null!=b?(e.width=p,e.height=b):d(f,function(){a._.$(q.node,{width:this.offsetWidth,height:this.offsetHeight})});a._.$(q.node,e)}return q};w.ellipse=function(a,d,k,p){var b;z(a,\"object\")&&\"[object Object]\"==a?b=a:null!=a&&(b={cx:a,cy:d,rx:k,ry:p});return this.el(\"ellipse\",b)};\n",
       "w.path=function(a){var d;z(a,\"object\")&&!z(a,\"array\")?d=a:a&&(d={d:a});return this.el(\"path\",d)};w.group=w.g=function(a){var d=this.el(\"g\");1==arguments.length&&a&&!a.type?d.attr(a):arguments.length&&d.add(Array.prototype.slice.call(arguments,0));return d};w.svg=function(a,d,k,p,b,q,e,l){var r={};z(a,\"object\")&&null==d?r=a:(null!=a&&(r.x=a),null!=d&&(r.y=d),null!=k&&(r.width=k),null!=p&&(r.height=p),null!=b&&null!=q&&null!=e&&null!=l&&(r.viewBox=[b,q,e,l]));return this.el(\"svg\",r)};w.mask=function(a){var d=\n",
       "this.el(\"mask\");1==arguments.length&&a&&!a.type?d.attr(a):arguments.length&&d.add(Array.prototype.slice.call(arguments,0));return d};w.ptrn=function(a,d,k,p,b,q,e,l){if(z(a,\"object\"))var r=a;else arguments.length?(r={},null!=a&&(r.x=a),null!=d&&(r.y=d),null!=k&&(r.width=k),null!=p&&(r.height=p),null!=b&&null!=q&&null!=e&&null!=l&&(r.viewBox=[b,q,e,l])):r={patternUnits:\"userSpaceOnUse\"};return this.el(\"pattern\",r)};w.use=function(a){return null!=a?(make(\"use\",this.node),a instanceof v&&(a.attr(\"id\")||\n",
       "a.attr({id:ID()}),a=a.attr(\"id\")),this.el(\"use\",{\"xlink:href\":a})):v.prototype.use.call(this)};w.text=function(a,d,k){var p={};z(a,\"object\")?p=a:null!=a&&(p={x:a,y:d,text:k||\"\"});return this.el(\"text\",p)};w.line=function(a,d,k,p){var b={};z(a,\"object\")?b=a:null!=a&&(b={x1:a,x2:k,y1:d,y2:p});return this.el(\"line\",b)};w.polyline=function(a){1<arguments.length&&(a=Array.prototype.slice.call(arguments,0));var d={};z(a,\"object\")&&!z(a,\"array\")?d=a:null!=a&&(d={points:a});return this.el(\"polyline\",d)};\n",
       "w.polygon=function(a){1<arguments.length&&(a=Array.prototype.slice.call(arguments,0));var d={};z(a,\"object\")&&!z(a,\"array\")?d=a:null!=a&&(d={points:a});return this.el(\"polygon\",d)};(function(){function d(){return this.selectAll(\"stop\")}function n(b,d){var f=e(\"stop\"),k={offset:+d+\"%\"};b=a.color(b);k[\"stop-color\"]=b.hex;1>b.opacity&&(k[\"stop-opacity\"]=b.opacity);e(f,k);this.node.appendChild(f);return this}function u(){if(\"linearGradient\"==this.type){var b=e(this.node,\"x1\")||0,d=e(this.node,\"x2\")||\n",
       "1,f=e(this.node,\"y1\")||0,k=e(this.node,\"y2\")||0;return a._.box(b,f,math.abs(d-b),math.abs(k-f))}b=this.node.r||0;return a._.box((this.node.cx||0.5)-b,(this.node.cy||0.5)-b,2*b,2*b)}function p(a,d){function f(a,b){for(var d=(b-u)/(a-w),e=w;e<a;e++)h[e].offset=+(+u+d*(e-w)).toFixed(2);w=a;u=b}var n=k(\"snap.util.grad.parse\",null,d).firstDefined(),p;if(!n)return null;n.params.unshift(a);p=\"l\"==n.type.toLowerCase()?b.apply(0,n.params):q.apply(0,n.params);n.type!=n.type.toLowerCase()&&e(p.node,{gradientUnits:\"userSpaceOnUse\"});\n",
       "var h=n.stops,n=h.length,u=0,w=0;n--;for(var v=0;v<n;v++)\"offset\"in h[v]&&f(v,h[v].offset);h[n].offset=h[n].offset||100;f(n,h[n].offset);for(v=0;v<=n;v++){var y=h[v];p.addStop(y.color,y.offset)}return p}function b(b,k,p,q,w){b=a._.make(\"linearGradient\",b);b.stops=d;b.addStop=n;b.getBBox=u;null!=k&&e(b.node,{x1:k,y1:p,x2:q,y2:w});return b}function q(b,k,p,q,w,h){b=a._.make(\"radialGradient\",b);b.stops=d;b.addStop=n;b.getBBox=u;null!=k&&e(b.node,{cx:k,cy:p,r:q});null!=w&&null!=h&&e(b.node,{fx:w,fy:h});\n",
       "return b}var e=a._.$;w.gradient=function(a){return p(this.defs,a)};w.gradientLinear=function(a,d,e,f){return b(this.defs,a,d,e,f)};w.gradientRadial=function(a,b,d,e,f){return q(this.defs,a,b,d,e,f)};w.toString=function(){var b=this.node.ownerDocument,d=b.createDocumentFragment(),b=b.createElement(\"div\"),e=this.node.cloneNode(!0);d.appendChild(b);b.appendChild(e);a._.$(e,{xmlns:\"http://www.w3.org/2000/svg\"});b=b.innerHTML;d.removeChild(d.firstChild);return b};w.clear=function(){for(var a=this.node.firstChild,\n",
       "b;a;)b=a.nextSibling,\"defs\"!=a.tagName?a.parentNode.removeChild(a):w.clear.call({node:a}),a=b}})()});C.plugin(function(a,k,y,M){function A(a){var b=A.ps=A.ps||{};b[a]?b[a].sleep=100:b[a]={sleep:100};setTimeout(function(){for(var d in b)b[L](d)&&d!=a&&(b[d].sleep--,!b[d].sleep&&delete b[d])});return b[a]}function w(a,b,d,e){null==a&&(a=b=d=e=0);null==b&&(b=a.y,d=a.width,e=a.height,a=a.x);return{x:a,y:b,width:d,w:d,height:e,h:e,x2:a+d,y2:b+e,cx:a+d/2,cy:b+e/2,r1:F.min(d,e)/2,r2:F.max(d,e)/2,r0:F.sqrt(d*\n",
       "d+e*e)/2,path:s(a,b,d,e),vb:[a,b,d,e].join(\" \")}}function z(){return this.join(\",\").replace(N,\"$1\")}function d(a){a=C(a);a.toString=z;return a}function f(a,b,d,h,f,k,l,n,p){if(null==p)return e(a,b,d,h,f,k,l,n);if(0>p||e(a,b,d,h,f,k,l,n)<p)p=void 0;else{var q=0.5,O=1-q,s;for(s=e(a,b,d,h,f,k,l,n,O);0.01<Z(s-p);)q/=2,O+=(s<p?1:-1)*q,s=e(a,b,d,h,f,k,l,n,O);p=O}return u(a,b,d,h,f,k,l,n,p)}function n(b,d){function e(a){return+(+a).toFixed(3)}return a._.cacher(function(a,h,l){a instanceof k&&(a=a.attr(\"d\"));\n",
       "a=I(a);for(var n,p,D,q,O=\"\",s={},c=0,t=0,r=a.length;t<r;t++){D=a[t];if(\"M\"==D[0])n=+D[1],p=+D[2];else{q=f(n,p,D[1],D[2],D[3],D[4],D[5],D[6]);if(c+q>h){if(d&&!s.start){n=f(n,p,D[1],D[2],D[3],D[4],D[5],D[6],h-c);O+=[\"C\"+e(n.start.x),e(n.start.y),e(n.m.x),e(n.m.y),e(n.x),e(n.y)];if(l)return O;s.start=O;O=[\"M\"+e(n.x),e(n.y)+\"C\"+e(n.n.x),e(n.n.y),e(n.end.x),e(n.end.y),e(D[5]),e(D[6])].join();c+=q;n=+D[5];p=+D[6];continue}if(!b&&!d)return n=f(n,p,D[1],D[2],D[3],D[4],D[5],D[6],h-c)}c+=q;n=+D[5];p=+D[6]}O+=\n",
       "D.shift()+D}s.end=O;return n=b?c:d?s:u(n,p,D[0],D[1],D[2],D[3],D[4],D[5],1)},null,a._.clone)}function u(a,b,d,e,h,f,k,l,n){var p=1-n,q=ma(p,3),s=ma(p,2),c=n*n,t=c*n,r=q*a+3*s*n*d+3*p*n*n*h+t*k,q=q*b+3*s*n*e+3*p*n*n*f+t*l,s=a+2*n*(d-a)+c*(h-2*d+a),t=b+2*n*(e-b)+c*(f-2*e+b),x=d+2*n*(h-d)+c*(k-2*h+d),c=e+2*n*(f-e)+c*(l-2*f+e);a=p*a+n*d;b=p*b+n*e;h=p*h+n*k;f=p*f+n*l;l=90-180*F.atan2(s-x,t-c)/S;return{x:r,y:q,m:{x:s,y:t},n:{x:x,y:c},start:{x:a,y:b},end:{x:h,y:f},alpha:l}}function p(b,d,e,h,f,n,k,l){a.is(b,\n",
       "\"array\")||(b=[b,d,e,h,f,n,k,l]);b=U.apply(null,b);return w(b.min.x,b.min.y,b.max.x-b.min.x,b.max.y-b.min.y)}function b(a,b,d){return b>=a.x&&b<=a.x+a.width&&d>=a.y&&d<=a.y+a.height}function q(a,d){a=w(a);d=w(d);return b(d,a.x,a.y)||b(d,a.x2,a.y)||b(d,a.x,a.y2)||b(d,a.x2,a.y2)||b(a,d.x,d.y)||b(a,d.x2,d.y)||b(a,d.x,d.y2)||b(a,d.x2,d.y2)||(a.x<d.x2&&a.x>d.x||d.x<a.x2&&d.x>a.x)&&(a.y<d.y2&&a.y>d.y||d.y<a.y2&&d.y>a.y)}function e(a,b,d,e,h,f,n,k,l){null==l&&(l=1);l=(1<l?1:0>l?0:l)/2;for(var p=[-0.1252,\n",
       "0.1252,-0.3678,0.3678,-0.5873,0.5873,-0.7699,0.7699,-0.9041,0.9041,-0.9816,0.9816],q=[0.2491,0.2491,0.2335,0.2335,0.2032,0.2032,0.1601,0.1601,0.1069,0.1069,0.0472,0.0472],s=0,c=0;12>c;c++)var t=l*p[c]+l,r=t*(t*(-3*a+9*d-9*h+3*n)+6*a-12*d+6*h)-3*a+3*d,t=t*(t*(-3*b+9*e-9*f+3*k)+6*b-12*e+6*f)-3*b+3*e,s=s+q[c]*F.sqrt(r*r+t*t);return l*s}function l(a,b,d){a=I(a);b=I(b);for(var h,f,l,n,k,s,r,O,x,c,t=d?0:[],w=0,v=a.length;w<v;w++)if(x=a[w],\"M\"==x[0])h=k=x[1],f=s=x[2];else{\"C\"==x[0]?(x=[h,f].concat(x.slice(1)),\n",
       "h=x[6],f=x[7]):(x=[h,f,h,f,k,s,k,s],h=k,f=s);for(var G=0,y=b.length;G<y;G++)if(c=b[G],\"M\"==c[0])l=r=c[1],n=O=c[2];else{\"C\"==c[0]?(c=[l,n].concat(c.slice(1)),l=c[6],n=c[7]):(c=[l,n,l,n,r,O,r,O],l=r,n=O);var z;var K=x,B=c;z=d;var H=p(K),J=p(B);if(q(H,J)){for(var H=e.apply(0,K),J=e.apply(0,B),H=~~(H/8),J=~~(J/8),U=[],A=[],F={},M=z?0:[],P=0;P<H+1;P++){var C=u.apply(0,K.concat(P/H));U.push({x:C.x,y:C.y,t:P/H})}for(P=0;P<J+1;P++)C=u.apply(0,B.concat(P/J)),A.push({x:C.x,y:C.y,t:P/J});for(P=0;P<H;P++)for(K=\n",
       "0;K<J;K++){var Q=U[P],L=U[P+1],B=A[K],C=A[K+1],N=0.001>Z(L.x-Q.x)?\"y\":\"x\",S=0.001>Z(C.x-B.x)?\"y\":\"x\",R;R=Q.x;var Y=Q.y,V=L.x,ea=L.y,fa=B.x,ga=B.y,ha=C.x,ia=C.y;if(W(R,V)<X(fa,ha)||X(R,V)>W(fa,ha)||W(Y,ea)<X(ga,ia)||X(Y,ea)>W(ga,ia))R=void 0;else{var $=(R*ea-Y*V)*(fa-ha)-(R-V)*(fa*ia-ga*ha),aa=(R*ea-Y*V)*(ga-ia)-(Y-ea)*(fa*ia-ga*ha),ja=(R-V)*(ga-ia)-(Y-ea)*(fa-ha);if(ja){var $=$/ja,aa=aa/ja,ja=+$.toFixed(2),ba=+aa.toFixed(2);R=ja<+X(R,V).toFixed(2)||ja>+W(R,V).toFixed(2)||ja<+X(fa,ha).toFixed(2)||\n",
       "ja>+W(fa,ha).toFixed(2)||ba<+X(Y,ea).toFixed(2)||ba>+W(Y,ea).toFixed(2)||ba<+X(ga,ia).toFixed(2)||ba>+W(ga,ia).toFixed(2)?void 0:{x:$,y:aa}}else R=void 0}R&&F[R.x.toFixed(4)]!=R.y.toFixed(4)&&(F[R.x.toFixed(4)]=R.y.toFixed(4),Q=Q.t+Z((R[N]-Q[N])/(L[N]-Q[N]))*(L.t-Q.t),B=B.t+Z((R[S]-B[S])/(C[S]-B[S]))*(C.t-B.t),0<=Q&&1>=Q&&0<=B&&1>=B&&(z?M++:M.push({x:R.x,y:R.y,t1:Q,t2:B})))}z=M}else z=z?0:[];if(d)t+=z;else{H=0;for(J=z.length;H<J;H++)z[H].segment1=w,z[H].segment2=G,z[H].bez1=x,z[H].bez2=c;t=t.concat(z)}}}return t}\n",
       "function r(a){var b=A(a);if(b.bbox)return C(b.bbox);if(!a)return w();a=I(a);for(var d=0,e=0,h=[],f=[],l,n=0,k=a.length;n<k;n++)l=a[n],\"M\"==l[0]?(d=l[1],e=l[2],h.push(d),f.push(e)):(d=U(d,e,l[1],l[2],l[3],l[4],l[5],l[6]),h=h.concat(d.min.x,d.max.x),f=f.concat(d.min.y,d.max.y),d=l[5],e=l[6]);a=X.apply(0,h);l=X.apply(0,f);h=W.apply(0,h);f=W.apply(0,f);f=w(a,l,h-a,f-l);b.bbox=C(f);return f}function s(a,b,d,e,h){if(h)return[[\"M\",+a+ +h,b],[\"l\",d-2*h,0],[\"a\",h,h,0,0,1,h,h],[\"l\",0,e-2*h],[\"a\",h,h,0,0,1,\n",
       "-h,h],[\"l\",2*h-d,0],[\"a\",h,h,0,0,1,-h,-h],[\"l\",0,2*h-e],[\"a\",h,h,0,0,1,h,-h],[\"z\"] ];a=[[\"M\",a,b],[\"l\",d,0],[\"l\",0,e],[\"l\",-d,0],[\"z\"] ];a.toString=z;return a}function x(a,b,d,e,h){null==h&&null==e&&(e=d);a=+a;b=+b;d=+d;e=+e;if(null!=h){var f=Math.PI/180,l=a+d*Math.cos(-e*f);a+=d*Math.cos(-h*f);var n=b+d*Math.sin(-e*f);b+=d*Math.sin(-h*f);d=[[\"M\",l,n],[\"A\",d,d,0,+(180<h-e),0,a,b] ]}else d=[[\"M\",a,b],[\"m\",0,-e],[\"a\",d,e,0,1,1,0,2*e],[\"a\",d,e,0,1,1,0,-2*e],[\"z\"] ];d.toString=z;return d}function G(b){var e=\n",
       "A(b);if(e.abs)return d(e.abs);Q(b,\"array\")&&Q(b&&b[0],\"array\")||(b=a.parsePathString(b));if(!b||!b.length)return[[\"M\",0,0] ];var h=[],f=0,l=0,n=0,k=0,p=0;\"M\"==b[0][0]&&(f=+b[0][1],l=+b[0][2],n=f,k=l,p++,h[0]=[\"M\",f,l]);for(var q=3==b.length&&\"M\"==b[0][0]&&\"R\"==b[1][0].toUpperCase()&&\"Z\"==b[2][0].toUpperCase(),s,r,w=p,c=b.length;w<c;w++){h.push(s=[]);r=b[w];p=r[0];if(p!=p.toUpperCase())switch(s[0]=p.toUpperCase(),s[0]){case \"A\":s[1]=r[1];s[2]=r[2];s[3]=r[3];s[4]=r[4];s[5]=r[5];s[6]=+r[6]+f;s[7]=+r[7]+\n",
       "l;break;case \"V\":s[1]=+r[1]+l;break;case \"H\":s[1]=+r[1]+f;break;case \"R\":for(var t=[f,l].concat(r.slice(1)),u=2,v=t.length;u<v;u++)t[u]=+t[u]+f,t[++u]=+t[u]+l;h.pop();h=h.concat(P(t,q));break;case \"O\":h.pop();t=x(f,l,r[1],r[2]);t.push(t[0]);h=h.concat(t);break;case \"U\":h.pop();h=h.concat(x(f,l,r[1],r[2],r[3]));s=[\"U\"].concat(h[h.length-1].slice(-2));break;case \"M\":n=+r[1]+f,k=+r[2]+l;default:for(u=1,v=r.length;u<v;u++)s[u]=+r[u]+(u%2?f:l)}else if(\"R\"==p)t=[f,l].concat(r.slice(1)),h.pop(),h=h.concat(P(t,\n",
       "q)),s=[\"R\"].concat(r.slice(-2));else if(\"O\"==p)h.pop(),t=x(f,l,r[1],r[2]),t.push(t[0]),h=h.concat(t);else if(\"U\"==p)h.pop(),h=h.concat(x(f,l,r[1],r[2],r[3])),s=[\"U\"].concat(h[h.length-1].slice(-2));else for(t=0,u=r.length;t<u;t++)s[t]=r[t];p=p.toUpperCase();if(\"O\"!=p)switch(s[0]){case \"Z\":f=+n;l=+k;break;case \"H\":f=s[1];break;case \"V\":l=s[1];break;case \"M\":n=s[s.length-2],k=s[s.length-1];default:f=s[s.length-2],l=s[s.length-1]}}h.toString=z;e.abs=d(h);return h}function h(a,b,d,e){return[a,b,d,e,d,\n",
       "e]}function J(a,b,d,e,h,f){var l=1/3,n=2/3;return[l*a+n*d,l*b+n*e,l*h+n*d,l*f+n*e,h,f]}function K(b,d,e,h,f,l,n,k,p,s){var r=120*S/180,q=S/180*(+f||0),c=[],t,x=a._.cacher(function(a,b,c){var d=a*F.cos(c)-b*F.sin(c);a=a*F.sin(c)+b*F.cos(c);return{x:d,y:a}});if(s)v=s[0],t=s[1],l=s[2],u=s[3];else{t=x(b,d,-q);b=t.x;d=t.y;t=x(k,p,-q);k=t.x;p=t.y;F.cos(S/180*f);F.sin(S/180*f);t=(b-k)/2;v=(d-p)/2;u=t*t/(e*e)+v*v/(h*h);1<u&&(u=F.sqrt(u),e*=u,h*=u);var u=e*e,w=h*h,u=(l==n?-1:1)*F.sqrt(Z((u*w-u*v*v-w*t*t)/\n",
       "(u*v*v+w*t*t)));l=u*e*v/h+(b+k)/2;var u=u*-h*t/e+(d+p)/2,v=F.asin(((d-u)/h).toFixed(9));t=F.asin(((p-u)/h).toFixed(9));v=b<l?S-v:v;t=k<l?S-t:t;0>v&&(v=2*S+v);0>t&&(t=2*S+t);n&&v>t&&(v-=2*S);!n&&t>v&&(t-=2*S)}if(Z(t-v)>r){var c=t,w=k,G=p;t=v+r*(n&&t>v?1:-1);k=l+e*F.cos(t);p=u+h*F.sin(t);c=K(k,p,e,h,f,0,n,w,G,[t,c,l,u])}l=t-v;f=F.cos(v);r=F.sin(v);n=F.cos(t);t=F.sin(t);l=F.tan(l/4);e=4/3*e*l;l*=4/3*h;h=[b,d];b=[b+e*r,d-l*f];d=[k+e*t,p-l*n];k=[k,p];b[0]=2*h[0]-b[0];b[1]=2*h[1]-b[1];if(s)return[b,d,k].concat(c);\n",
       "c=[b,d,k].concat(c).join().split(\",\");s=[];k=0;for(p=c.length;k<p;k++)s[k]=k%2?x(c[k-1],c[k],q).y:x(c[k],c[k+1],q).x;return s}function U(a,b,d,e,h,f,l,k){for(var n=[],p=[[],[] ],s,r,c,t,q=0;2>q;++q)0==q?(r=6*a-12*d+6*h,s=-3*a+9*d-9*h+3*l,c=3*d-3*a):(r=6*b-12*e+6*f,s=-3*b+9*e-9*f+3*k,c=3*e-3*b),1E-12>Z(s)?1E-12>Z(r)||(s=-c/r,0<s&&1>s&&n.push(s)):(t=r*r-4*c*s,c=F.sqrt(t),0>t||(t=(-r+c)/(2*s),0<t&&1>t&&n.push(t),s=(-r-c)/(2*s),0<s&&1>s&&n.push(s)));for(r=q=n.length;q--;)s=n[q],c=1-s,p[0][q]=c*c*c*a+3*\n",
       "c*c*s*d+3*c*s*s*h+s*s*s*l,p[1][q]=c*c*c*b+3*c*c*s*e+3*c*s*s*f+s*s*s*k;p[0][r]=a;p[1][r]=b;p[0][r+1]=l;p[1][r+1]=k;p[0].length=p[1].length=r+2;return{min:{x:X.apply(0,p[0]),y:X.apply(0,p[1])},max:{x:W.apply(0,p[0]),y:W.apply(0,p[1])}}}function I(a,b){var e=!b&&A(a);if(!b&&e.curve)return d(e.curve);var f=G(a),l=b&&G(b),n={x:0,y:0,bx:0,by:0,X:0,Y:0,qx:null,qy:null},k={x:0,y:0,bx:0,by:0,X:0,Y:0,qx:null,qy:null},p=function(a,b,c){if(!a)return[\"C\",b.x,b.y,b.x,b.y,b.x,b.y];a[0]in{T:1,Q:1}||(b.qx=b.qy=null);\n",
       "switch(a[0]){case \"M\":b.X=a[1];b.Y=a[2];break;case \"A\":a=[\"C\"].concat(K.apply(0,[b.x,b.y].concat(a.slice(1))));break;case \"S\":\"C\"==c||\"S\"==c?(c=2*b.x-b.bx,b=2*b.y-b.by):(c=b.x,b=b.y);a=[\"C\",c,b].concat(a.slice(1));break;case \"T\":\"Q\"==c||\"T\"==c?(b.qx=2*b.x-b.qx,b.qy=2*b.y-b.qy):(b.qx=b.x,b.qy=b.y);a=[\"C\"].concat(J(b.x,b.y,b.qx,b.qy,a[1],a[2]));break;case \"Q\":b.qx=a[1];b.qy=a[2];a=[\"C\"].concat(J(b.x,b.y,a[1],a[2],a[3],a[4]));break;case \"L\":a=[\"C\"].concat(h(b.x,b.y,a[1],a[2]));break;case \"H\":a=[\"C\"].concat(h(b.x,\n",
       "b.y,a[1],b.y));break;case \"V\":a=[\"C\"].concat(h(b.x,b.y,b.x,a[1]));break;case \"Z\":a=[\"C\"].concat(h(b.x,b.y,b.X,b.Y))}return a},s=function(a,b){if(7<a[b].length){a[b].shift();for(var c=a[b];c.length;)q[b]=\"A\",l&&(u[b]=\"A\"),a.splice(b++,0,[\"C\"].concat(c.splice(0,6)));a.splice(b,1);v=W(f.length,l&&l.length||0)}},r=function(a,b,c,d,e){a&&b&&\"M\"==a[e][0]&&\"M\"!=b[e][0]&&(b.splice(e,0,[\"M\",d.x,d.y]),c.bx=0,c.by=0,c.x=a[e][1],c.y=a[e][2],v=W(f.length,l&&l.length||0))},q=[],u=[],c=\"\",t=\"\",x=0,v=W(f.length,\n",
       "l&&l.length||0);for(;x<v;x++){f[x]&&(c=f[x][0]);\"C\"!=c&&(q[x]=c,x&&(t=q[x-1]));f[x]=p(f[x],n,t);\"A\"!=q[x]&&\"C\"==c&&(q[x]=\"C\");s(f,x);l&&(l[x]&&(c=l[x][0]),\"C\"!=c&&(u[x]=c,x&&(t=u[x-1])),l[x]=p(l[x],k,t),\"A\"!=u[x]&&\"C\"==c&&(u[x]=\"C\"),s(l,x));r(f,l,n,k,x);r(l,f,k,n,x);var w=f[x],z=l&&l[x],y=w.length,U=l&&z.length;n.x=w[y-2];n.y=w[y-1];n.bx=$(w[y-4])||n.x;n.by=$(w[y-3])||n.y;k.bx=l&&($(z[U-4])||k.x);k.by=l&&($(z[U-3])||k.y);k.x=l&&z[U-2];k.y=l&&z[U-1]}l||(e.curve=d(f));return l?[f,l]:f}function P(a,\n",
       "b){for(var d=[],e=0,h=a.length;h-2*!b>e;e+=2){var f=[{x:+a[e-2],y:+a[e-1]},{x:+a[e],y:+a[e+1]},{x:+a[e+2],y:+a[e+3]},{x:+a[e+4],y:+a[e+5]}];b?e?h-4==e?f[3]={x:+a[0],y:+a[1]}:h-2==e&&(f[2]={x:+a[0],y:+a[1]},f[3]={x:+a[2],y:+a[3]}):f[0]={x:+a[h-2],y:+a[h-1]}:h-4==e?f[3]=f[2]:e||(f[0]={x:+a[e],y:+a[e+1]});d.push([\"C\",(-f[0].x+6*f[1].x+f[2].x)/6,(-f[0].y+6*f[1].y+f[2].y)/6,(f[1].x+6*f[2].x-f[3].x)/6,(f[1].y+6*f[2].y-f[3].y)/6,f[2].x,f[2].y])}return d}y=k.prototype;var Q=a.is,C=a._.clone,L=\"hasOwnProperty\",\n",
       "N=/,?([a-z]),?/gi,$=parseFloat,F=Math,S=F.PI,X=F.min,W=F.max,ma=F.pow,Z=F.abs;M=n(1);var na=n(),ba=n(0,1),V=a._unit2px;a.path=A;a.path.getTotalLength=M;a.path.getPointAtLength=na;a.path.getSubpath=function(a,b,d){if(1E-6>this.getTotalLength(a)-d)return ba(a,b).end;a=ba(a,d,1);return b?ba(a,b).end:a};y.getTotalLength=function(){if(this.node.getTotalLength)return this.node.getTotalLength()};y.getPointAtLength=function(a){return na(this.attr(\"d\"),a)};y.getSubpath=function(b,d){return a.path.getSubpath(this.attr(\"d\"),\n",
       "b,d)};a._.box=w;a.path.findDotsAtSegment=u;a.path.bezierBBox=p;a.path.isPointInsideBBox=b;a.path.isBBoxIntersect=q;a.path.intersection=function(a,b){return l(a,b)};a.path.intersectionNumber=function(a,b){return l(a,b,1)};a.path.isPointInside=function(a,d,e){var h=r(a);return b(h,d,e)&&1==l(a,[[\"M\",d,e],[\"H\",h.x2+10] ],1)%2};a.path.getBBox=r;a.path.get={path:function(a){return a.attr(\"path\")},circle:function(a){a=V(a);return x(a.cx,a.cy,a.r)},ellipse:function(a){a=V(a);return x(a.cx||0,a.cy||0,a.rx,\n",
       "a.ry)},rect:function(a){a=V(a);return s(a.x||0,a.y||0,a.width,a.height,a.rx,a.ry)},image:function(a){a=V(a);return s(a.x||0,a.y||0,a.width,a.height)},line:function(a){return\"M\"+[a.attr(\"x1\")||0,a.attr(\"y1\")||0,a.attr(\"x2\"),a.attr(\"y2\")]},polyline:function(a){return\"M\"+a.attr(\"points\")},polygon:function(a){return\"M\"+a.attr(\"points\")+\"z\"},deflt:function(a){a=a.node.getBBox();return s(a.x,a.y,a.width,a.height)}};a.path.toRelative=function(b){var e=A(b),h=String.prototype.toLowerCase;if(e.rel)return d(e.rel);\n",
       "a.is(b,\"array\")&&a.is(b&&b[0],\"array\")||(b=a.parsePathString(b));var f=[],l=0,n=0,k=0,p=0,s=0;\"M\"==b[0][0]&&(l=b[0][1],n=b[0][2],k=l,p=n,s++,f.push([\"M\",l,n]));for(var r=b.length;s<r;s++){var q=f[s]=[],x=b[s];if(x[0]!=h.call(x[0]))switch(q[0]=h.call(x[0]),q[0]){case \"a\":q[1]=x[1];q[2]=x[2];q[3]=x[3];q[4]=x[4];q[5]=x[5];q[6]=+(x[6]-l).toFixed(3);q[7]=+(x[7]-n).toFixed(3);break;case \"v\":q[1]=+(x[1]-n).toFixed(3);break;case \"m\":k=x[1],p=x[2];default:for(var c=1,t=x.length;c<t;c++)q[c]=+(x[c]-(c%2?l:\n",
       "n)).toFixed(3)}else for(f[s]=[],\"m\"==x[0]&&(k=x[1]+l,p=x[2]+n),q=0,c=x.length;q<c;q++)f[s][q]=x[q];x=f[s].length;switch(f[s][0]){case \"z\":l=k;n=p;break;case \"h\":l+=+f[s][x-1];break;case \"v\":n+=+f[s][x-1];break;default:l+=+f[s][x-2],n+=+f[s][x-1]}}f.toString=z;e.rel=d(f);return f};a.path.toAbsolute=G;a.path.toCubic=I;a.path.map=function(a,b){if(!b)return a;var d,e,h,f,l,n,k;a=I(a);h=0;for(l=a.length;h<l;h++)for(k=a[h],f=1,n=k.length;f<n;f+=2)d=b.x(k[f],k[f+1]),e=b.y(k[f],k[f+1]),k[f]=d,k[f+1]=e;return a};\n",
       "a.path.toString=z;a.path.clone=d});C.plugin(function(a,v,y,C){var A=Math.max,w=Math.min,z=function(a){this.items=[];this.bindings={};this.length=0;this.type=\"set\";if(a)for(var f=0,n=a.length;f<n;f++)a[f]&&(this[this.items.length]=this.items[this.items.length]=a[f],this.length++)};v=z.prototype;v.push=function(){for(var a,f,n=0,k=arguments.length;n<k;n++)if(a=arguments[n])f=this.items.length,this[f]=this.items[f]=a,this.length++;return this};v.pop=function(){this.length&&delete this[this.length--];\n",
       "return this.items.pop()};v.forEach=function(a,f){for(var n=0,k=this.items.length;n<k&&!1!==a.call(f,this.items[n],n);n++);return this};v.animate=function(d,f,n,u){\"function\"!=typeof n||n.length||(u=n,n=L.linear);d instanceof a._.Animation&&(u=d.callback,n=d.easing,f=n.dur,d=d.attr);var p=arguments;if(a.is(d,\"array\")&&a.is(p[p.length-1],\"array\"))var b=!0;var q,e=function(){q?this.b=q:q=this.b},l=0,r=u&&function(){l++==this.length&&u.call(this)};return this.forEach(function(a,l){k.once(\"snap.animcreated.\"+\n",
       "a.id,e);b?p[l]&&a.animate.apply(a,p[l]):a.animate(d,f,n,r)})};v.remove=function(){for(;this.length;)this.pop().remove();return this};v.bind=function(a,f,k){var u={};if(\"function\"==typeof f)this.bindings[a]=f;else{var p=k||a;this.bindings[a]=function(a){u[p]=a;f.attr(u)}}return this};v.attr=function(a){var f={},k;for(k in a)if(this.bindings[k])this.bindings[k](a[k]);else f[k]=a[k];a=0;for(k=this.items.length;a<k;a++)this.items[a].attr(f);return this};v.clear=function(){for(;this.length;)this.pop()};\n",
       "v.splice=function(a,f,k){a=0>a?A(this.length+a,0):a;f=A(0,w(this.length-a,f));var u=[],p=[],b=[],q;for(q=2;q<arguments.length;q++)b.push(arguments[q]);for(q=0;q<f;q++)p.push(this[a+q]);for(;q<this.length-a;q++)u.push(this[a+q]);var e=b.length;for(q=0;q<e+u.length;q++)this.items[a+q]=this[a+q]=q<e?b[q]:u[q-e];for(q=this.items.length=this.length-=f-e;this[q];)delete this[q++];return new z(p)};v.exclude=function(a){for(var f=0,k=this.length;f<k;f++)if(this[f]==a)return this.splice(f,1),!0;return!1};\n",
       "v.insertAfter=function(a){for(var f=this.items.length;f--;)this.items[f].insertAfter(a);return this};v.getBBox=function(){for(var a=[],f=[],k=[],u=[],p=this.items.length;p--;)if(!this.items[p].removed){var b=this.items[p].getBBox();a.push(b.x);f.push(b.y);k.push(b.x+b.width);u.push(b.y+b.height)}a=w.apply(0,a);f=w.apply(0,f);k=A.apply(0,k);u=A.apply(0,u);return{x:a,y:f,x2:k,y2:u,width:k-a,height:u-f,cx:a+(k-a)/2,cy:f+(u-f)/2}};v.clone=function(a){a=new z;for(var f=0,k=this.items.length;f<k;f++)a.push(this.items[f].clone());\n",
       "return a};v.toString=function(){return\"Snap\\u2018s set\"};v.type=\"set\";a.set=function(){var a=new z;arguments.length&&a.push.apply(a,Array.prototype.slice.call(arguments,0));return a}});C.plugin(function(a,v,y,C){function A(a){var b=a[0];switch(b.toLowerCase()){case \"t\":return[b,0,0];case \"m\":return[b,1,0,0,1,0,0];case \"r\":return 4==a.length?[b,0,a[2],a[3] ]:[b,0];case \"s\":return 5==a.length?[b,1,1,a[3],a[4] ]:3==a.length?[b,1,1]:[b,1]}}function w(b,d,f){d=q(d).replace(/\\.{3}|\\u2026/g,b);b=a.parseTransformString(b)||\n",
       "[];d=a.parseTransformString(d)||[];for(var k=Math.max(b.length,d.length),p=[],v=[],h=0,w,z,y,I;h<k;h++){y=b[h]||A(d[h]);I=d[h]||A(y);if(y[0]!=I[0]||\"r\"==y[0].toLowerCase()&&(y[2]!=I[2]||y[3]!=I[3])||\"s\"==y[0].toLowerCase()&&(y[3]!=I[3]||y[4]!=I[4])){b=a._.transform2matrix(b,f());d=a._.transform2matrix(d,f());p=[[\"m\",b.a,b.b,b.c,b.d,b.e,b.f] ];v=[[\"m\",d.a,d.b,d.c,d.d,d.e,d.f] ];break}p[h]=[];v[h]=[];w=0;for(z=Math.max(y.length,I.length);w<z;w++)w in y&&(p[h][w]=y[w]),w in I&&(v[h][w]=I[w])}return{from:u(p),\n",
       "to:u(v),f:n(p)}}function z(a){return a}function d(a){return function(b){return+b.toFixed(3)+a}}function f(b){return a.rgb(b[0],b[1],b[2])}function n(a){var b=0,d,f,k,n,h,p,q=[];d=0;for(f=a.length;d<f;d++){h=\"[\";p=['\"'+a[d][0]+'\"'];k=1;for(n=a[d].length;k<n;k++)p[k]=\"val[\"+b++ +\"]\";h+=p+\"]\";q[d]=h}return Function(\"val\",\"return Snap.path.toString.call([\"+q+\"])\")}function u(a){for(var b=[],d=0,f=a.length;d<f;d++)for(var k=1,n=a[d].length;k<n;k++)b.push(a[d][k]);return b}var p={},b=/[a-z]+$/i,q=String;\n",
       "p.stroke=p.fill=\"colour\";v.prototype.equal=function(a,b){return k(\"snap.util.equal\",this,a,b).firstDefined()};k.on(\"snap.util.equal\",function(e,k){var r,s;r=q(this.attr(e)||\"\");var x=this;if(r==+r&&k==+k)return{from:+r,to:+k,f:z};if(\"colour\"==p[e])return r=a.color(r),s=a.color(k),{from:[r.r,r.g,r.b,r.opacity],to:[s.r,s.g,s.b,s.opacity],f:f};if(\"transform\"==e||\"gradientTransform\"==e||\"patternTransform\"==e)return k instanceof a.Matrix&&(k=k.toTransformString()),a._.rgTransform.test(k)||(k=a._.svgTransform2string(k)),\n",
       "w(r,k,function(){return x.getBBox(1)});if(\"d\"==e||\"path\"==e)return r=a.path.toCubic(r,k),{from:u(r[0]),to:u(r[1]),f:n(r[0])};if(\"points\"==e)return r=q(r).split(a._.separator),s=q(k).split(a._.separator),{from:r,to:s,f:function(a){return a}};aUnit=r.match(b);s=q(k).match(b);return aUnit&&aUnit==s?{from:parseFloat(r),to:parseFloat(k),f:d(aUnit)}:{from:this.asPX(e),to:this.asPX(e,k),f:z}})});C.plugin(function(a,v,y,C){var A=v.prototype,w=\"createTouch\"in C.doc;v=\"click dblclick mousedown mousemove mouseout mouseover mouseup touchstart touchmove touchend touchcancel\".split(\" \");\n",
       "var z={mousedown:\"touchstart\",mousemove:\"touchmove\",mouseup:\"touchend\"},d=function(a,b){var d=\"y\"==a?\"scrollTop\":\"scrollLeft\",e=b&&b.node?b.node.ownerDocument:C.doc;return e[d in e.documentElement?\"documentElement\":\"body\"][d]},f=function(){this.returnValue=!1},n=function(){return this.originalEvent.preventDefault()},u=function(){this.cancelBubble=!0},p=function(){return this.originalEvent.stopPropagation()},b=function(){if(C.doc.addEventListener)return function(a,b,e,f){var k=w&&z[b]?z[b]:b,l=function(k){var l=\n",
       "d(\"y\",f),q=d(\"x\",f);if(w&&z.hasOwnProperty(b))for(var r=0,u=k.targetTouches&&k.targetTouches.length;r<u;r++)if(k.targetTouches[r].target==a||a.contains(k.targetTouches[r].target)){u=k;k=k.targetTouches[r];k.originalEvent=u;k.preventDefault=n;k.stopPropagation=p;break}return e.call(f,k,k.clientX+q,k.clientY+l)};b!==k&&a.addEventListener(b,l,!1);a.addEventListener(k,l,!1);return function(){b!==k&&a.removeEventListener(b,l,!1);a.removeEventListener(k,l,!1);return!0}};if(C.doc.attachEvent)return function(a,\n",
       "b,e,h){var k=function(a){a=a||h.node.ownerDocument.window.event;var b=d(\"y\",h),k=d(\"x\",h),k=a.clientX+k,b=a.clientY+b;a.preventDefault=a.preventDefault||f;a.stopPropagation=a.stopPropagation||u;return e.call(h,a,k,b)};a.attachEvent(\"on\"+b,k);return function(){a.detachEvent(\"on\"+b,k);return!0}}}(),q=[],e=function(a){for(var b=a.clientX,e=a.clientY,f=d(\"y\"),l=d(\"x\"),n,p=q.length;p--;){n=q[p];if(w)for(var r=a.touches&&a.touches.length,u;r--;){if(u=a.touches[r],u.identifier==n.el._drag.id||n.el.node.contains(u.target)){b=\n",
       "u.clientX;e=u.clientY;(a.originalEvent?a.originalEvent:a).preventDefault();break}}else a.preventDefault();b+=l;e+=f;k(\"snap.drag.move.\"+n.el.id,n.move_scope||n.el,b-n.el._drag.x,e-n.el._drag.y,b,e,a)}},l=function(b){a.unmousemove(e).unmouseup(l);for(var d=q.length,f;d--;)f=q[d],f.el._drag={},k(\"snap.drag.end.\"+f.el.id,f.end_scope||f.start_scope||f.move_scope||f.el,b);q=[]};for(y=v.length;y--;)(function(d){a[d]=A[d]=function(e,f){a.is(e,\"function\")&&(this.events=this.events||[],this.events.push({name:d,\n",
       "f:e,unbind:b(this.node||document,d,e,f||this)}));return this};a[\"un\"+d]=A[\"un\"+d]=function(a){for(var b=this.events||[],e=b.length;e--;)if(b[e].name==d&&(b[e].f==a||!a)){b[e].unbind();b.splice(e,1);!b.length&&delete this.events;break}return this}})(v[y]);A.hover=function(a,b,d,e){return this.mouseover(a,d).mouseout(b,e||d)};A.unhover=function(a,b){return this.unmouseover(a).unmouseout(b)};var r=[];A.drag=function(b,d,f,h,n,p){function u(r,v,w){(r.originalEvent||r).preventDefault();this._drag.x=v;\n",
       "this._drag.y=w;this._drag.id=r.identifier;!q.length&&a.mousemove(e).mouseup(l);q.push({el:this,move_scope:h,start_scope:n,end_scope:p});d&&k.on(\"snap.drag.start.\"+this.id,d);b&&k.on(\"snap.drag.move.\"+this.id,b);f&&k.on(\"snap.drag.end.\"+this.id,f);k(\"snap.drag.start.\"+this.id,n||h||this,v,w,r)}if(!arguments.length){var v;return this.drag(function(a,b){this.attr({transform:v+(v?\"T\":\"t\")+[a,b]})},function(){v=this.transform().local})}this._drag={};r.push({el:this,start:u});this.mousedown(u);return this};\n",
       "A.undrag=function(){for(var b=r.length;b--;)r[b].el==this&&(this.unmousedown(r[b].start),r.splice(b,1),k.unbind(\"snap.drag.*.\"+this.id));!r.length&&a.unmousemove(e).unmouseup(l);return this}});C.plugin(function(a,v,y,C){y=y.prototype;var A=/^\\s*url\\((.+)\\)/,w=String,z=a._.$;a.filter={};y.filter=function(d){var f=this;\"svg\"!=f.type&&(f=f.paper);d=a.parse(w(d));var k=a._.id(),u=z(\"filter\");z(u,{id:k,filterUnits:\"userSpaceOnUse\"});u.appendChild(d.node);f.defs.appendChild(u);return new v(u)};k.on(\"snap.util.getattr.filter\",\n",
       "function(){k.stop();var d=z(this.node,\"filter\");if(d)return(d=w(d).match(A))&&a.select(d[1])});k.on(\"snap.util.attr.filter\",function(d){if(d instanceof v&&\"filter\"==d.type){k.stop();var f=d.node.id;f||(z(d.node,{id:d.id}),f=d.id);z(this.node,{filter:a.url(f)})}d&&\"none\"!=d||(k.stop(),this.node.removeAttribute(\"filter\"))});a.filter.blur=function(d,f){null==d&&(d=2);return a.format('<feGaussianBlur stdDeviation=\"{def}\"/>',{def:null==f?d:[d,f]})};a.filter.blur.toString=function(){return this()};a.filter.shadow=\n",
       "function(d,f,k,u,p){\"string\"==typeof k&&(p=u=k,k=4);\"string\"!=typeof u&&(p=u,u=\"#000\");null==k&&(k=4);null==p&&(p=1);null==d&&(d=0,f=2);null==f&&(f=d);u=a.color(u||\"#000\");return a.format('<feGaussianBlur in=\"SourceAlpha\" stdDeviation=\"{blur}\"/><feOffset dx=\"{dx}\" dy=\"{dy}\" result=\"offsetblur\"/><feFlood flood-color=\"{color}\"/><feComposite in2=\"offsetblur\" operator=\"in\"/><feComponentTransfer><feFuncA type=\"linear\" slope=\"{opacity}\"/></feComponentTransfer><feMerge><feMergeNode/><feMergeNode in=\"SourceGraphic\"/></feMerge>',\n",
       "{color:u,dx:d,dy:f,blur:k,opacity:p})};a.filter.shadow.toString=function(){return this()};a.filter.grayscale=function(d){null==d&&(d=1);return a.format('<feColorMatrix type=\"matrix\" values=\"{a} {b} {c} 0 0 {d} {e} {f} 0 0 {g} {b} {h} 0 0 0 0 0 1 0\"/>',{a:0.2126+0.7874*(1-d),b:0.7152-0.7152*(1-d),c:0.0722-0.0722*(1-d),d:0.2126-0.2126*(1-d),e:0.7152+0.2848*(1-d),f:0.0722-0.0722*(1-d),g:0.2126-0.2126*(1-d),h:0.0722+0.9278*(1-d)})};a.filter.grayscale.toString=function(){return this()};a.filter.sepia=\n",
       "function(d){null==d&&(d=1);return a.format('<feColorMatrix type=\"matrix\" values=\"{a} {b} {c} 0 0 {d} {e} {f} 0 0 {g} {h} {i} 0 0 0 0 0 1 0\"/>',{a:0.393+0.607*(1-d),b:0.769-0.769*(1-d),c:0.189-0.189*(1-d),d:0.349-0.349*(1-d),e:0.686+0.314*(1-d),f:0.168-0.168*(1-d),g:0.272-0.272*(1-d),h:0.534-0.534*(1-d),i:0.131+0.869*(1-d)})};a.filter.sepia.toString=function(){return this()};a.filter.saturate=function(d){null==d&&(d=1);return a.format('<feColorMatrix type=\"saturate\" values=\"{amount}\"/>',{amount:1-\n",
       "d})};a.filter.saturate.toString=function(){return this()};a.filter.hueRotate=function(d){return a.format('<feColorMatrix type=\"hueRotate\" values=\"{angle}\"/>',{angle:d||0})};a.filter.hueRotate.toString=function(){return this()};a.filter.invert=function(d){null==d&&(d=1);return a.format('<feComponentTransfer><feFuncR type=\"table\" tableValues=\"{amount} {amount2}\"/><feFuncG type=\"table\" tableValues=\"{amount} {amount2}\"/><feFuncB type=\"table\" tableValues=\"{amount} {amount2}\"/></feComponentTransfer>',{amount:d,\n",
       "amount2:1-d})};a.filter.invert.toString=function(){return this()};a.filter.brightness=function(d){null==d&&(d=1);return a.format('<feComponentTransfer><feFuncR type=\"linear\" slope=\"{amount}\"/><feFuncG type=\"linear\" slope=\"{amount}\"/><feFuncB type=\"linear\" slope=\"{amount}\"/></feComponentTransfer>',{amount:d})};a.filter.brightness.toString=function(){return this()};a.filter.contrast=function(d){null==d&&(d=1);return a.format('<feComponentTransfer><feFuncR type=\"linear\" slope=\"{amount}\" intercept=\"{amount2}\"/><feFuncG type=\"linear\" slope=\"{amount}\" intercept=\"{amount2}\"/><feFuncB type=\"linear\" slope=\"{amount}\" intercept=\"{amount2}\"/></feComponentTransfer>',\n",
       "{amount:d,amount2:0.5-d/2})};a.filter.contrast.toString=function(){return this()}});return C});\n",
       "\n",
       "]]> </script>\n",
       "</svg>\n"
      ],
      "text/plain": [
       "Compose.Context(Measures.BoundingBox{Tuple{Measures.Length{:w, Float64}, Measures.Length{:h, Float64}}, Tuple{Measures.Length{:w, Float64}, Measures.Length{:h, Float64}}}((0.0w, 0.0h), (1.0w, 1.0h)), Compose.UnitBox{Float64, Float64, Float64, Float64}(-1.2, -1.2, 2.4, 2.4, 0.0mm, 0.0mm, 0.0mm, 0.0mm), nothing, nothing, nothing, List([Compose.Context(Measures.BoundingBox{Tuple{Measures.Length{:w, Float64}, Measures.Length{:h, Float64}}, Tuple{Measures.Length{:w, Float64}, Measures.Length{:h, Float64}}}((0.0w, 0.0h), (1.0w, 1.0h)), nothing, nothing, nothing, nothing, List([]), List([Compose.Form{Compose.LinePrimitive}(Compose.LinePrimitive[Compose.LinePrimitive{Tuple{Measures.Measure, Measures.Measure}}(Tuple{Measures.Measure, Measures.Measure}[(-0.947283417101232cx, -0.45116424981375775cy), (-0.38604991623210144cx, -0.691692893043385cy)]), Compose.LinePrimitive{Tuple{Measures.Measure, Measures.Measure}}(Tuple{Measures.Measure, Measures.Measure}[(-0.9494436564459116cx, -0.02708375547540453cy), (-0.3838896768874218cx, -0.33005910166745256cy)]), Compose.LinePrimitive{Tuple{Measures.Measure, Measures.Measure}}(Tuple{Measures.Measure, Measures.Measure}[(-0.9426460665323596cx, 0.0cy), (-0.3906872668009738cx, 7.023831103965612e-18cy)]), Compose.LinePrimitive{Tuple{Measures.Measure, Measures.Measure}}(Tuple{Measures.Measure, Measures.Measure}[(-0.9494436564459116cx, 0.027083755475404533cy), (-0.3838896768874218cx, 0.33005910166745267cy)]), Compose.LinePrimitive{Tuple{Measures.Measure, Measures.Measure}}(Tuple{Measures.Measure, Measures.Measure}[(-0.9517551056888419cx, 0.39755685365711246cy), (-0.38157822764449145cx, 0.03101457491431591cy)]), Compose.LinePrimitive{Tuple{Measures.Measure, Measures.Measure}}(Tuple{Measures.Measure, Measures.Measure}[(-0.947283417101232cx, 0.4511642498137576cy), (-0.38604991623210144cx, 0.6916928930433852cy)]), Compose.LinePrimitive{Tuple{Measures.Measure, Measures.Measure}}(Tuple{Measures.Measure, Measures.Measure}[(-0.2806167504345653cx, -0.7368785355280434cy), (0.2806167504345652cx, -0.9774071787576708cy)]), Compose.LinePrimitive{Tuple{Measures.Measure, Measures.Measure}}(Tuple{Measures.Measure, Measures.Measure}[(-0.2761251534265223cx, -0.710199415720942cy), (0.27612515342652216cx, -0.6707529652314389cy)]), Compose.LinePrimitive{Tuple{Measures.Measure, Measures.Measure}}(Tuple{Measures.Measure, Measures.Measure}[(-0.2813128013425366cx, -0.38129524699572703cy), (0.2813128013425365cx, -0.6425142768137968cy)]), Compose.LinePrimitive{Tuple{Measures.Measure, Measures.Measure}}(Tuple{Measures.Measure, Measures.Measure}[(-0.27601594267505275cx, -0.35509580747648994cy), (0.27601594267505264cx, -0.3353803829997005cy)])  …  Compose.LinePrimitive{Tuple{Measures.Measure, Measures.Measure}}(Tuple{Measures.Measure, Measures.Measure}[(0.38157822764449134cx, -0.9689854250856841cy), (0.9517551056888419cx, -0.6024431463428873cy)]), Compose.LinePrimitive{Tuple{Measures.Measure, Measures.Measure}}(Tuple{Measures.Measure, Measures.Measure}[(0.35573290326571916cx, -0.9472010137308047cy), (0.9776004300676141cx, 0.5186295851593761cy)]), Compose.LinePrimitive{Tuple{Measures.Measure, Measures.Measure}}(Tuple{Measures.Measure, Measures.Measure}[(0.38000414870131644cx, -0.6333303699752502cy), (0.9533291846320168cx, -0.22381248716760702cy)]), Compose.LinePrimitive{Tuple{Measures.Measure, Measures.Measure}}(Tuple{Measures.Measure, Measures.Measure}[(0.3894141479348272cx, -0.32131601591872755cy), (0.943919185398506cx, -0.20249350789079631cy)]), Compose.LinePrimitive{Tuple{Measures.Measure, Measures.Measure}}(Tuple{Measures.Measure, Measures.Measure}[(0.388480513853868cx, 0.015756337291581355cy), (0.9448528194794652cx, 0.17471985318460911cy)]), Compose.LinePrimitive{Tuple{Measures.Measure, Measures.Measure}}(Tuple{Measures.Measure, Measures.Measure}[(0.3673556314947127cx, 0.28716021440003286cy), (0.9659777018386206cx, -0.5252554524952707cy)]), Compose.LinePrimitive{Tuple{Measures.Measure, Measures.Measure}}(Tuple{Measures.Measure, Measures.Measure}[(0.36052482304070377cx, 0.6161681857815499cy), (0.9728085102926295cx, -0.5209300905434547cy)]), Compose.LinePrimitive{Tuple{Measures.Measure, Measures.Measure}}(Tuple{Measures.Measure, Measures.Measure}[(0.36854524243395037cx, 0.6213942121087302cy), (0.9647880908993829cx, -0.1452037359182542cy)]), Compose.LinePrimitive{Tuple{Measures.Measure, Measures.Measure}}(Tuple{Measures.Measure, Measures.Measure}[(0.36979364481882526cx, 0.9557267646247597cy), (0.963539688514508cx, 0.23474942585143074cy)]), Compose.LinePrimitive{Tuple{Measures.Measure, Measures.Measure}}(Tuple{Measures.Measure, Measures.Measure}[(0.38157822764449134cx, 0.9689854250856841cy), (0.9517551056888419cx, 0.6024431463428873cy)])], Symbol(\"\"))]), List([Compose.Property{Compose.LineWidthPrimitive}(Compose.LineWidthPrimitive[Compose.LineWidthPrimitive(0.6882472016116852mm)]), Compose.Property{Compose.FillPrimitive}(Compose.FillPrimitive[Compose.FillPrimitive(RGBA{Float64}(0.0,0.0,0.0,0.0))]), Compose.Property{Compose.StrokePrimitive}(Compose.StrokePrimitive[Compose.StrokePrimitive(RGBA{Float64}(0.8274509803921568,0.8274509803921568,0.8274509803921568,1.0))])]), 0, false, false, false, false, nothing, nothing, 0.0, Symbol(\"\")), Compose.Context(Measures.BoundingBox{Tuple{Measures.Length{:w, Float64}, Measures.Length{:h, Float64}}, Tuple{Measures.Length{:w, Float64}, Measures.Length{:h, Float64}}}((0.0w, 0.0h), (1.0w, 1.0h)), nothing, nothing, nothing, nothing, List([]), List([Compose.Form{Compose.LinePrimitive}(Compose.LinePrimitive[Compose.LinePrimitive{Tuple{Measures.Measure, Measures.Measure}}(Tuple{Measures.Measure, Measures.Measure}[(-0.48589412994198194cx, -0.6861131987277698cy), (-0.38604991623210144cx, -0.691692893043385cy), (-0.4589484629502232cx, -0.6232399757469993cy)]), Compose.LinePrimitive{Tuple{Measures.Measure, Measures.Measure}}(Tuple{Measures.Measure, Measures.Measure}[(-0.4828726227270822cx, -0.3158331945644638cy), (-0.3838896768874218cx, -0.33005910166745256cy), (-0.45057077568908754cx, -0.2555364134268738cy)]), Compose.LinePrimitive{Tuple{Measures.Measure, Measures.Measure}}(Tuple{Measures.Measure, Measures.Measure}[(-0.4846565288795647cx, -0.034202014332566866cy), (-0.3906872668009738cx, 7.023831103965612e-18cy), (-0.4846565288795647cx, 0.03420201433256688cy)]), Compose.LinePrimitive{Tuple{Measures.Measure, Measures.Measure}}(Tuple{Measures.Measure, Measures.Measure}[(-0.4505707756890875cx, 0.2555364134268739cy), (-0.3838896768874218cx, 0.33005910166745267cy), (-0.4828726227270822cx, 0.3158331945644639cy)]), Compose.LinePrimitive{Tuple{Measures.Measure, Measures.Measure}}(Tuple{Measures.Measure, Measures.Measure}[(-0.4791181471405689cx, 0.053059168462365934cy), (-0.38157822764449145cx, 0.03101457491431591cy), (-0.44212814936347167cx, 0.11059916500451722cy)]), Compose.LinePrimitive{Tuple{Measures.Measure, Measures.Measure}}(Tuple{Measures.Measure, Measures.Measure}[(-0.4589484629502232cx, 0.6232399757469995cy), (-0.38604991623210144cx, 0.6916928930433852cy), (-0.48589412994198194cx, 0.6861131987277699cy)]), Compose.LinePrimitive{Tuple{Measures.Measure, Measures.Measure}}(Tuple{Measures.Measure, Measures.Measure}[(0.18077253672468468cx, -0.9718274844420556cy), (0.2806167504345652cx, -0.9774071787576708cy), (0.20771820371644345cx, -0.9089542614612851cy)]), Compose.LinePrimitive{Tuple{Measures.Measure, Measures.Measure}}(Tuple{Measures.Measure, Measures.Measure}[(0.18483148807439692cx, -0.7115630946918335cy), (0.27612515342652216cx, -0.6707529652314389cy), (0.17995790282471774cx, -0.6433329011963249cy)]), Compose.LinePrimitive{Tuple{Measures.Measure, Measures.Measure}}(Tuple{Measures.Measure, Measures.Measure}[(0.1816789830055848cx, -0.6339642918080025cy), (0.2813128013425365cx, -0.6425142768137968cy), (0.21048469288351918cx, -0.5719212243786055cy)]), Compose.LinePrimitive{Tuple{Measures.Measure, Measures.Measure}}(Tuple{Measures.Measure, Measures.Measure}[(0.18332727494139592cx, -0.3729145124522373cy), (0.27601594267505264cx, -0.3353803829997005cy), (0.18088583046512235cx, -0.3045540671165776cy)])  …  Compose.LinePrimitive{Tuple{Measures.Measure, Measures.Measure}}(Tuple{Measures.Measure, Measures.Measure}[(0.8912051839698617cx, -0.6820277364330887cy), (0.9517551056888419cx, -0.6024431463428873cy), (0.8542151861927645cx, -0.6244877398909373cy)]), Compose.LinePrimitive{Tuple{Measures.Measure, Measures.Measure}}(Tuple{Measures.Measure, Measures.Measure}[(0.9723865004516307cx, 0.41876560297380744cy), (0.9776004300676141cx, 0.5186295851593761cy), (0.9094149978556357cx, 0.4454807858933204cy)]), Compose.LinePrimitive{Tuple{Measures.Measure, Measures.Measure}}(Tuple{Measures.Measure, Measures.Measure}[(0.8967427678462855cx, -0.3062623351683857cy), (0.9533291846320168cx, -0.22381248716760702cy), (0.8569837337818538cx, -0.2505996874781814cy)]), Compose.LinePrimitive{Tuple{Measures.Measure, Measures.Measure}}(Tuple{Measures.Measure, Measures.Measure}[(0.8592021309848502cx, -0.2556256139235301cy), (0.943919185398506cx, -0.20249350789079631cy), (0.8448694971931241cx, -0.18873998956214202cy)]), Compose.LinePrimitive{Tuple{Measures.Measure, Measures.Measure}}(Tuple{Measures.Measure, Measures.Measure}[(0.8638951396025685cx, 0.11601845568037661cy), (0.9448528194794652cx, 0.17471985318460911cy), (0.8451031076949583cx, 0.18179056735701205cy)]), Compose.LinePrimitive{Tuple{Measures.Measure, Measures.Measure}}(Tuple{Measures.Measure, Measures.Measure}[(0.8827006946796698cx, -0.46989355152855855cy), (0.9659777018386206cx, -0.5252554524952707cy), (0.9377697572550228cx, -0.42931634752566683cy)]), Compose.LinePrimitive{Tuple{Measures.Measure, Measures.Measure}}(Tuple{Measures.Measure, Measures.Measure}[(0.8981438145914893cx, -0.4544080399447538cy), (0.9728085102926295cx, -0.5209300905434547cy), (0.9583715849493876cx, -0.4219777020597316cy)]), Compose.LinePrimitive{Tuple{Measures.Measure, Measures.Measure}}(Tuple{Measures.Measure, Measures.Measure}[(0.8800991086351599cx, -0.0920268961940836cy), (0.9647880908993829cx, -0.1452037359182542cy), (0.934093980339457cx, -0.05003088486851917cy)]), Compose.LinePrimitive{Tuple{Measures.Measure, Measures.Measure}}(Tuple{Measures.Measure, Measures.Measure}[(0.8774011780828262cx, 0.2855446718948456cy), (0.963539688514508cx, 0.23474942585143074cy), (0.9302043160474583cx, 0.3290296090421897cy)]), Compose.LinePrimitive{Tuple{Measures.Measure, Measures.Measure}}(Tuple{Measures.Measure, Measures.Measure}[(0.8542151861927645cx, 0.6244877398909373cy), (0.9517551056888419cx, 0.6024431463428873cy), (0.8912051839698617cx, 0.6820277364330887cy)])], Symbol(\"\"))]), List([Compose.Property{Compose.LineWidthPrimitive}(Compose.LineWidthPrimitive[Compose.LineWidthPrimitive(0.6882472016116852mm)]), Compose.Property{Compose.StrokePrimitive}(Compose.StrokePrimitive[Compose.StrokePrimitive(RGBA{Float64}(0.8274509803921568,0.8274509803921568,0.8274509803921568,1.0))])]), 0, false, false, false, false, nothing, nothing, 0.0, Symbol(\"\")), Compose.Context(Measures.BoundingBox{Tuple{Measures.Length{:w, Float64}, Measures.Length{:h, Float64}}, Tuple{Measures.Length{:w, Float64}, Measures.Length{:h, Float64}}}((0.0w, 0.0h), (1.0w, 1.0h)), nothing, nothing, nothing, nothing, List([]), List([]), List([Compose.Property{Compose.FontSizePrimitive}(Compose.FontSizePrimitive[Compose.FontSizePrimitive(4.0mm)]), Compose.Property{Compose.StrokePrimitive}(Compose.StrokePrimitive[Compose.StrokePrimitive(RGBA{Float64}(0.0,0.0,0.0,0.0))]), Compose.Property{Compose.FillPrimitive}(Compose.FillPrimitive[Compose.FillPrimitive(RGBA{Float64}(0.0,0.0,0.0,1.0))])]), 0, false, false, false, false, nothing, nothing, 0.0, Symbol(\"\")), Compose.Context(Measures.BoundingBox{Tuple{Measures.Length{:w, Float64}, Measures.Length{:h, Float64}}, Tuple{Measures.Length{:w, Float64}, Measures.Length{:h, Float64}}}((0.0w, 0.0h), (1.0w, 1.0h)), nothing, nothing, nothing, nothing, List([]), List([Compose.Form{Compose.CirclePrimitive{Tuple{Measures.Measure, Measures.Measure}, Measures.Measure}}(Compose.CirclePrimitive{Tuple{Measures.Measure, Measures.Measure}, Measures.Measure}[Compose.CirclePrimitive{Tuple{Measures.Measure, Measures.Measure}, Measures.Measure}((-1.0cx, -0.4285714285714286cy), 0.022941573387056175w), Compose.CirclePrimitive{Tuple{Measures.Measure, Measures.Measure}, Measures.Measure}((-1.0cx, 0.0cy), 0.022941573387056175w), Compose.CirclePrimitive{Tuple{Measures.Measure, Measures.Measure}, Measures.Measure}((-1.0cx, 0.4285714285714284cy), 0.022941573387056175w), Compose.CirclePrimitive{Tuple{Measures.Measure, Measures.Measure}, Measures.Measure}((-0.33333333333333337cx, -0.7142857142857142cy), 0.022941573387056175w), Compose.CirclePrimitive{Tuple{Measures.Measure, Measures.Measure}, Measures.Measure}((-0.33333333333333337cx, -0.3571428571428571cy), 0.022941573387056175w), Compose.CirclePrimitive{Tuple{Measures.Measure, Measures.Measure}, Measures.Measure}((-0.33333333333333337cx, 0.0cy), 0.022941573387056175w), Compose.CirclePrimitive{Tuple{Measures.Measure, Measures.Measure}, Measures.Measure}((-0.33333333333333337cx, 0.3571428571428572cy), 0.022941573387056175w), Compose.CirclePrimitive{Tuple{Measures.Measure, Measures.Measure}, Measures.Measure}((-0.33333333333333337cx, 0.7142857142857144cy), 0.022941573387056175w), Compose.CirclePrimitive{Tuple{Measures.Measure, Measures.Measure}, Measures.Measure}((0.33333333333333326cx, -1.0cy), 0.022941573387056175w), Compose.CirclePrimitive{Tuple{Measures.Measure, Measures.Measure}, Measures.Measure}((0.33333333333333326cx, -0.6666666666666667cy), 0.022941573387056175w), Compose.CirclePrimitive{Tuple{Measures.Measure, Measures.Measure}, Measures.Measure}((0.33333333333333326cx, -0.33333333333333337cy), 0.022941573387056175w), Compose.CirclePrimitive{Tuple{Measures.Measure, Measures.Measure}, Measures.Measure}((0.33333333333333326cx, 0.0cy), 0.022941573387056175w), Compose.CirclePrimitive{Tuple{Measures.Measure, Measures.Measure}, Measures.Measure}((0.33333333333333326cx, 0.3333333333333335cy), 0.022941573387056175w), Compose.CirclePrimitive{Tuple{Measures.Measure, Measures.Measure}, Measures.Measure}((0.33333333333333326cx, 0.6666666666666665cy), 0.022941573387056175w), Compose.CirclePrimitive{Tuple{Measures.Measure, Measures.Measure}, Measures.Measure}((0.33333333333333326cx, 1.0cy), 0.022941573387056175w), Compose.CirclePrimitive{Tuple{Measures.Measure, Measures.Measure}, Measures.Measure}((1.0cx, -0.5714285714285714cy), 0.022941573387056175w), Compose.CirclePrimitive{Tuple{Measures.Measure, Measures.Measure}, Measures.Measure}((1.0cx, -0.19047619047619047cy), 0.022941573387056175w), Compose.CirclePrimitive{Tuple{Measures.Measure, Measures.Measure}, Measures.Measure}((1.0cx, 0.19047619047619047cy), 0.022941573387056175w), Compose.CirclePrimitive{Tuple{Measures.Measure, Measures.Measure}, Measures.Measure}((1.0cx, 0.5714285714285714cy), 0.022941573387056175w)], Symbol(\"\"))]), List([Compose.Property{Compose.LineWidthPrimitive}(Compose.LineWidthPrimitive[Compose.LineWidthPrimitive(0.0mm)]), Compose.Property{Compose.StrokePrimitive}(Compose.StrokePrimitive[Compose.StrokePrimitive(RGBA{Float64}(0.0,0.0,0.0,0.0))]), Compose.Property{Compose.FillPrimitive}(Compose.FillPrimitive[Compose.FillPrimitive(RGBA{Float64}(1.0,0.6470588235294118,0.0,1.0)), Compose.FillPrimitive(RGBA{Float64}(1.0,0.6470588235294118,0.0,1.0)), Compose.FillPrimitive(RGBA{Float64}(1.0,0.6470588235294118,0.0,1.0)), Compose.FillPrimitive(RGBA{Float64}(0.6784313725490196,0.8470588235294118,0.9019607843137255,1.0)), Compose.FillPrimitive(RGBA{Float64}(0.6784313725490196,0.8470588235294118,0.9019607843137255,1.0)), Compose.FillPrimitive(RGBA{Float64}(0.6784313725490196,0.8470588235294118,0.9019607843137255,1.0)), Compose.FillPrimitive(RGBA{Float64}(0.6784313725490196,0.8470588235294118,0.9019607843137255,1.0)), Compose.FillPrimitive(RGBA{Float64}(0.6784313725490196,0.8470588235294118,0.9019607843137255,1.0)), Compose.FillPrimitive(RGBA{Float64}(1.0,1.0,0.0,1.0)), Compose.FillPrimitive(RGBA{Float64}(1.0,1.0,0.0,1.0)), Compose.FillPrimitive(RGBA{Float64}(1.0,1.0,0.0,1.0)), Compose.FillPrimitive(RGBA{Float64}(1.0,1.0,0.0,1.0)), Compose.FillPrimitive(RGBA{Float64}(1.0,1.0,0.0,1.0)), Compose.FillPrimitive(RGBA{Float64}(1.0,1.0,0.0,1.0)), Compose.FillPrimitive(RGBA{Float64}(1.0,1.0,0.0,1.0)), Compose.FillPrimitive(RGBA{Float64}(0.5647058823529412,0.9333333333333333,0.5647058823529412,1.0)), Compose.FillPrimitive(RGBA{Float64}(0.5647058823529412,0.9333333333333333,0.5647058823529412,1.0)), Compose.FillPrimitive(RGBA{Float64}(0.5647058823529412,0.9333333333333333,0.5647058823529412,1.0)), Compose.FillPrimitive(RGBA{Float64}(0.5647058823529412,0.9333333333333333,0.5647058823529412,1.0))])]), 0, false, false, false, false, nothing, nothing, 0.0, Symbol(\"\")), Compose.Context(Measures.BoundingBox{Tuple{Measures.Length{:w, Float64}, Measures.Length{:h, Float64}}, Tuple{Measures.Length{:w, Float64}, Measures.Length{:h, Float64}}}((0.0w, 0.0h), (1.0w, 1.0h)), nothing, nothing, nothing, nothing, List([]), List([Compose.Form{Compose.TextPrimitive{Tuple{Measures.Length{:cx, Float64}, Measures.Length{:cy, Float64}}, Compose.Rotation{Tuple{Measures.Length{:w, Float64}, Measures.Length{:h, Float64}}}, Tuple{Measures.AbsoluteLength, Measures.AbsoluteLength}}}(Compose.TextPrimitive{Tuple{Measures.Length{:cx, Float64}, Measures.Length{:cy, Float64}}, Compose.Rotation{Tuple{Measures.Length{:w, Float64}, Measures.Length{:h, Float64}}}, Tuple{Measures.AbsoluteLength, Measures.AbsoluteLength}}[Compose.TextPrimitive{Tuple{Measures.Length{:cx, Float64}, Measures.Length{:cy, Float64}}, Compose.Rotation{Tuple{Measures.Length{:w, Float64}, Measures.Length{:h, Float64}}}, Tuple{Measures.AbsoluteLength, Measures.AbsoluteLength}}((-1.0cx, -0.4285714285714286cy), \"s₁\", Compose.HCenter(), Compose.VCenter(), Compose.Rotation{Tuple{Measures.Length{:w, Float64}, Measures.Length{:h, Float64}}}(0.0, (0.5w, 0.5h)), (0.0mm, 0.0mm)), Compose.TextPrimitive{Tuple{Measures.Length{:cx, Float64}, Measures.Length{:cy, Float64}}, Compose.Rotation{Tuple{Measures.Length{:w, Float64}, Measures.Length{:h, Float64}}}, Tuple{Measures.AbsoluteLength, Measures.AbsoluteLength}}((-1.0cx, 0.0cy), \"s₂\", Compose.HCenter(), Compose.VCenter(), Compose.Rotation{Tuple{Measures.Length{:w, Float64}, Measures.Length{:h, Float64}}}(0.0, (0.5w, 0.5h)), (0.0mm, 0.0mm)), Compose.TextPrimitive{Tuple{Measures.Length{:cx, Float64}, Measures.Length{:cy, Float64}}, Compose.Rotation{Tuple{Measures.Length{:w, Float64}, Measures.Length{:h, Float64}}}, Tuple{Measures.AbsoluteLength, Measures.AbsoluteLength}}((-1.0cx, 0.4285714285714284cy), \"s₃\", Compose.HCenter(), Compose.VCenter(), Compose.Rotation{Tuple{Measures.Length{:w, Float64}, Measures.Length{:h, Float64}}}(0.0, (0.5w, 0.5h)), (0.0mm, 0.0mm)), Compose.TextPrimitive{Tuple{Measures.Length{:cx, Float64}, Measures.Length{:cy, Float64}}, Compose.Rotation{Tuple{Measures.Length{:w, Float64}, Measures.Length{:h, Float64}}}, Tuple{Measures.AbsoluteLength, Measures.AbsoluteLength}}((-0.33333333333333337cx, -0.7142857142857142cy), \"p₁\", Compose.HCenter(), Compose.VCenter(), Compose.Rotation{Tuple{Measures.Length{:w, Float64}, Measures.Length{:h, Float64}}}(0.0, (0.5w, 0.5h)), (0.0mm, 0.0mm)), Compose.TextPrimitive{Tuple{Measures.Length{:cx, Float64}, Measures.Length{:cy, Float64}}, Compose.Rotation{Tuple{Measures.Length{:w, Float64}, Measures.Length{:h, Float64}}}, Tuple{Measures.AbsoluteLength, Measures.AbsoluteLength}}((-0.33333333333333337cx, -0.3571428571428571cy), \"p₂\", Compose.HCenter(), Compose.VCenter(), Compose.Rotation{Tuple{Measures.Length{:w, Float64}, Measures.Length{:h, Float64}}}(0.0, (0.5w, 0.5h)), (0.0mm, 0.0mm)), Compose.TextPrimitive{Tuple{Measures.Length{:cx, Float64}, Measures.Length{:cy, Float64}}, Compose.Rotation{Tuple{Measures.Length{:w, Float64}, Measures.Length{:h, Float64}}}, Tuple{Measures.AbsoluteLength, Measures.AbsoluteLength}}((-0.33333333333333337cx, 0.0cy), \"p₃\", Compose.HCenter(), Compose.VCenter(), Compose.Rotation{Tuple{Measures.Length{:w, Float64}, Measures.Length{:h, Float64}}}(0.0, (0.5w, 0.5h)), (0.0mm, 0.0mm)), Compose.TextPrimitive{Tuple{Measures.Length{:cx, Float64}, Measures.Length{:cy, Float64}}, Compose.Rotation{Tuple{Measures.Length{:w, Float64}, Measures.Length{:h, Float64}}}, Tuple{Measures.AbsoluteLength, Measures.AbsoluteLength}}((-0.33333333333333337cx, 0.3571428571428572cy), \"p₄\", Compose.HCenter(), Compose.VCenter(), Compose.Rotation{Tuple{Measures.Length{:w, Float64}, Measures.Length{:h, Float64}}}(0.0, (0.5w, 0.5h)), (0.0mm, 0.0mm)), Compose.TextPrimitive{Tuple{Measures.Length{:cx, Float64}, Measures.Length{:cy, Float64}}, Compose.Rotation{Tuple{Measures.Length{:w, Float64}, Measures.Length{:h, Float64}}}, Tuple{Measures.AbsoluteLength, Measures.AbsoluteLength}}((-0.33333333333333337cx, 0.7142857142857144cy), \"p₅\", Compose.HCenter(), Compose.VCenter(), Compose.Rotation{Tuple{Measures.Length{:w, Float64}, Measures.Length{:h, Float64}}}(0.0, (0.5w, 0.5h)), (0.0mm, 0.0mm)), Compose.TextPrimitive{Tuple{Measures.Length{:cx, Float64}, Measures.Length{:cy, Float64}}, Compose.Rotation{Tuple{Measures.Length{:w, Float64}, Measures.Length{:h, Float64}}}, Tuple{Measures.AbsoluteLength, Measures.AbsoluteLength}}((0.33333333333333326cx, -1.0cy), \"d₁\", Compose.HCenter(), Compose.VCenter(), Compose.Rotation{Tuple{Measures.Length{:w, Float64}, Measures.Length{:h, Float64}}}(0.0, (0.5w, 0.5h)), (0.0mm, 0.0mm)), Compose.TextPrimitive{Tuple{Measures.Length{:cx, Float64}, Measures.Length{:cy, Float64}}, Compose.Rotation{Tuple{Measures.Length{:w, Float64}, Measures.Length{:h, Float64}}}, Tuple{Measures.AbsoluteLength, Measures.AbsoluteLength}}((0.33333333333333326cx, -0.6666666666666667cy), \"d₂\", Compose.HCenter(), Compose.VCenter(), Compose.Rotation{Tuple{Measures.Length{:w, Float64}, Measures.Length{:h, Float64}}}(0.0, (0.5w, 0.5h)), (0.0mm, 0.0mm)), Compose.TextPrimitive{Tuple{Measures.Length{:cx, Float64}, Measures.Length{:cy, Float64}}, Compose.Rotation{Tuple{Measures.Length{:w, Float64}, Measures.Length{:h, Float64}}}, Tuple{Measures.AbsoluteLength, Measures.AbsoluteLength}}((0.33333333333333326cx, -0.33333333333333337cy), \"d₃\", Compose.HCenter(), Compose.VCenter(), Compose.Rotation{Tuple{Measures.Length{:w, Float64}, Measures.Length{:h, Float64}}}(0.0, (0.5w, 0.5h)), (0.0mm, 0.0mm)), Compose.TextPrimitive{Tuple{Measures.Length{:cx, Float64}, Measures.Length{:cy, Float64}}, Compose.Rotation{Tuple{Measures.Length{:w, Float64}, Measures.Length{:h, Float64}}}, Tuple{Measures.AbsoluteLength, Measures.AbsoluteLength}}((0.33333333333333326cx, 0.0cy), \"d₄\", Compose.HCenter(), Compose.VCenter(), Compose.Rotation{Tuple{Measures.Length{:w, Float64}, Measures.Length{:h, Float64}}}(0.0, (0.5w, 0.5h)), (0.0mm, 0.0mm)), Compose.TextPrimitive{Tuple{Measures.Length{:cx, Float64}, Measures.Length{:cy, Float64}}, Compose.Rotation{Tuple{Measures.Length{:w, Float64}, Measures.Length{:h, Float64}}}, Tuple{Measures.AbsoluteLength, Measures.AbsoluteLength}}((0.33333333333333326cx, 0.3333333333333335cy), \"d₅\", Compose.HCenter(), Compose.VCenter(), Compose.Rotation{Tuple{Measures.Length{:w, Float64}, Measures.Length{:h, Float64}}}(0.0, (0.5w, 0.5h)), (0.0mm, 0.0mm)), Compose.TextPrimitive{Tuple{Measures.Length{:cx, Float64}, Measures.Length{:cy, Float64}}, Compose.Rotation{Tuple{Measures.Length{:w, Float64}, Measures.Length{:h, Float64}}}, Tuple{Measures.AbsoluteLength, Measures.AbsoluteLength}}((0.33333333333333326cx, 0.6666666666666665cy), \"d₆\", Compose.HCenter(), Compose.VCenter(), Compose.Rotation{Tuple{Measures.Length{:w, Float64}, Measures.Length{:h, Float64}}}(0.0, (0.5w, 0.5h)), (0.0mm, 0.0mm)), Compose.TextPrimitive{Tuple{Measures.Length{:cx, Float64}, Measures.Length{:cy, Float64}}, Compose.Rotation{Tuple{Measures.Length{:w, Float64}, Measures.Length{:h, Float64}}}, Tuple{Measures.AbsoluteLength, Measures.AbsoluteLength}}((0.33333333333333326cx, 1.0cy), \"d₇\", Compose.HCenter(), Compose.VCenter(), Compose.Rotation{Tuple{Measures.Length{:w, Float64}, Measures.Length{:h, Float64}}}(0.0, (0.5w, 0.5h)), (0.0mm, 0.0mm)), Compose.TextPrimitive{Tuple{Measures.Length{:cx, Float64}, Measures.Length{:cy, Float64}}, Compose.Rotation{Tuple{Measures.Length{:w, Float64}, Measures.Length{:h, Float64}}}, Tuple{Measures.AbsoluteLength, Measures.AbsoluteLength}}((1.0cx, -0.5714285714285714cy), \"c₁\", Compose.HCenter(), Compose.VCenter(), Compose.Rotation{Tuple{Measures.Length{:w, Float64}, Measures.Length{:h, Float64}}}(0.0, (0.5w, 0.5h)), (0.0mm, 0.0mm)), Compose.TextPrimitive{Tuple{Measures.Length{:cx, Float64}, Measures.Length{:cy, Float64}}, Compose.Rotation{Tuple{Measures.Length{:w, Float64}, Measures.Length{:h, Float64}}}, Tuple{Measures.AbsoluteLength, Measures.AbsoluteLength}}((1.0cx, -0.19047619047619047cy), \"c₂\", Compose.HCenter(), Compose.VCenter(), Compose.Rotation{Tuple{Measures.Length{:w, Float64}, Measures.Length{:h, Float64}}}(0.0, (0.5w, 0.5h)), (0.0mm, 0.0mm)), Compose.TextPrimitive{Tuple{Measures.Length{:cx, Float64}, Measures.Length{:cy, Float64}}, Compose.Rotation{Tuple{Measures.Length{:w, Float64}, Measures.Length{:h, Float64}}}, Tuple{Measures.AbsoluteLength, Measures.AbsoluteLength}}((1.0cx, 0.19047619047619047cy), \"c₃\", Compose.HCenter(), Compose.VCenter(), Compose.Rotation{Tuple{Measures.Length{:w, Float64}, Measures.Length{:h, Float64}}}(0.0, (0.5w, 0.5h)), (0.0mm, 0.0mm)), Compose.TextPrimitive{Tuple{Measures.Length{:cx, Float64}, Measures.Length{:cy, Float64}}, Compose.Rotation{Tuple{Measures.Length{:w, Float64}, Measures.Length{:h, Float64}}}, Tuple{Measures.AbsoluteLength, Measures.AbsoluteLength}}((1.0cx, 0.5714285714285714cy), \"c₄\", Compose.HCenter(), Compose.VCenter(), Compose.Rotation{Tuple{Measures.Length{:w, Float64}, Measures.Length{:h, Float64}}}(0.0, (0.5w, 0.5h)), (0.0mm, 0.0mm))], Symbol(\"\"))]), List([Compose.Property{Compose.FontSizePrimitive}(Compose.FontSizePrimitive[Compose.FontSizePrimitive(4.0mm)]), Compose.Property{Compose.StrokePrimitive}(Compose.StrokePrimitive[Compose.StrokePrimitive(RGBA{Float64}(0.0,0.0,0.0,0.0))]), Compose.Property{Compose.FillPrimitive}(Compose.FillPrimitive[Compose.FillPrimitive(RGBA{Float64}(0.0,0.0,0.0,1.0))])]), 0, false, false, false, false, nothing, nothing, 0.0, Symbol(\"\"))]), List([]), List([]), 0, false, false, false, false, nothing, nothing, 0.0, Symbol(\"\"))"
      ]
     },
     "execution_count": 13,
     "metadata": {},
     "output_type": "execute_result"
    }
   ],
   "source": [
    "#3 entradas\n",
    "#5 productores\n",
    "#7 distribuidores\n",
    "#4 consumidores\n",
    "\n",
    "g = SimpleDiGraph(19);\n",
    "\n",
    "node_names = [\"s₁\", \"s₂\", \"s₃\",\n",
    "                 \"p₁\", \"p₂\", \"p₃\", \"p₄\", \"p₅\",\n",
    "                 \"d₁\", \"d₂\", \"d₃\", \"d₄\", \"d₅\", \"d₆\", \"d₇\",\n",
    "                 \"c₁\", \"c₂\", \"c₃\", \"c₄\"]\n",
    "\n",
    "node_class = [1, 1, 1,\n",
    "              2, 2, 2, 2, 2,\n",
    "              3, 3, 3, 3, 3, 3, 3,\n",
    "              4, 4, 4, 4]\n",
    "\n",
    "node_name_idx = Dict(zip(node_names, 1:length(node_names)));\n",
    "node_idx_name = Dict(zip(1:length(node_names), node_names));\n",
    "\n",
    "add_edge!(g, node_name_idx[\"s₁\"], node_name_idx[\"p₁\"])\n",
    "add_edge!(g, node_name_idx[\"s₂\"], node_name_idx[\"p₂\"])\n",
    "add_edge!(g, node_name_idx[\"s₂\"], node_name_idx[\"p₃\"])\n",
    "add_edge!(g, node_name_idx[\"s₂\"], node_name_idx[\"p₄\"])\n",
    "add_edge!(g, node_name_idx[\"s₃\"], node_name_idx[\"p₃\"])\n",
    "add_edge!(g, node_name_idx[\"s₃\"], node_name_idx[\"p₅\"])\n",
    "\n",
    "\n",
    "add_edge!(g, node_name_idx[\"p₁\"], node_name_idx[\"d₁\"])\n",
    "add_edge!(g, node_name_idx[\"p₁\"], node_name_idx[\"d₂\"])\n",
    "add_edge!(g, node_name_idx[\"p₂\"], node_name_idx[\"d₂\"])\n",
    "add_edge!(g, node_name_idx[\"p₂\"], node_name_idx[\"d₃\"])\n",
    "add_edge!(g, node_name_idx[\"p₂\"], node_name_idx[\"d₄\"])\n",
    "add_edge!(g, node_name_idx[\"p₂\"], node_name_idx[\"d₅\"])\n",
    "add_edge!(g, node_name_idx[\"p₃\"], node_name_idx[\"d₄\"])\n",
    "add_edge!(g, node_name_idx[\"p₃\"], node_name_idx[\"d₆\"])\n",
    "add_edge!(g, node_name_idx[\"p₄\"], node_name_idx[\"d₆\"])\n",
    "add_edge!(g, node_name_idx[\"p₅\"], node_name_idx[\"d₂\"])\n",
    "add_edge!(g, node_name_idx[\"p₅\"], node_name_idx[\"d₇\"])\n",
    "\n",
    "add_edge!(g, node_name_idx[\"d₁\"], node_name_idx[\"c₁\"])\n",
    "add_edge!(g, node_name_idx[\"d₁\"], node_name_idx[\"c₄\"])\n",
    "add_edge!(g, node_name_idx[\"d₂\"], node_name_idx[\"c₂\"])\n",
    "add_edge!(g, node_name_idx[\"d₃\"], node_name_idx[\"c₂\"])\n",
    "add_edge!(g, node_name_idx[\"d₄\"], node_name_idx[\"c₃\"])\n",
    "add_edge!(g, node_name_idx[\"d₅\"], node_name_idx[\"c₁\"])\n",
    "add_edge!(g, node_name_idx[\"d₆\"], node_name_idx[\"c₁\"])\n",
    "add_edge!(g, node_name_idx[\"d₆\"], node_name_idx[\"c₂\"])\n",
    "add_edge!(g, node_name_idx[\"d₇\"], node_name_idx[\"c₃\"])\n",
    "add_edge!(g, node_name_idx[\"d₇\"], node_name_idx[\"c₄\"])\n",
    "\n",
    "\"\"\"\n",
    "Stage Graph\n",
    "**Parameters**\n",
    "*g*\n",
    "a graph\n",
    "*nlist*\n",
    "Vector of Vector, Vector of node Vector for each stage.\n",
    "*δ_x*\n",
    "Distance between stages.\n",
    "*δ_y*\n",
    "Distance between nodes in a same stage.\n",
    "**Examples**\n",
    "```\n",
    "julia> g = smallgraph(:karate)\n",
    "julia> nlist = Array{Vector{Int}}(2)\n",
    "julia> nlist[1] = [1:5]\n",
    "julia> nlist[2] = [6:num_vertiecs(g)]\n",
    "julia> locs_x, locs_y = shell_layout(g, nlist)\n",
    "```\n",
    "\"\"\"\n",
    "function stage_layout(g, nlist::Union{Nothing, Vector{Vector{Int}}} = nothing, δ_x = 1.0, δ_y = 0.2)\n",
    "    if nv(g) == 1\n",
    "        return [0.0], [0.0]\n",
    "    end\n",
    "    if nlist == nothing\n",
    "        nlist = [collect(1:nv(g))]\n",
    "    end\n",
    "    pos_x = 0.0\n",
    "    if length(nlist[1]) > 1\n",
    "        pos_x = 1.0\n",
    "    end\n",
    "    locs_x = Float64[]\n",
    "    locs_y = Float64[]\n",
    "    for nodes in nlist\n",
    "        n = length(nodes)\n",
    "        pos_y = range(-n*δ_y/2, stop=n*δ_y/2, length=n)\n",
    "        append!(locs_y, pos_y)\n",
    "        append!(locs_x, repeat([pos_x],n))\n",
    "        pos_x += δ_x\n",
    "    end\n",
    "    return locs_x, locs_y\n",
    "end\n",
    "\n",
    "nlist = Vector{Vector{Int}}(undef, 4) # 4 shells\n",
    "nlist[1] = 1:3 # first shell\n",
    "nlist[2] = 4:8 # second shell\n",
    "nlist[3] = 9:15 # first shell\n",
    "nlist[4] = 16:nv(g) # second shell\n",
    "locs_x, locs_y = stage_layout(g, nlist)\n",
    "\n",
    "nodecolor = [colorant\"orange\", colorant\"lightblue\", colorant\"yellow\", colorant\"lightgreen\"]\n",
    "nodefillc = nodecolor[node_class]\n",
    "\n",
    "\n",
    "gplot(g, locs_x, locs_y, nodelabel=node_names, nodefillc = nodefillc)"
   ]
  },
  {
   "cell_type": "code",
   "execution_count": null,
   "id": "regional-wireless",
   "metadata": {},
   "outputs": [],
   "source": []
  },
  {
   "cell_type": "markdown",
   "id": "egyptian-estate",
   "metadata": {},
   "source": [
    "# Algoritmo genético distribuido en GPU\n",
    "\n",
    "El correcto funcionamiento y velocidad depende del uso de la memoria global dentro del GPU.\n",
    "\n",
    "Dados $k$ trabajadores, se dividirá la tarea de cálculo de métrica de optimización, cruza y mutación.\n",
    "\n",
    "1. Se inicializa la población $P$ con $n$ individuos. Cada individuo está representado por su cromosoma ($c_i$), y se inicializa con un número aleatorio $r_i \\sim U[1,k]$.\n",
    "2. Cada trabajador tiene un índice $j \\in [1,k]$. El trabajador realiza las siguientes tareas sobre los individuos con un número aleatorio $r_i = j$:\n",
    " - Se calcula el desempeño del individuo $i$ para una métrica $m(c_1$).\n",
    " - Cada individuo se reproduce o no con una probabilidad proporcional a su desempeño en la métrica.\n",
    " - El cruce de aquellos individuos del trabajador que se consideran aptos para reproducirse se realiza con una permutación aleatoria de los seleccionados. Si es un número impar, se elimina el último de la permutación del pool.\n",
    " - Se realiza el cruce entre pares de individuos de la permutación aleatoria, realizando una mutación con probabilidad $p_m$.\n",
    " -  Los nuevos individuos reemplazan la subpoblación asignada al trabajador $j$\n",
    " -  El trabajador hace una nueva asignación de $r_i \\sim U[1,k]$ para su subpoblación. Esta será la partición aleatoria de indivudos hacia trabajadores en la siguiente iteración.\n",
    "\n",
    "3. Cada trabajador se asegura de que los cambios a cromosomas sean escritos a la memoria global. Cuando todos los trabajadores finalizan, se inicia la sigueinte iteración. La convergencia del algoritmo se calcula de manera individual por cada trabajador.\n",
    "\n",
    "Este algoritmo es compatible con el muy conocido enfoque de islas para paralelización de algoritmos genéticos."
   ]
  },
  {
   "cell_type": "markdown",
   "id": "structured-madagascar",
   "metadata": {},
   "source": [
    "# Algoritmo de cúmulo de partículas distribuidos en el GPU"
   ]
  },
  {
   "cell_type": "markdown",
   "id": "accepted-perception",
   "metadata": {},
   "source": [
    "El correcto funcionamiento y velocidad depende del uso de la memoria global dentro del GPU, o de operaciones de broadcast entre los trabajadores. Las soluciones (partículas) podrán vivir en la memoria local del SM o en memoria global.\n",
    "\n",
    "Dados $k$ trabajadores, se dividirá la simulación de las $i$ partículas en el algoritmo. Estas partículas se mantendrán como \"propiedad\" de su trabajador hasta el fin del algoritmo.\n",
    "\n",
    "1. Cada trabajador realizará una inicialización aleatoria de posición de la solución en el panorama del dominio, así como la dirección de exploración en el mismo.\n",
    "2. Se realizará el cálculo de fitness para cada solución.\n",
    "3. Se almacenarán:\n",
    "    - La mejor solución global por iteración. $X_b$\n",
    "    - La métrica asociada a la mejor solución global.\n",
    "    - La mejor solución personal (por cada partícula). $X_p$\n",
    "    - La métrica asociada a la mejor solución personal (por cada partícula).\n",
    "4. Se obtendrán las soluciones propuestas para la siguiente iteración utilizando la fórmula:\n",
    "\n",
    "$$X_{t+1} = X_t + V_t$$\n",
    "\n",
    "$$V_t = m \\cdot V_{t-1} + c_1\\cdot r_1 \\cdot (X_p - X_t) + c_2 \\cdot r_2 \\cdot (X_b - X_t)$$\n",
    "\n",
    "En lo cual $r_1$ y $r_2$ son v.i.i.d.s en un soporte $[0,1]$, y $m$, $c_1$ y $c_2$ son hiperparámetros constantes al algoritmo.\n",
    "\n",
    "Estos pasos se repetirán hasta la convergencia."
   ]
  },
  {
   "cell_type": "markdown",
   "id": "compressed-telescope",
   "metadata": {},
   "source": [
    "# Algoritmo de cúmulo de partículas binario distribuido en el GPU\n",
    "\n",
    "Las soluciones a un problema de optimización están representadas por un vector $k$-dimensional de soporte binario. A cada solución se le conocerá como una partícula, y esta se modificará iterativamente.\n",
    "\n",
    "a) Se inicializará la partícula $X_i = [X_{i1}, X_{i2}, ...,  X_{ik}]$ aleatoriamente.\n",
    "\n",
    "b) En cada it(eración, hasta el criterio de paro o la convergencia:\n",
    "\n",
    "c) Se realizará el cálculo de la función a optimizar evaluada la partícula $X_i(t)$, $m(X_i(t))$. En caso de que se tenga un mejor desempeño que en alguna iteración anterior de esta partícula, se almacenará $Y_i = X_i(t)$ y $M_i = m(X_i(t))$.\n",
    "\n",
    "d). Se obtendrá la mejor solución a nivel global entre todas las partículas, así como su evaluación: $Y_b$ y $M_b$.\n",
    "\n",
    "e) Se obtendrán $V_i(t)$ y $X_{i}(t+1)$ de la siguiente forma:\n",
    "\n",
    "$$V_i(t) = [V_{i1}(t), V_{i2}(t), ..., V_{ik}(t)]$$\n",
    "\n",
    "$$V_{ij}(t) = \\nu \\cdot V_{ij}(t-1) + c_1 \\cdot r_1 \\cdot [Y_{ij} - X_{ij}(t)] + c_2 \\cdot r_2 \\cdot [Y_{bj} - X_{ij}(t)]$$\n",
    "\n",
    "$$X_{ij}(t+1) = \n",
    "\\begin{cases} \n",
    "      0 & \\tilde{r} > S(V_{ij}(t)) \\\\\n",
    "      1 & \\tilde{r} \\leq S(V_{ij}(t))\n",
    "\\end{cases}\n",
    "$$\n",
    "\n",
    "Donde $\\nu$, $c_1$ y $c_2$ son constantes reales positivas, $r_1$, $r_2$ y $\\tilde{r}$ son VAIID $\\sim U_{[0,1]}$ y $S$ es la función sigmoide.\n"
   ]
  },
  {
   "cell_type": "markdown",
   "id": "altered-championship",
   "metadata": {},
   "source": [
    "# Planteamiento del problema"
   ]
  },
  {
   "cell_type": "markdown",
   "id": "broad-facing",
   "metadata": {},
   "source": [
    "## ¿Cómo representar el problema?\n",
    "\n",
    "Se pueden abrir plantas y distribuidores.\n",
    "Se concatenan en un vector binario.\n",
    "\n",
    "#### Restricciones:\n",
    " - Existen $n(p)$ plantas máximas que se pueden abrir.\n",
    " - Existen $n(d)$ distribuidores máximos que se pueden abrir.\n",
    " - La capacidad de las plantas debe ser mayor o igual a la demanda de los consumidores.\n",
    " - La capacidad de los distribuidores debe ser mayor o igual a la demanda de los consumidores.\n",
    " \n",
    " Si alguna de estas se incumple, la solución se considera **inválida**. La penalización para una partícula inválida será su regeneración (hasta que se genere una solución válida).\n",
    "\n",
    "#### Minimización:\n",
    " - Se desea minimizar el costo total de la operación, definido como el costo de la apertura de las aristas sumando al costo unitario de transporte entre aristas por la cantidad de producto que fluye por entre estas. Esto se plantea como un problema de optimización lineal en el cual se encuentra el costo del sistema mínimo que cumpla con las restricciones de demanda de los consumidores."
   ]
  },
  {
   "cell_type": "markdown",
   "id": "prerequisite-depression",
   "metadata": {},
   "source": [
    "# CUDA"
   ]
  },
  {
   "cell_type": "code",
   "execution_count": 64,
   "id": "diverse-criterion",
   "metadata": {},
   "outputs": [],
   "source": [
    "function random_particles_CUDA(k, n)\n",
    "    CUDA.rand(Bool, (k,n))\n",
    "end;"
   ]
  },
  {
   "cell_type": "code",
   "execution_count": 65,
   "id": "mature-scottish",
   "metadata": {},
   "outputs": [
    {
     "data": {
      "text/plain": [
       "metric_CUDA (generic function with 1 method)"
      ]
     },
     "execution_count": 65,
     "metadata": {},
     "output_type": "execute_result"
    }
   ],
   "source": [
    "function metric_CUDA(X, W, M_t)\n",
    "    idx = threadIdx().x\n",
    "    features = size(X)[1]\n",
    "    \n",
    "    m = 0\n",
    "    \n",
    "    for i in 1:features\n",
    "        m += X[i,idx] * W[i]\n",
    "    end\n",
    "    \n",
    "    M_t[idx] = m\n",
    "    \n",
    "    return\n",
    "end"
   ]
  },
  {
   "cell_type": "code",
   "execution_count": 66,
   "id": "taken-origin",
   "metadata": {},
   "outputs": [
    {
     "data": {
      "text/plain": [
       "10×16 CuArray{Bool, 2}:\n",
       " 1  0  0  1  1  1  0  0  0  1  1  0  0  0  0  1\n",
       " 0  0  1  0  1  1  1  0  1  0  0  1  1  0  1  0\n",
       " 1  1  1  1  1  1  0  1  0  0  0  0  0  0  0  0\n",
       " 1  1  1  0  1  0  0  1  1  0  1  0  1  0  1  1\n",
       " 1  1  1  0  0  1  1  0  0  1  1  1  1  1  0  0\n",
       " 1  1  1  1  0  1  0  1  0  1  0  1  1  1  1  0\n",
       " 0  0  1  0  1  0  1  1  0  0  1  1  0  1  1  1\n",
       " 1  0  1  0  1  1  1  0  1  1  1  0  1  1  0  1\n",
       " 1  1  0  0  1  1  1  0  1  0  0  1  1  1  1  1\n",
       " 0  0  0  1  1  1  0  0  1  1  0  1  1  0  0  0"
      ]
     },
     "execution_count": 66,
     "metadata": {},
     "output_type": "execute_result"
    }
   ],
   "source": [
    "X = random_particles_CUDA(k, n)"
   ]
  },
  {
   "cell_type": "code",
   "execution_count": 67,
   "id": "athletic-halloween",
   "metadata": {},
   "outputs": [
    {
     "data": {
      "text/plain": [
       "10×16 CuArray{Bool, 2}:\n",
       " 1  0  0  1  1  1  0  0  0  1  1  0  0  0  0  1\n",
       " 0  0  1  0  1  1  1  0  1  0  0  1  1  0  1  0\n",
       " 1  1  1  1  1  1  0  1  0  0  0  0  0  0  0  0\n",
       " 1  1  1  0  1  0  0  1  1  0  1  0  1  0  1  1\n",
       " 1  1  1  0  0  1  1  0  0  1  1  1  1  1  0  0\n",
       " 1  1  1  1  0  1  0  1  0  1  0  1  1  1  1  0\n",
       " 0  0  1  0  1  0  1  1  0  0  1  1  0  1  1  1\n",
       " 1  0  1  0  1  1  1  0  1  1  1  0  1  1  0  1\n",
       " 1  1  0  0  1  1  1  0  1  0  0  1  1  1  1  1\n",
       " 0  0  0  1  1  1  0  0  1  1  0  1  1  0  0  0"
      ]
     },
     "execution_count": 67,
     "metadata": {},
     "output_type": "execute_result"
    }
   ],
   "source": [
    "Y = similar(X)\n",
    "copyto!(Y, X)"
   ]
  },
  {
   "cell_type": "code",
   "execution_count": 68,
   "id": "satisfactory-breathing",
   "metadata": {},
   "outputs": [
    {
     "data": {
      "text/plain": [
       "10×16 CuArray{Float32, 2}:\n",
       " 0.0  0.0  0.0  0.0  0.0  0.0  0.0  0.0  …  0.0  0.0  0.0  0.0  0.0  0.0  0.0\n",
       " 0.0  0.0  0.0  0.0  0.0  0.0  0.0  0.0     0.0  0.0  0.0  0.0  0.0  0.0  0.0\n",
       " 0.0  0.0  0.0  0.0  0.0  0.0  0.0  0.0     0.0  0.0  0.0  0.0  0.0  0.0  0.0\n",
       " 0.0  0.0  0.0  0.0  0.0  0.0  0.0  0.0     0.0  0.0  0.0  0.0  0.0  0.0  0.0\n",
       " 0.0  0.0  0.0  0.0  0.0  0.0  0.0  0.0     0.0  0.0  0.0  0.0  0.0  0.0  0.0\n",
       " 0.0  0.0  0.0  0.0  0.0  0.0  0.0  0.0  …  0.0  0.0  0.0  0.0  0.0  0.0  0.0\n",
       " 0.0  0.0  0.0  0.0  0.0  0.0  0.0  0.0     0.0  0.0  0.0  0.0  0.0  0.0  0.0\n",
       " 0.0  0.0  0.0  0.0  0.0  0.0  0.0  0.0     0.0  0.0  0.0  0.0  0.0  0.0  0.0\n",
       " 0.0  0.0  0.0  0.0  0.0  0.0  0.0  0.0     0.0  0.0  0.0  0.0  0.0  0.0  0.0\n",
       " 0.0  0.0  0.0  0.0  0.0  0.0  0.0  0.0     0.0  0.0  0.0  0.0  0.0  0.0  0.0"
      ]
     },
     "execution_count": 68,
     "metadata": {},
     "output_type": "execute_result"
    }
   ],
   "source": [
    "V = CUDA.zeros((k,n))"
   ]
  },
  {
   "cell_type": "code",
   "execution_count": 69,
   "id": "advance-truth",
   "metadata": {},
   "outputs": [
    {
     "data": {
      "text/plain": [
       "1×10 CuArray{Float64, 2}:\n",
       " 2.0  0.3  -1.0  -4.0  5.0  7.0  60.0  -1.0  -1000.0  9.0"
      ]
     },
     "execution_count": 69,
     "metadata": {},
     "output_type": "execute_result"
    }
   ],
   "source": [
    "W = CuArray([2.0 0.3 -1.0 -4.0 5.0 7.0 60.0 -1.0 -1000.0 9.0])"
   ]
  },
  {
   "cell_type": "code",
   "execution_count": 70,
   "id": "valid-methodology",
   "metadata": {},
   "outputs": [
    {
     "data": {
      "text/plain": [
       "16-element CuArray{Float32, 1}:\n",
       " 0.0\n",
       " 0.0\n",
       " 0.0\n",
       " 0.0\n",
       " 0.0\n",
       " 0.0\n",
       " 0.0\n",
       " 0.0\n",
       " 0.0\n",
       " 0.0\n",
       " 0.0\n",
       " 0.0\n",
       " 0.0\n",
       " 0.0\n",
       " 0.0\n",
       " 0.0"
      ]
     },
     "execution_count": 70,
     "metadata": {},
     "output_type": "execute_result"
    }
   ],
   "source": [
    "M = CUDA.zeros(n)"
   ]
  },
  {
   "cell_type": "code",
   "execution_count": 71,
   "id": "developed-ethnic",
   "metadata": {},
   "outputs": [],
   "source": [
    "@cuda threads=n metric_CUDA(X, W, M);"
   ]
  },
  {
   "cell_type": "code",
   "execution_count": 72,
   "id": "described-complaint",
   "metadata": {},
   "outputs": [
    {
     "data": {
      "text/plain": [
       "16-element CuArray{Float32, 1}:\n",
       " -992.0\n",
       " -993.0\n",
       "   66.3\n",
       "   17.0\n",
       " -934.7\n",
       " -978.7\n",
       " -935.7\n",
       "   62.0\n",
       " -995.7\n",
       "   22.0\n",
       "   62.0\n",
       " -918.7\n",
       " -983.7\n",
       " -929.0\n",
       " -936.7\n",
       " -943.0"
      ]
     },
     "execution_count": 72,
     "metadata": {},
     "output_type": "execute_result"
    }
   ],
   "source": [
    "M"
   ]
  },
  {
   "cell_type": "code",
   "execution_count": 73,
   "id": "refined-template",
   "metadata": {},
   "outputs": [],
   "source": [
    "M_t = CUDA.zeros(n);"
   ]
  },
  {
   "cell_type": "code",
   "execution_count": 74,
   "id": "skilled-johnston",
   "metadata": {},
   "outputs": [
    {
     "data": {
      "text/plain": [
       "improvement_CUDA (generic function with 1 method)"
      ]
     },
     "execution_count": 74,
     "metadata": {},
     "output_type": "execute_result"
    }
   ],
   "source": [
    "function improvement_CUDA(M, M_t, X, Y)\n",
    "    idx = threadIdx().x\n",
    "    \n",
    "    if M_t[idx] <= M[idx]\n",
    "        return\n",
    "    end\n",
    "    \n",
    "    M[idx] = M_t[idx]\n",
    "    \n",
    "    \n",
    "    features = size(X)[1]\n",
    "    \n",
    "    for i in 1:features\n",
    "        Y[i, idx] = X[i, idx]\n",
    "    end\n",
    "    \n",
    "    return\n",
    "end"
   ]
  },
  {
   "cell_type": "code",
   "execution_count": 75,
   "id": "civic-sunday",
   "metadata": {},
   "outputs": [],
   "source": [
    "#@cuda threads=n improvement_CUDA(M, M_t, X, Y);"
   ]
  },
  {
   "cell_type": "code",
   "execution_count": 76,
   "id": "quiet-vinyl",
   "metadata": {},
   "outputs": [],
   "source": [
    "#M_b, M_bidx = findmax(M)"
   ]
  },
  {
   "cell_type": "code",
   "execution_count": 77,
   "id": "celtic-safety",
   "metadata": {},
   "outputs": [],
   "source": [
    "#M_bidx"
   ]
  },
  {
   "cell_type": "code",
   "execution_count": 78,
   "id": "included-accountability",
   "metadata": {},
   "outputs": [
    {
     "data": {
      "text/plain": [
       "speed_candidates_CUDA (generic function with 1 method)"
      ]
     },
     "execution_count": 78,
     "metadata": {},
     "output_type": "execute_result"
    }
   ],
   "source": [
    "function speed_candidates_CUDA(X, Y, V, M_bidx, ν, c_1, c_2)\n",
    "    idx = threadIdx().x\n",
    "    \n",
    "    features = size(X)[1]\n",
    "    \n",
    "    for i in 1:features\n",
    "        v = (ν * V[i, idx]) + (c_1 * rand() * (Y[i, idx] - X[i, idx])) + (c_2 * rand() * (Y[i, M_bidx] - X[i, idx]))\n",
    "\n",
    "        X[i, idx] = rand() < 1/(1 + CUDA.exp(-v))\n",
    "        V[i, idx] = v\n",
    "    end\n",
    "    \n",
    "    return\n",
    "end"
   ]
  },
  {
   "cell_type": "code",
   "execution_count": null,
   "id": "ready-joseph",
   "metadata": {},
   "outputs": [],
   "source": [
    "Y_b = NaN\n",
    "M_b = NaN\n",
    "M_bidx = NaN\n",
    "\n",
    "for i in 1:iterations\n",
    "    \n",
    "    #Obtengo las métricas de las partículas\n",
    "    @cuda threads=n metric_CUDA(X, W, M_t)\n",
    "\n",
    "    #Actualizo las mejores métricas personales y actualizo las mejores soluciones personales\n",
    "    @cuda threads=n improvement_CUDA(M, M_t, X, Y)\n",
    "    \n",
    "    #Encuentro la mejor métrica global así como su índice en M\n",
    "    M_b, M_bidx = findmax(M)\n",
    "\n",
    "    #Encuentro la velocidad (probabilidad de cero o uno) y propongo nuevos candidatos\n",
    "    @cuda threads=n speed_candidates_CUDA(X, Y, V, M_bidx, ν, c_1, c_2)\n",
    "    \n",
    "    if i % 10 == 1\n",
    "        print(M_b)\n",
    "        print(\"\\n\")\n",
    "    end\n",
    "    #Pruebas de convergencia faltan\n",
    "end"
   ]
  },
  {
   "cell_type": "code",
   "execution_count": null,
   "id": "peripheral-halloween",
   "metadata": {},
   "outputs": [],
   "source": [
    "M_b"
   ]
  },
  {
   "cell_type": "code",
   "execution_count": null,
   "id": "american-judgment",
   "metadata": {},
   "outputs": [],
   "source": [
    "Y_b = Y[:,M_bidx]"
   ]
  },
  {
   "cell_type": "code",
   "execution_count": null,
   "id": "continental-supplier",
   "metadata": {},
   "outputs": [],
   "source": [
    "#Métrica de prueba. Obviamente la solución óptima es [1 1 0 0 1 1 1 0 0 1]"
   ]
  }
 ],
 "metadata": {
  "kernelspec": {
   "display_name": "Julia 1.6.1",
   "language": "julia",
   "name": "julia-1.6"
  },
  "language_info": {
   "file_extension": ".jl",
   "mimetype": "application/julia",
   "name": "julia",
   "version": "1.6.1"
  }
 },
 "nbformat": 4,
 "nbformat_minor": 5
}
